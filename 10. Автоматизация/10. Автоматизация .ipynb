{
 "cells": [
  {
   "cell_type": "markdown",
   "id": "c0a85824",
   "metadata": {},
   "source": [
    "# Создание файлa выгруженных данных для дашборда  "
   ]
  },
  {
   "cell_type": "markdown",
   "id": "17940b57",
   "metadata": {},
   "source": [
    "## 1. Загрузка данных"
   ]
  },
  {
   "cell_type": "code",
   "execution_count": 25,
   "id": "cefa33a3",
   "metadata": {},
   "outputs": [],
   "source": [
    "import pandas as pd\n",
    "from sqlalchemy import create_engine\n",
    "from matplotlib import pyplot as plt"
   ]
  },
  {
   "cell_type": "code",
   "execution_count": 1,
   "id": "38ad9111",
   "metadata": {},
   "outputs": [
    {
     "name": "stdout",
     "output_type": "stream",
     "text": [
      "Requirement already satisfied: psycopg2 in c:\\users\\79858\\anaconda3\\lib\\site-packages (2.9.3)\n",
      "Note: you may need to restart the kernel to use updated packages.\n"
     ]
    }
   ],
   "source": [
    "pip install psycopg2"
   ]
  },
  {
   "cell_type": "code",
   "execution_count": 2,
   "id": "26a9ae86",
   "metadata": {},
   "outputs": [],
   "source": [
    "\n",
    "\n",
    "db_config = {'user': 'praktikum_student', # имя пользователя\n",
    "            'pwd': 'Sdf4$2;d-d30pp', # пароль\n",
    "            'host': 'rc1b-wcoijxj3yxfsf3fs.mdb.yandexcloud.net',\n",
    "            'port': 6432, # порт подключения\n",
    "            'db': 'data-analyst-zen-project-db'} # название базы данных\n",
    "\n",
    "connection_string = 'postgresql://{}:{}@{}:{}/{}'.format(db_config['user'],\n",
    "                                                db_config['pwd'],\n",
    "                                                db_config['host'],\n",
    "                                                db_config['port'],\n",
    "                                                db_config['db'])\n",
    "\n",
    "engine = create_engine(connection_string) "
   ]
  },
  {
   "cell_type": "code",
   "execution_count": 3,
   "id": "077be288",
   "metadata": {},
   "outputs": [],
   "source": [
    "query = ''' SELECT *\n",
    "            FROM dash_visits\n",
    "        '''"
   ]
  },
  {
   "cell_type": "code",
   "execution_count": 4,
   "id": "09a418b5",
   "metadata": {},
   "outputs": [],
   "source": [
    "dash_visits = pd.io.sql.read_sql(query, con = engine) "
   ]
  },
  {
   "cell_type": "code",
   "execution_count": 30,
   "id": "c69faa1b",
   "metadata": {},
   "outputs": [
    {
     "data": {
      "text/html": [
       "<div>\n",
       "<style scoped>\n",
       "    .dataframe tbody tr th:only-of-type {\n",
       "        vertical-align: middle;\n",
       "    }\n",
       "\n",
       "    .dataframe tbody tr th {\n",
       "        vertical-align: top;\n",
       "    }\n",
       "\n",
       "    .dataframe thead th {\n",
       "        text-align: right;\n",
       "    }\n",
       "</style>\n",
       "<table border=\"1\" class=\"dataframe\">\n",
       "  <thead>\n",
       "    <tr style=\"text-align: right;\">\n",
       "      <th></th>\n",
       "      <th>record_id</th>\n",
       "      <th>item_topic</th>\n",
       "      <th>source_topic</th>\n",
       "      <th>age_segment</th>\n",
       "      <th>dt</th>\n",
       "      <th>visits</th>\n",
       "    </tr>\n",
       "  </thead>\n",
       "  <tbody>\n",
       "    <tr>\n",
       "      <th>0</th>\n",
       "      <td>1040597</td>\n",
       "      <td>Деньги</td>\n",
       "      <td>Авто</td>\n",
       "      <td>18-25</td>\n",
       "      <td>2019-09-24 18:32:00</td>\n",
       "      <td>3</td>\n",
       "    </tr>\n",
       "    <tr>\n",
       "      <th>1</th>\n",
       "      <td>1040598</td>\n",
       "      <td>Деньги</td>\n",
       "      <td>Авто</td>\n",
       "      <td>18-25</td>\n",
       "      <td>2019-09-24 18:35:00</td>\n",
       "      <td>1</td>\n",
       "    </tr>\n",
       "    <tr>\n",
       "      <th>2</th>\n",
       "      <td>1040599</td>\n",
       "      <td>Деньги</td>\n",
       "      <td>Авто</td>\n",
       "      <td>18-25</td>\n",
       "      <td>2019-09-24 18:54:00</td>\n",
       "      <td>4</td>\n",
       "    </tr>\n",
       "    <tr>\n",
       "      <th>3</th>\n",
       "      <td>1040600</td>\n",
       "      <td>Деньги</td>\n",
       "      <td>Авто</td>\n",
       "      <td>18-25</td>\n",
       "      <td>2019-09-24 18:55:00</td>\n",
       "      <td>17</td>\n",
       "    </tr>\n",
       "    <tr>\n",
       "      <th>4</th>\n",
       "      <td>1040601</td>\n",
       "      <td>Деньги</td>\n",
       "      <td>Авто</td>\n",
       "      <td>18-25</td>\n",
       "      <td>2019-09-24 18:56:00</td>\n",
       "      <td>27</td>\n",
       "    </tr>\n",
       "  </tbody>\n",
       "</table>\n",
       "</div>"
      ],
      "text/plain": [
       "   record_id item_topic source_topic age_segment                  dt  visits\n",
       "0    1040597     Деньги         Авто       18-25 2019-09-24 18:32:00       3\n",
       "1    1040598     Деньги         Авто       18-25 2019-09-24 18:35:00       1\n",
       "2    1040599     Деньги         Авто       18-25 2019-09-24 18:54:00       4\n",
       "3    1040600     Деньги         Авто       18-25 2019-09-24 18:55:00      17\n",
       "4    1040601     Деньги         Авто       18-25 2019-09-24 18:56:00      27"
      ]
     },
     "execution_count": 30,
     "metadata": {},
     "output_type": "execute_result"
    }
   ],
   "source": [
    "dash_visits.head()"
   ]
  },
  {
   "cell_type": "markdown",
   "id": "7f62fa15",
   "metadata": {},
   "source": [
    "## 2. Предобработка данных"
   ]
  },
  {
   "cell_type": "code",
   "execution_count": 6,
   "id": "942e0471",
   "metadata": {},
   "outputs": [
    {
     "name": "stdout",
     "output_type": "stream",
     "text": [
      "<class 'pandas.core.frame.DataFrame'>\n",
      "RangeIndex: 30745 entries, 0 to 30744\n",
      "Data columns (total 6 columns):\n",
      " #   Column        Non-Null Count  Dtype         \n",
      "---  ------        --------------  -----         \n",
      " 0   record_id     30745 non-null  int64         \n",
      " 1   item_topic    30745 non-null  object        \n",
      " 2   source_topic  30745 non-null  object        \n",
      " 3   age_segment   30745 non-null  object        \n",
      " 4   dt            30745 non-null  datetime64[ns]\n",
      " 5   visits        30745 non-null  int64         \n",
      "dtypes: datetime64[ns](1), int64(2), object(3)\n",
      "memory usage: 1.4+ MB\n"
     ]
    }
   ],
   "source": [
    "dash_visits.info()"
   ]
  },
  {
   "cell_type": "code",
   "execution_count": 7,
   "id": "92bfcace",
   "metadata": {},
   "outputs": [
    {
     "data": {
      "text/plain": [
       "Отношения             1536\n",
       "Интересные факты      1535\n",
       "Наука                 1505\n",
       "Подборки              1456\n",
       "Полезные советы       1424\n",
       "Общество              1422\n",
       "Россия                1385\n",
       "История               1363\n",
       "Семья                 1287\n",
       "Путешествия           1247\n",
       "Деньги                1234\n",
       "Женщины               1230\n",
       "Дети                  1229\n",
       "Туризм                1206\n",
       "Здоровье              1203\n",
       "Красота               1193\n",
       "Культура              1160\n",
       "Юмор                  1129\n",
       "Искусство             1119\n",
       "Рассказы              1109\n",
       "Психология            1056\n",
       "Скандалы              1023\n",
       "Знаменитости           976\n",
       "Женская психология     914\n",
       "Шоу                    804\n",
       "Name: item_topic, dtype: int64"
      ]
     },
     "execution_count": 7,
     "metadata": {},
     "output_type": "execute_result"
    }
   ],
   "source": [
    "dash_visits['item_topic'].value_counts()"
   ]
  },
  {
   "cell_type": "code",
   "execution_count": 12,
   "id": "0a06a92d",
   "metadata": {},
   "outputs": [
    {
     "data": {
      "text/plain": [
       "30745"
      ]
     },
     "execution_count": 12,
     "metadata": {},
     "output_type": "execute_result"
    }
   ],
   "source": [
    "dash_visits['record_id'].nunique()"
   ]
  },
  {
   "cell_type": "code",
   "execution_count": 13,
   "id": "c63823ce",
   "metadata": {},
   "outputs": [
    {
     "data": {
      "text/plain": [
       "Семейные отношения    1822\n",
       "Россия                1687\n",
       "Знаменитости          1650\n",
       "Полезные советы       1578\n",
       "Путешествия           1563\n",
       "Кино                  1505\n",
       "Дети                  1459\n",
       "История               1437\n",
       "Семья                 1405\n",
       "Одежда                1379\n",
       "Здоровье              1243\n",
       "Искусство             1228\n",
       "Авто                  1077\n",
       "Психология            1055\n",
       "Сад и дача            1036\n",
       "Политика              1024\n",
       "Спорт                 1007\n",
       "Сделай сам             995\n",
       "Ремонт                 985\n",
       "Деньги                 973\n",
       "Еда                    912\n",
       "Интерьеры              809\n",
       "Строительство          758\n",
       "Музыка                 750\n",
       "Технологии             741\n",
       "Финансы                667\n",
       "Name: source_topic, dtype: int64"
      ]
     },
     "execution_count": 13,
     "metadata": {},
     "output_type": "execute_result"
    }
   ],
   "source": [
    "dash_visits['source_topic'].value_counts()"
   ]
  },
  {
   "cell_type": "code",
   "execution_count": 19,
   "id": "3278891d",
   "metadata": {},
   "outputs": [
    {
     "data": {
      "text/plain": [
       "18-25    7056\n",
       "26-30    5875\n",
       "31-35    5552\n",
       "36-40    5105\n",
       "41-45    3903\n",
       "45+      3254\n",
       "Name: age_segment, dtype: int64"
      ]
     },
     "execution_count": 19,
     "metadata": {},
     "output_type": "execute_result"
    }
   ],
   "source": [
    "dash_visits['age_segment'].value_counts()"
   ]
  },
  {
   "cell_type": "code",
   "execution_count": 28,
   "id": "a0e3c49c",
   "metadata": {},
   "outputs": [
    {
     "data": {
      "image/png": "[encoded data removed]",
      "text/plain": [
       "<Figure size 1224x360 with 1 Axes>"
      ]
     },
     "metadata": {
      "needs_background": "light"
     },
     "output_type": "display_data"
    }
   ],
   "source": [
    "dash_visits['dt'].hist(figsize = (17,5))\n",
    "plt.title('Гистограмма по дате и времени')\n",
    "plt.xlabel('Дата')\n",
    "plt.ylabel('Количество записей')\n",
    "plt.show()"
   ]
  },
  {
   "cell_type": "markdown",
   "id": "7e87a7dd",
   "metadata": {},
   "source": [
    "У нас данные только за один день"
   ]
  },
  {
   "cell_type": "code",
   "execution_count": 9,
   "id": "2a0e7920",
   "metadata": {},
   "outputs": [
    {
     "data": {
      "text/plain": [
       "count    30745.000000\n",
       "mean        10.089673\n",
       "std         19.727601\n",
       "min          1.000000\n",
       "25%          1.000000\n",
       "50%          3.000000\n",
       "75%         10.000000\n",
       "max        371.000000\n",
       "Name: visits, dtype: float64"
      ]
     },
     "execution_count": 9,
     "metadata": {},
     "output_type": "execute_result"
    }
   ],
   "source": [
    "dash_visits['visits'].describe()"
   ]
  },
  {
   "cell_type": "markdown",
   "id": "bf168b1e",
   "metadata": {},
   "source": [
    "Здесь мы видим минимальное, максимальное, среднее и т.д. число визитов "
   ]
  },
  {
   "cell_type": "code",
   "execution_count": 31,
   "id": "05064ae5",
   "metadata": {},
   "outputs": [],
   "source": [
    "#загружаю данные на свой пк\n",
    "#dash_visits.to_csv(r'C:\\scripts\\test\\Dash_visits.csv', index = False)"
   ]
  },
  {
   "cell_type": "code",
   "execution_count": null,
   "id": "6e1ea7e8",
   "metadata": {},
   "outputs": [],
   "source": []
  },
  {
   "cell_type": "code",
   "execution_count": 32,
   "id": "8c5e3db8",
   "metadata": {},
   "outputs": [],
   "source": [
    "query = ''' SELECT *\n",
    "            FROM log_raw\n",
    "        '''"
   ]
  },
  {
   "cell_type": "code",
   "execution_count": 33,
   "id": "34b95b67",
   "metadata": {},
   "outputs": [],
   "source": [
    "log_raw = pd.io.sql.read_sql(query, con = engine) "
   ]
  },
  {
   "cell_type": "code",
   "execution_count": 35,
   "id": "9feca348",
   "metadata": {},
   "outputs": [
    {
     "data": {
      "text/html": [
       "<div>\n",
       "<style scoped>\n",
       "    .dataframe tbody tr th:only-of-type {\n",
       "        vertical-align: middle;\n",
       "    }\n",
       "\n",
       "    .dataframe tbody tr th {\n",
       "        vertical-align: top;\n",
       "    }\n",
       "\n",
       "    .dataframe thead th {\n",
       "        text-align: right;\n",
       "    }\n",
       "</style>\n",
       "<table border=\"1\" class=\"dataframe\">\n",
       "  <thead>\n",
       "    <tr style=\"text-align: right;\">\n",
       "      <th></th>\n",
       "      <th>event_id</th>\n",
       "      <th>age_segment</th>\n",
       "      <th>event</th>\n",
       "      <th>item_id</th>\n",
       "      <th>item_topic</th>\n",
       "      <th>item_type</th>\n",
       "      <th>source_id</th>\n",
       "      <th>source_topic</th>\n",
       "      <th>source_type</th>\n",
       "      <th>ts</th>\n",
       "      <th>user_id</th>\n",
       "    </tr>\n",
       "  </thead>\n",
       "  <tbody>\n",
       "    <tr>\n",
       "      <th>0</th>\n",
       "      <td>2931262</td>\n",
       "      <td>18-25</td>\n",
       "      <td>show</td>\n",
       "      <td>1793260</td>\n",
       "      <td>Красота</td>\n",
       "      <td>native</td>\n",
       "      <td>8388799</td>\n",
       "      <td>История</td>\n",
       "      <td>publisher</td>\n",
       "      <td>1569349657638</td>\n",
       "      <td>2185026</td>\n",
       "    </tr>\n",
       "    <tr>\n",
       "      <th>1</th>\n",
       "      <td>2931277</td>\n",
       "      <td>18-25</td>\n",
       "      <td>show</td>\n",
       "      <td>7465641</td>\n",
       "      <td>Культура</td>\n",
       "      <td>native</td>\n",
       "      <td>5837959</td>\n",
       "      <td>История</td>\n",
       "      <td>publisher</td>\n",
       "      <td>1569349657971</td>\n",
       "      <td>6845238</td>\n",
       "    </tr>\n",
       "    <tr>\n",
       "      <th>2</th>\n",
       "      <td>2931285</td>\n",
       "      <td>18-25</td>\n",
       "      <td>show</td>\n",
       "      <td>406073</td>\n",
       "      <td>История</td>\n",
       "      <td>url</td>\n",
       "      <td>2335872</td>\n",
       "      <td>Сад и дача</td>\n",
       "      <td>domain</td>\n",
       "      <td>1569349658408</td>\n",
       "      <td>5244363</td>\n",
       "    </tr>\n",
       "    <tr>\n",
       "      <th>3</th>\n",
       "      <td>2931247</td>\n",
       "      <td>26-30</td>\n",
       "      <td>show</td>\n",
       "      <td>752665</td>\n",
       "      <td>Путешествия</td>\n",
       "      <td>native</td>\n",
       "      <td>6963489</td>\n",
       "      <td>Здоровье</td>\n",
       "      <td>publisher</td>\n",
       "      <td>1569349657189</td>\n",
       "      <td>7553074</td>\n",
       "    </tr>\n",
       "    <tr>\n",
       "      <th>4</th>\n",
       "      <td>2931278</td>\n",
       "      <td>26-30</td>\n",
       "      <td>click</td>\n",
       "      <td>6843081</td>\n",
       "      <td>Юмор</td>\n",
       "      <td>url</td>\n",
       "      <td>5427748</td>\n",
       "      <td>Семейные отношения</td>\n",
       "      <td>domain</td>\n",
       "      <td>1569349658054</td>\n",
       "      <td>1317585</td>\n",
       "    </tr>\n",
       "    <tr>\n",
       "      <th>...</th>\n",
       "      <td>...</td>\n",
       "      <td>...</td>\n",
       "      <td>...</td>\n",
       "      <td>...</td>\n",
       "      <td>...</td>\n",
       "      <td>...</td>\n",
       "      <td>...</td>\n",
       "      <td>...</td>\n",
       "      <td>...</td>\n",
       "      <td>...</td>\n",
       "      <td>...</td>\n",
       "    </tr>\n",
       "    <tr>\n",
       "      <th>322386</th>\n",
       "      <td>4396804</td>\n",
       "      <td>31-35</td>\n",
       "      <td>click</td>\n",
       "      <td>7273256</td>\n",
       "      <td>Наука</td>\n",
       "      <td>native</td>\n",
       "      <td>5451530</td>\n",
       "      <td>Сад и дача</td>\n",
       "      <td>publisher</td>\n",
       "      <td>1569351658610</td>\n",
       "      <td>1351271</td>\n",
       "    </tr>\n",
       "    <tr>\n",
       "      <th>322387</th>\n",
       "      <td>4396814</td>\n",
       "      <td>31-35</td>\n",
       "      <td>show</td>\n",
       "      <td>4094446</td>\n",
       "      <td>Женская психология</td>\n",
       "      <td>narrative_card</td>\n",
       "      <td>4001238</td>\n",
       "      <td>Психология</td>\n",
       "      <td>publisher</td>\n",
       "      <td>1569351658738</td>\n",
       "      <td>4466455</td>\n",
       "    </tr>\n",
       "    <tr>\n",
       "      <th>322388</th>\n",
       "      <td>4396836</td>\n",
       "      <td>18-25</td>\n",
       "      <td>show</td>\n",
       "      <td>5003354</td>\n",
       "      <td>Интересные факты</td>\n",
       "      <td>url</td>\n",
       "      <td>6371686</td>\n",
       "      <td>Полезные советы</td>\n",
       "      <td>domain</td>\n",
       "      <td>1569351659030</td>\n",
       "      <td>4916583</td>\n",
       "    </tr>\n",
       "    <tr>\n",
       "      <th>322389</th>\n",
       "      <td>4396846</td>\n",
       "      <td>18-25</td>\n",
       "      <td>click</td>\n",
       "      <td>39740</td>\n",
       "      <td>Отношения</td>\n",
       "      <td>narrative_card</td>\n",
       "      <td>9829090</td>\n",
       "      <td>Семейные отношения</td>\n",
       "      <td>publisher</td>\n",
       "      <td>1569351659233</td>\n",
       "      <td>7962286</td>\n",
       "    </tr>\n",
       "    <tr>\n",
       "      <th>322390</th>\n",
       "      <td>4396838</td>\n",
       "      <td>31-35</td>\n",
       "      <td>show</td>\n",
       "      <td>3317563</td>\n",
       "      <td>Общество</td>\n",
       "      <td>url</td>\n",
       "      <td>8280856</td>\n",
       "      <td>Деньги</td>\n",
       "      <td>domain</td>\n",
       "      <td>1569351659036</td>\n",
       "      <td>2720789</td>\n",
       "    </tr>\n",
       "  </tbody>\n",
       "</table>\n",
       "<p>322391 rows × 11 columns</p>\n",
       "</div>"
      ],
      "text/plain": [
       "        event_id age_segment  event  item_id          item_topic  \\\n",
       "0        2931262       18-25   show  1793260             Красота   \n",
       "1        2931277       18-25   show  7465641            Культура   \n",
       "2        2931285       18-25   show   406073             История   \n",
       "3        2931247       26-30   show   752665         Путешествия   \n",
       "4        2931278       26-30  click  6843081                Юмор   \n",
       "...          ...         ...    ...      ...                 ...   \n",
       "322386   4396804       31-35  click  7273256               Наука   \n",
       "322387   4396814       31-35   show  4094446  Женская психология   \n",
       "322388   4396836       18-25   show  5003354    Интересные факты   \n",
       "322389   4396846       18-25  click    39740           Отношения   \n",
       "322390   4396838       31-35   show  3317563            Общество   \n",
       "\n",
       "             item_type  source_id        source_topic source_type  \\\n",
       "0               native    8388799             История   publisher   \n",
       "1               native    5837959             История   publisher   \n",
       "2                  url    2335872          Сад и дача      domain   \n",
       "3               native    6963489            Здоровье   publisher   \n",
       "4                  url    5427748  Семейные отношения      domain   \n",
       "...                ...        ...                 ...         ...   \n",
       "322386          native    5451530          Сад и дача   publisher   \n",
       "322387  narrative_card    4001238          Психология   publisher   \n",
       "322388             url    6371686     Полезные советы      domain   \n",
       "322389  narrative_card    9829090  Семейные отношения   publisher   \n",
       "322390             url    8280856              Деньги      domain   \n",
       "\n",
       "                   ts  user_id  \n",
       "0       1569349657638  2185026  \n",
       "1       1569349657971  6845238  \n",
       "2       1569349658408  5244363  \n",
       "3       1569349657189  7553074  \n",
       "4       1569349658054  1317585  \n",
       "...               ...      ...  \n",
       "322386  1569351658610  1351271  \n",
       "322387  1569351658738  4466455  \n",
       "322388  1569351659030  4916583  \n",
       "322389  1569351659233  7962286  \n",
       "322390  1569351659036  2720789  \n",
       "\n",
       "[322391 rows x 11 columns]"
      ]
     },
     "execution_count": 35,
     "metadata": {},
     "output_type": "execute_result"
    }
   ],
   "source": [
    "log_raw.head()"
   ]
  },
  {
   "cell_type": "code",
   "execution_count": 37,
   "id": "de39733d",
   "metadata": {},
   "outputs": [
    {
     "data": {
      "text/plain": [
       "show     277969\n",
       "click     23235\n",
       "view      21187\n",
       "Name: event, dtype: int64"
      ]
     },
     "execution_count": 37,
     "metadata": {},
     "output_type": "execute_result"
    }
   ],
   "source": [
    "log_raw['event'].value_counts()"
   ]
  },
  {
   "cell_type": "markdown",
   "id": "1ec153cb",
   "metadata": {},
   "source": [
    "# Ccылка на дашборд"
   ]
  },
  {
   "cell_type": "markdown",
   "id": "d37f1099",
   "metadata": {},
   "source": [
    "Дашборд: <https://public.tableau.com/app/profile/.22726600/viz/_16538339450020/Dashboard1?publish=yes>"
   ]
  },
  {
   "cell_type": "markdown",
   "id": "94abc1a3",
   "metadata": {},
   "source": [
    "# Ccылка на презентацию"
   ]
  },
  {
   "cell_type": "markdown",
   "id": "4ed49875",
   "metadata": {},
   "source": [
    "Презентация: <https://drive.google.com/file/d/1CUjC1XPPbQu3iWl0z9IRXdlGn4JlClaB/view?usp=sharing>"
   ]
  }
 ],
 "metadata": {
  "kernelspec": {
   "display_name": "Python 3 (ipykernel)",
   "language": "python",
   "name": "python3"
  },
  "language_info": {
   "codemirror_mode": {
    "name": "ipython",
    "version": 3
   },
   "file_extension": ".py",
   "mimetype": "text/x-python",
   "name": "python",
   "nbconvert_exporter": "python",
   "pygments_lexer": "ipython3",
   "version": "3.9.7"
  }
 },
 "nbformat": 4,
 "nbformat_minor": 5
}
