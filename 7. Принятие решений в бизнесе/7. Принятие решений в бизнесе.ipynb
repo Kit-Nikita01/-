{
 "cells": [
  {
   "cell_type": "markdown",
   "metadata": {},
   "source": [
    "### Принятие решений в бизнесе на основе данных"
   ]
  },
  {
   "cell_type": "markdown",
   "metadata": {},
   "source": [
    "В рамках данного проекта необходимо для интернет-магазина приоритизировать гипотезы для увеличения выручки, запустить A/B-тест и проанализировать результаты.\n",
    "\n",
    "В распоряжении имеются 9 гипотез по увеличению выручки интернет-магазина и результаты А/В-теста.\n",
    "\n",
    "Исследование состоит из двух частей:\n",
    "\n",
    "Приоритизация гипотез\n",
    "Анализ А/В-теста\n",
    "По результатам исследования напишем общий вывод.\n",
    "\n",
    "\n",
    " Шаг 1. Приоритизация гипотез.\n",
    " \n",
    "Задача\n",
    "\n",
    "- Применить фреймворк ICE \n",
    "- Применить фреймворк RICE\n",
    "\n",
    "\n",
    " Шаг 2. Анализ A/B-теста\n",
    "Мы провели A/B-тест и получили результаты, которые описаны в файлах /datasets/orders.csv и /datasets/visitors.csv.\n",
    "\n",
    "\n",
    "Цель: Принять решение по результатам теста и объясните его\n",
    "\n",
    "\n",
    "Задача\n",
    "\n",
    "Проанализировать A/B-тест:\n",
    "- Путем построения графиков кумулятивной выручки по группам, кумулятивного среднего чека по группам, относительного изменения кумулятивного среднего чека группы B к группе A, кумулятивной конверсии по группам, относительного изменения кумулятивной конверсии группы B к группе A.\n",
    "\n",
    "- Посчитать статистическую значимость различий в конверсии, в среднем чеке заказа между группами, перцентили стоимости, количества заказов, \n"
   ]
  },
  {
   "cell_type": "markdown",
   "metadata": {},
   "source": [
    "## Загрузка данных "
   ]
  },
  {
   "cell_type": "code",
   "execution_count": 1,
   "metadata": {},
   "outputs": [],
   "source": [
    "#импорт библиотек\n",
    "import pandas as pd\n",
    "import numpy as np\n",
    "import datetime as dt\n",
    "import seaborn as sns\n",
    "import scipy.stats as stats\n",
    "from matplotlib import pyplot as plt\n",
    "%matplotlib inline\n"
   ]
  },
  {
   "cell_type": "code",
   "execution_count": 2,
   "metadata": {},
   "outputs": [],
   "source": [
    "#Читаем файлы\n",
    "hypothesis = pd.read_csv('/datasets/hypothesis.csv')"
   ]
  },
  {
   "cell_type": "code",
   "execution_count": 3,
   "metadata": {},
   "outputs": [],
   "source": [
    "orders = pd.read_csv('/datasets/orders.csv')"
   ]
  },
  {
   "cell_type": "code",
   "execution_count": 4,
   "metadata": {},
   "outputs": [],
   "source": [
    "visitors = pd.read_csv('/datasets/visitors.csv')"
   ]
  },
  {
   "cell_type": "code",
   "execution_count": 5,
   "metadata": {},
   "outputs": [],
   "source": [
    "#Подготавливаем данные к анализу"
   ]
  },
  {
   "cell_type": "code",
   "execution_count": 6,
   "metadata": {},
   "outputs": [
    {
     "data": {
      "text/html": [
       "<div>\n",
       "<style scoped>\n",
       "    .dataframe tbody tr th:only-of-type {\n",
       "        vertical-align: middle;\n",
       "    }\n",
       "\n",
       "    .dataframe tbody tr th {\n",
       "        vertical-align: top;\n",
       "    }\n",
       "\n",
       "    .dataframe thead th {\n",
       "        text-align: right;\n",
       "    }\n",
       "</style>\n",
       "<table border=\"1\" class=\"dataframe\">\n",
       "  <thead>\n",
       "    <tr style=\"text-align: right;\">\n",
       "      <th></th>\n",
       "      <th>Hypothesis</th>\n",
       "      <th>Reach</th>\n",
       "      <th>Impact</th>\n",
       "      <th>Confidence</th>\n",
       "      <th>Efforts</th>\n",
       "    </tr>\n",
       "  </thead>\n",
       "  <tbody>\n",
       "    <tr>\n",
       "      <th>0</th>\n",
       "      <td>Добавить два новых канала привлечения трафика,...</td>\n",
       "      <td>3</td>\n",
       "      <td>10</td>\n",
       "      <td>8</td>\n",
       "      <td>6</td>\n",
       "    </tr>\n",
       "    <tr>\n",
       "      <th>1</th>\n",
       "      <td>Запустить собственную службу доставки, что сок...</td>\n",
       "      <td>2</td>\n",
       "      <td>5</td>\n",
       "      <td>4</td>\n",
       "      <td>10</td>\n",
       "    </tr>\n",
       "    <tr>\n",
       "      <th>2</th>\n",
       "      <td>Добавить блоки рекомендаций товаров на сайт ин...</td>\n",
       "      <td>8</td>\n",
       "      <td>3</td>\n",
       "      <td>7</td>\n",
       "      <td>3</td>\n",
       "    </tr>\n",
       "    <tr>\n",
       "      <th>3</th>\n",
       "      <td>Изменить структура категорий, что увеличит кон...</td>\n",
       "      <td>8</td>\n",
       "      <td>3</td>\n",
       "      <td>3</td>\n",
       "      <td>8</td>\n",
       "    </tr>\n",
       "    <tr>\n",
       "      <th>4</th>\n",
       "      <td>Изменить цвет фона главной страницы, чтобы уве...</td>\n",
       "      <td>3</td>\n",
       "      <td>1</td>\n",
       "      <td>1</td>\n",
       "      <td>1</td>\n",
       "    </tr>\n",
       "  </tbody>\n",
       "</table>\n",
       "</div>"
      ],
      "text/plain": [
       "                                          Hypothesis  Reach  Impact  \\\n",
       "0  Добавить два новых канала привлечения трафика,...      3      10   \n",
       "1  Запустить собственную службу доставки, что сок...      2       5   \n",
       "2  Добавить блоки рекомендаций товаров на сайт ин...      8       3   \n",
       "3  Изменить структура категорий, что увеличит кон...      8       3   \n",
       "4  Изменить цвет фона главной страницы, чтобы уве...      3       1   \n",
       "\n",
       "   Confidence  Efforts  \n",
       "0           8        6  \n",
       "1           4       10  \n",
       "2           7        3  \n",
       "3           3        8  \n",
       "4           1        1  "
      ]
     },
     "execution_count": 6,
     "metadata": {},
     "output_type": "execute_result"
    }
   ],
   "source": [
    "hypothesis.head()"
   ]
  },
  {
   "cell_type": "code",
   "execution_count": 7,
   "metadata": {},
   "outputs": [
    {
     "name": "stdout",
     "output_type": "stream",
     "text": [
      "<class 'pandas.core.frame.DataFrame'>\n",
      "RangeIndex: 9 entries, 0 to 8\n",
      "Data columns (total 5 columns):\n",
      " #   Column      Non-Null Count  Dtype \n",
      "---  ------      --------------  ----- \n",
      " 0   Hypothesis  9 non-null      object\n",
      " 1   Reach       9 non-null      int64 \n",
      " 2   Impact      9 non-null      int64 \n",
      " 3   Confidence  9 non-null      int64 \n",
      " 4   Efforts     9 non-null      int64 \n",
      "dtypes: int64(4), object(1)\n",
      "memory usage: 488.0+ bytes\n"
     ]
    }
   ],
   "source": [
    "hypothesis.info()"
   ]
  },
  {
   "cell_type": "code",
   "execution_count": 8,
   "metadata": {},
   "outputs": [
    {
     "data": {
      "text/plain": [
       "0"
      ]
     },
     "execution_count": 8,
     "metadata": {},
     "output_type": "execute_result"
    }
   ],
   "source": [
    "hypothesis.duplicated().sum()"
   ]
  },
  {
   "cell_type": "code",
   "execution_count": 9,
   "metadata": {},
   "outputs": [
    {
     "data": {
      "text/html": [
       "<div>\n",
       "<style scoped>\n",
       "    .dataframe tbody tr th:only-of-type {\n",
       "        vertical-align: middle;\n",
       "    }\n",
       "\n",
       "    .dataframe tbody tr th {\n",
       "        vertical-align: top;\n",
       "    }\n",
       "\n",
       "    .dataframe thead th {\n",
       "        text-align: right;\n",
       "    }\n",
       "</style>\n",
       "<table border=\"1\" class=\"dataframe\">\n",
       "  <thead>\n",
       "    <tr style=\"text-align: right;\">\n",
       "      <th></th>\n",
       "      <th>transactionId</th>\n",
       "      <th>visitorId</th>\n",
       "      <th>date</th>\n",
       "      <th>revenue</th>\n",
       "      <th>group</th>\n",
       "    </tr>\n",
       "  </thead>\n",
       "  <tbody>\n",
       "    <tr>\n",
       "      <th>0</th>\n",
       "      <td>3667963787</td>\n",
       "      <td>3312258926</td>\n",
       "      <td>2019-08-15</td>\n",
       "      <td>1650</td>\n",
       "      <td>B</td>\n",
       "    </tr>\n",
       "    <tr>\n",
       "      <th>1</th>\n",
       "      <td>2804400009</td>\n",
       "      <td>3642806036</td>\n",
       "      <td>2019-08-15</td>\n",
       "      <td>730</td>\n",
       "      <td>B</td>\n",
       "    </tr>\n",
       "    <tr>\n",
       "      <th>2</th>\n",
       "      <td>2961555356</td>\n",
       "      <td>4069496402</td>\n",
       "      <td>2019-08-15</td>\n",
       "      <td>400</td>\n",
       "      <td>A</td>\n",
       "    </tr>\n",
       "    <tr>\n",
       "      <th>3</th>\n",
       "      <td>3797467345</td>\n",
       "      <td>1196621759</td>\n",
       "      <td>2019-08-15</td>\n",
       "      <td>9759</td>\n",
       "      <td>B</td>\n",
       "    </tr>\n",
       "    <tr>\n",
       "      <th>4</th>\n",
       "      <td>2282983706</td>\n",
       "      <td>2322279887</td>\n",
       "      <td>2019-08-15</td>\n",
       "      <td>2308</td>\n",
       "      <td>B</td>\n",
       "    </tr>\n",
       "  </tbody>\n",
       "</table>\n",
       "</div>"
      ],
      "text/plain": [
       "   transactionId   visitorId        date  revenue group\n",
       "0     3667963787  3312258926  2019-08-15     1650     B\n",
       "1     2804400009  3642806036  2019-08-15      730     B\n",
       "2     2961555356  4069496402  2019-08-15      400     A\n",
       "3     3797467345  1196621759  2019-08-15     9759     B\n",
       "4     2282983706  2322279887  2019-08-15     2308     B"
      ]
     },
     "execution_count": 9,
     "metadata": {},
     "output_type": "execute_result"
    }
   ],
   "source": [
    "orders.head()"
   ]
  },
  {
   "cell_type": "code",
   "execution_count": 10,
   "metadata": {},
   "outputs": [
    {
     "name": "stdout",
     "output_type": "stream",
     "text": [
      "<class 'pandas.core.frame.DataFrame'>\n",
      "RangeIndex: 1197 entries, 0 to 1196\n",
      "Data columns (total 5 columns):\n",
      " #   Column         Non-Null Count  Dtype \n",
      "---  ------         --------------  ----- \n",
      " 0   transactionId  1197 non-null   int64 \n",
      " 1   visitorId      1197 non-null   int64 \n",
      " 2   date           1197 non-null   object\n",
      " 3   revenue        1197 non-null   int64 \n",
      " 4   group          1197 non-null   object\n",
      "dtypes: int64(3), object(2)\n",
      "memory usage: 46.9+ KB\n"
     ]
    }
   ],
   "source": [
    "orders.info()"
   ]
  },
  {
   "cell_type": "code",
   "execution_count": 11,
   "metadata": {},
   "outputs": [
    {
     "data": {
      "text/plain": [
       "0"
      ]
     },
     "execution_count": 11,
     "metadata": {},
     "output_type": "execute_result"
    }
   ],
   "source": [
    "orders.duplicated().sum()"
   ]
  },
  {
   "cell_type": "code",
   "execution_count": 12,
   "metadata": {},
   "outputs": [
    {
     "data": {
      "text/html": [
       "<div>\n",
       "<style scoped>\n",
       "    .dataframe tbody tr th:only-of-type {\n",
       "        vertical-align: middle;\n",
       "    }\n",
       "\n",
       "    .dataframe tbody tr th {\n",
       "        vertical-align: top;\n",
       "    }\n",
       "\n",
       "    .dataframe thead th {\n",
       "        text-align: right;\n",
       "    }\n",
       "</style>\n",
       "<table border=\"1\" class=\"dataframe\">\n",
       "  <thead>\n",
       "    <tr style=\"text-align: right;\">\n",
       "      <th></th>\n",
       "      <th>date</th>\n",
       "      <th>group</th>\n",
       "      <th>visitors</th>\n",
       "    </tr>\n",
       "  </thead>\n",
       "  <tbody>\n",
       "    <tr>\n",
       "      <th>0</th>\n",
       "      <td>2019-08-01</td>\n",
       "      <td>A</td>\n",
       "      <td>719</td>\n",
       "    </tr>\n",
       "    <tr>\n",
       "      <th>1</th>\n",
       "      <td>2019-08-02</td>\n",
       "      <td>A</td>\n",
       "      <td>619</td>\n",
       "    </tr>\n",
       "    <tr>\n",
       "      <th>2</th>\n",
       "      <td>2019-08-03</td>\n",
       "      <td>A</td>\n",
       "      <td>507</td>\n",
       "    </tr>\n",
       "    <tr>\n",
       "      <th>3</th>\n",
       "      <td>2019-08-04</td>\n",
       "      <td>A</td>\n",
       "      <td>717</td>\n",
       "    </tr>\n",
       "    <tr>\n",
       "      <th>4</th>\n",
       "      <td>2019-08-05</td>\n",
       "      <td>A</td>\n",
       "      <td>756</td>\n",
       "    </tr>\n",
       "  </tbody>\n",
       "</table>\n",
       "</div>"
      ],
      "text/plain": [
       "         date group  visitors\n",
       "0  2019-08-01     A       719\n",
       "1  2019-08-02     A       619\n",
       "2  2019-08-03     A       507\n",
       "3  2019-08-04     A       717\n",
       "4  2019-08-05     A       756"
      ]
     },
     "execution_count": 12,
     "metadata": {},
     "output_type": "execute_result"
    }
   ],
   "source": [
    "visitors.head()"
   ]
  },
  {
   "cell_type": "code",
   "execution_count": 13,
   "metadata": {},
   "outputs": [
    {
     "name": "stdout",
     "output_type": "stream",
     "text": [
      "<class 'pandas.core.frame.DataFrame'>\n",
      "RangeIndex: 62 entries, 0 to 61\n",
      "Data columns (total 3 columns):\n",
      " #   Column    Non-Null Count  Dtype \n",
      "---  ------    --------------  ----- \n",
      " 0   date      62 non-null     object\n",
      " 1   group     62 non-null     object\n",
      " 2   visitors  62 non-null     int64 \n",
      "dtypes: int64(1), object(2)\n",
      "memory usage: 1.6+ KB\n"
     ]
    }
   ],
   "source": [
    "visitors.info()"
   ]
  },
  {
   "cell_type": "code",
   "execution_count": 14,
   "metadata": {},
   "outputs": [
    {
     "data": {
      "text/plain": [
       "0"
      ]
     },
     "execution_count": 14,
     "metadata": {},
     "output_type": "execute_result"
    }
   ],
   "source": [
    "visitors.duplicated().sum()"
   ]
  },
  {
   "cell_type": "code",
   "execution_count": 15,
   "metadata": {},
   "outputs": [],
   "source": [
    "#преобразуем дату в нужный тип"
   ]
  },
  {
   "cell_type": "code",
   "execution_count": 16,
   "metadata": {},
   "outputs": [],
   "source": [
    "hypothesis.columns = hypothesis.columns.str.lower()"
   ]
  },
  {
   "cell_type": "code",
   "execution_count": 17,
   "metadata": {},
   "outputs": [],
   "source": [
    "orders['date'] = orders['date'].map(\n",
    "    lambda x: dt.datetime.strptime(x, '%Y-%m-%d')\n",
    ")\n",
    "visitors['date'] = visitors['date'].map(\n",
    "    lambda x: dt.datetime.strptime(x, '%Y-%m-%d')\n",
    ")"
   ]
  },
  {
   "cell_type": "code",
   "execution_count": 18,
   "metadata": {},
   "outputs": [
    {
     "name": "stdout",
     "output_type": "stream",
     "text": [
      "<class 'pandas.core.frame.DataFrame'>\n",
      "RangeIndex: 1197 entries, 0 to 1196\n",
      "Data columns (total 5 columns):\n",
      " #   Column         Non-Null Count  Dtype         \n",
      "---  ------         --------------  -----         \n",
      " 0   transactionId  1197 non-null   int64         \n",
      " 1   visitorId      1197 non-null   int64         \n",
      " 2   date           1197 non-null   datetime64[ns]\n",
      " 3   revenue        1197 non-null   int64         \n",
      " 4   group          1197 non-null   object        \n",
      "dtypes: datetime64[ns](1), int64(3), object(1)\n",
      "memory usage: 46.9+ KB\n"
     ]
    }
   ],
   "source": [
    "orders.info()"
   ]
  },
  {
   "cell_type": "code",
   "execution_count": 19,
   "metadata": {},
   "outputs": [
    {
     "name": "stdout",
     "output_type": "stream",
     "text": [
      "<class 'pandas.core.frame.DataFrame'>\n",
      "RangeIndex: 62 entries, 0 to 61\n",
      "Data columns (total 3 columns):\n",
      " #   Column    Non-Null Count  Dtype         \n",
      "---  ------    --------------  -----         \n",
      " 0   date      62 non-null     datetime64[ns]\n",
      " 1   group     62 non-null     object        \n",
      " 2   visitors  62 non-null     int64         \n",
      "dtypes: datetime64[ns](1), int64(1), object(1)\n",
      "memory usage: 1.6+ KB\n"
     ]
    }
   ],
   "source": [
    "visitors.info()"
   ]
  },
  {
   "cell_type": "markdown",
   "metadata": {},
   "source": [
    "##  Вывод:\n",
    "Прочитал файлы, преобразовал столбцы в нужный тип и регистр, явных дубликатов не обнаружено.\n",
    "\n",
    "\n",
    "Представлены типы данных:\n",
    "- datetime64 (после преобразования из object)\n",
    "- object        \n",
    "- int64 "
   ]
  },
  {
   "cell_type": "markdown",
   "metadata": {},
   "source": [
    "## 1. Приоритизация гипотез.\n",
    "# Задача\n",
    "- Применим фреймворк ICE для приоритизации гипотез. Отсортируйте их по убыванию приоритета.\n",
    "- Применим фреймворк RICE для приоритизации гипотез. Отсортируйте их по убыванию приоритета.\n",
    "- Укажем, как изменилась приоритизация гипотез при применении RICE вместо ICE. Объясним, почему так произошло."
   ]
  },
  {
   "cell_type": "code",
   "execution_count": 20,
   "metadata": {},
   "outputs": [
    {
     "data": {
      "text/html": [
       "<div>\n",
       "<style scoped>\n",
       "    .dataframe tbody tr th:only-of-type {\n",
       "        vertical-align: middle;\n",
       "    }\n",
       "\n",
       "    .dataframe tbody tr th {\n",
       "        vertical-align: top;\n",
       "    }\n",
       "\n",
       "    .dataframe thead th {\n",
       "        text-align: right;\n",
       "    }\n",
       "</style>\n",
       "<table border=\"1\" class=\"dataframe\">\n",
       "  <thead>\n",
       "    <tr style=\"text-align: right;\">\n",
       "      <th></th>\n",
       "      <th>hypothesis</th>\n",
       "      <th>reach</th>\n",
       "      <th>impact</th>\n",
       "      <th>confidence</th>\n",
       "      <th>efforts</th>\n",
       "    </tr>\n",
       "  </thead>\n",
       "  <tbody>\n",
       "    <tr>\n",
       "      <th>0</th>\n",
       "      <td>Добавить два новых канала привлечения трафика, что позволит привлекать на 30% больше пользователей</td>\n",
       "      <td>3</td>\n",
       "      <td>10</td>\n",
       "      <td>8</td>\n",
       "      <td>6</td>\n",
       "    </tr>\n",
       "    <tr>\n",
       "      <th>1</th>\n",
       "      <td>Запустить собственную службу доставки, что сократит срок доставки заказов</td>\n",
       "      <td>2</td>\n",
       "      <td>5</td>\n",
       "      <td>4</td>\n",
       "      <td>10</td>\n",
       "    </tr>\n",
       "    <tr>\n",
       "      <th>2</th>\n",
       "      <td>Добавить блоки рекомендаций товаров на сайт интернет магазина, чтобы повысить конверсию и средний чек заказа</td>\n",
       "      <td>8</td>\n",
       "      <td>3</td>\n",
       "      <td>7</td>\n",
       "      <td>3</td>\n",
       "    </tr>\n",
       "    <tr>\n",
       "      <th>3</th>\n",
       "      <td>Изменить структура категорий, что увеличит конверсию, т.к. пользователи быстрее найдут нужный товар</td>\n",
       "      <td>8</td>\n",
       "      <td>3</td>\n",
       "      <td>3</td>\n",
       "      <td>8</td>\n",
       "    </tr>\n",
       "    <tr>\n",
       "      <th>4</th>\n",
       "      <td>Изменить цвет фона главной страницы, чтобы увеличить вовлеченность пользователей</td>\n",
       "      <td>3</td>\n",
       "      <td>1</td>\n",
       "      <td>1</td>\n",
       "      <td>1</td>\n",
       "    </tr>\n",
       "    <tr>\n",
       "      <th>5</th>\n",
       "      <td>Добавить страницу отзывов клиентов о магазине, что позволит увеличить количество заказов</td>\n",
       "      <td>3</td>\n",
       "      <td>2</td>\n",
       "      <td>2</td>\n",
       "      <td>3</td>\n",
       "    </tr>\n",
       "    <tr>\n",
       "      <th>6</th>\n",
       "      <td>Показать на главной странице баннеры с актуальными акциями и распродажами, чтобы увеличить конверсию</td>\n",
       "      <td>5</td>\n",
       "      <td>3</td>\n",
       "      <td>8</td>\n",
       "      <td>3</td>\n",
       "    </tr>\n",
       "    <tr>\n",
       "      <th>7</th>\n",
       "      <td>Добавить форму подписки на все основные страницы, чтобы собрать базу клиентов для email-рассылок</td>\n",
       "      <td>10</td>\n",
       "      <td>7</td>\n",
       "      <td>8</td>\n",
       "      <td>5</td>\n",
       "    </tr>\n",
       "    <tr>\n",
       "      <th>8</th>\n",
       "      <td>Запустить акцию, дающую скидку на товар в день рождения</td>\n",
       "      <td>1</td>\n",
       "      <td>9</td>\n",
       "      <td>9</td>\n",
       "      <td>5</td>\n",
       "    </tr>\n",
       "  </tbody>\n",
       "</table>\n",
       "</div>"
      ],
      "text/plain": [
       "                                                                                                     hypothesis  \\\n",
       "0            Добавить два новых канала привлечения трафика, что позволит привлекать на 30% больше пользователей   \n",
       "1                                     Запустить собственную службу доставки, что сократит срок доставки заказов   \n",
       "2  Добавить блоки рекомендаций товаров на сайт интернет магазина, чтобы повысить конверсию и средний чек заказа   \n",
       "3           Изменить структура категорий, что увеличит конверсию, т.к. пользователи быстрее найдут нужный товар   \n",
       "4                              Изменить цвет фона главной страницы, чтобы увеличить вовлеченность пользователей   \n",
       "5                      Добавить страницу отзывов клиентов о магазине, что позволит увеличить количество заказов   \n",
       "6          Показать на главной странице баннеры с актуальными акциями и распродажами, чтобы увеличить конверсию   \n",
       "7              Добавить форму подписки на все основные страницы, чтобы собрать базу клиентов для email-рассылок   \n",
       "8                                                       Запустить акцию, дающую скидку на товар в день рождения   \n",
       "\n",
       "   reach  impact  confidence  efforts  \n",
       "0      3      10           8        6  \n",
       "1      2       5           4       10  \n",
       "2      8       3           7        3  \n",
       "3      8       3           3        8  \n",
       "4      3       1           1        1  \n",
       "5      3       2           2        3  \n",
       "6      5       3           8        3  \n",
       "7     10       7           8        5  \n",
       "8      1       9           9        5  "
      ]
     },
     "execution_count": 20,
     "metadata": {},
     "output_type": "execute_result"
    }
   ],
   "source": [
    "pd.options.display.max_colwidth = 400\n",
    "hypothesis"
   ]
  },
  {
   "cell_type": "code",
   "execution_count": 21,
   "metadata": {},
   "outputs": [
    {
     "name": "stdout",
     "output_type": "stream",
     "text": [
      "                                                                                                     hypothesis  \\\n",
      "8                                                       Запустить акцию, дающую скидку на товар в день рождения   \n",
      "0            Добавить два новых канала привлечения трафика, что позволит привлекать на 30% больше пользователей   \n",
      "7              Добавить форму подписки на все основные страницы, чтобы собрать базу клиентов для email-рассылок   \n",
      "6          Показать на главной странице баннеры с актуальными акциями и распродажами, чтобы увеличить конверсию   \n",
      "2  Добавить блоки рекомендаций товаров на сайт интернет магазина, чтобы повысить конверсию и средний чек заказа   \n",
      "1                                     Запустить собственную службу доставки, что сократит срок доставки заказов   \n",
      "5                      Добавить страницу отзывов клиентов о магазине, что позволит увеличить количество заказов   \n",
      "3           Изменить структура категорий, что увеличит конверсию, т.к. пользователи быстрее найдут нужный товар   \n",
      "4                              Изменить цвет фона главной страницы, чтобы увеличить вовлеченность пользователей   \n",
      "\n",
      "         ICE  \n",
      "8  16.200000  \n",
      "0  13.333333  \n",
      "7  11.200000  \n",
      "6   8.000000  \n",
      "2   7.000000  \n",
      "1   2.000000  \n",
      "5   1.333333  \n",
      "3   1.125000  \n",
      "4   1.000000  \n"
     ]
    }
   ],
   "source": [
    "#Применияем фреймворк ICE для приоритизации гипотез. Отсортируйте их по убыванию приоритета.\n",
    "hypothesis['ICE'] = hypothesis['impact'] * hypothesis['confidence'] / hypothesis['efforts']\n",
    "\n",
    "print(hypothesis[['hypothesis','ICE']].sort_values(by = 'ICE', ascending = False))"
   ]
  },
  {
   "cell_type": "code",
   "execution_count": 22,
   "metadata": {},
   "outputs": [
    {
     "name": "stdout",
     "output_type": "stream",
     "text": [
      "                                                                                                     hypothesis  \\\n",
      "7              Добавить форму подписки на все основные страницы, чтобы собрать базу клиентов для email-рассылок   \n",
      "2  Добавить блоки рекомендаций товаров на сайт интернет магазина, чтобы повысить конверсию и средний чек заказа   \n",
      "0            Добавить два новых канала привлечения трафика, что позволит привлекать на 30% больше пользователей   \n",
      "6          Показать на главной странице баннеры с актуальными акциями и распродажами, чтобы увеличить конверсию   \n",
      "8                                                       Запустить акцию, дающую скидку на товар в день рождения   \n",
      "3           Изменить структура категорий, что увеличит конверсию, т.к. пользователи быстрее найдут нужный товар   \n",
      "1                                     Запустить собственную службу доставки, что сократит срок доставки заказов   \n",
      "5                      Добавить страницу отзывов клиентов о магазине, что позволит увеличить количество заказов   \n",
      "4                              Изменить цвет фона главной страницы, чтобы увеличить вовлеченность пользователей   \n",
      "\n",
      "    RICE  \n",
      "7  112.0  \n",
      "2   56.0  \n",
      "0   40.0  \n",
      "6   40.0  \n",
      "8   16.2  \n",
      "3    9.0  \n",
      "1    4.0  \n",
      "5    4.0  \n",
      "4    3.0  \n"
     ]
    }
   ],
   "source": [
    "#Применияем фреймворк RICE для приоритизации гипотез. Отсортируйте их по убыванию приоритета.\n",
    "hypothesis['RICE'] = hypothesis['reach'] * hypothesis['impact'] * hypothesis['confidence'] / hypothesis['efforts']\n",
    "print(hypothesis[['hypothesis','RICE']].sort_values(by='RICE', ascending = False))"
   ]
  },
  {
   "cell_type": "markdown",
   "metadata": {},
   "source": [
    "### 1.1 Вывод\n",
    "- Результат фреймворка ICE (первые номера пяти гипотез) - Гипотезы под индексом: 8, 0, 7, 6, 2.\n",
    "\n",
    "- Результат фреймворка RICE - Гипотезы под индексом: 7, 2, 0, 6, 8.\n",
    "\n",
    "\n",
    "\n",
    "Результаты двух фреймворков отличаются, потому что во фреймворк RICE добавляется параметр \"reach\", который отвечает за охват( скольких пользователей затронет изменение, которое мы хотим внести)"
   ]
  },
  {
   "cell_type": "markdown",
   "metadata": {},
   "source": [
    "##  2. Анализ A/B-теста\n",
    "Мы провели A/B-тест и получили результаты, которые описаны в файлах /datasets/orders.csv и /datasets/visitors.csv.\n",
    "# Задача\n",
    "Проанализируем A/B-тест:\n",
    "- Построим график кумулятивной выручки по группам. Сделайте выводы и предположения.\n",
    "- Построим график кумулятивного среднего чека по группам. Сделайте выводы и предположения.\n",
    "- Построим график относительного изменения кумулятивного среднего чека группы B к группе A. Сделайте выводы и предположения.\n",
    "- Построим график кумулятивной конверсии по группам. Сделайте выводы и предположения.\n",
    "- Построим график относительного изменения кумулятивной конверсии группы B к группе A. Сделайте выводы и предположения.\n",
    "- Построим точечный график количества заказов по пользователям. Сделайте выводы и предположения.\n",
    "- Посчитаем 95-й и 99-й перцентили количества заказов на пользователя. Выберите границу для определения аномальных пользователей.\n",
    "- Построим точечный график стоимостей заказов. Сделайте выводы и предположения.\n",
    "- Посчитаем 95-й и 99-й перцентили стоимости заказов. Выберите границу для определения аномальных заказов.\n",
    "- Посчитаем статистическую значимость различий в конверсии между группами по «сырым» данным. Сделайте выводы и предположения.\n",
    "- Посчитаем статистическую значимость различий в среднем чеке заказа между группами по «сырым» данным. Сделайте выводы и предположения.\n",
    "- Посчитаем статистическую значимость различий в конверсии между группами по «очищенным» данным. Сделайте выводы и предположения.\n",
    "- Посчитаем статистическую значимость различий в среднем чеке заказа между группами по «очищенным» данным. Сделайте выводы и предположения.\n",
    "- Примем решение по результатам теста и объясните его. Варианты решений: 1. Остановить тест, зафиксировать победу одной из групп. 2. Остановить тест, зафиксировать отсутствие различий между группами. 3. Продолжить тест."
   ]
  },
  {
   "cell_type": "markdown",
   "metadata": {},
   "source": [
    "# Перед проведением A/B-теста, нужно проверить пересечение групп."
   ]
  },
  {
   "cell_type": "code",
   "execution_count": 23,
   "metadata": {},
   "outputs": [
    {
     "name": "stdout",
     "output_type": "stream",
     "text": [
      "количество 58 [8300375, 199603092, 232979603, 237748145, 276558944]\n"
     ]
    }
   ],
   "source": [
    "group_a = orders.query('group == \"A\"') \n",
    "group_b = orders.query('group == \"B\"') \n",
    "  \n",
    "# получаем количество пользователей, попавших в обе группы \n",
    "group_similar = list(np.intersect1d(group_a['visitorId'], group_b['visitorId']))\n",
    "print(\"количество\",len(group_similar),\n",
    "group_similar[0:5])"
   ]
  },
  {
   "cell_type": "code",
   "execution_count": 24,
   "metadata": {},
   "outputs": [],
   "source": [
    "#Убираем лишних пользователей, попавших в обе группы\n",
    "orders = orders.query('visitorId != @group_similar')"
   ]
  },
  {
   "cell_type": "code",
   "execution_count": 25,
   "metadata": {},
   "outputs": [
    {
     "data": {
      "text/html": [
       "<div>\n",
       "<style scoped>\n",
       "    .dataframe tbody tr th:only-of-type {\n",
       "        vertical-align: middle;\n",
       "    }\n",
       "\n",
       "    .dataframe tbody tr th {\n",
       "        vertical-align: top;\n",
       "    }\n",
       "\n",
       "    .dataframe thead th {\n",
       "        text-align: right;\n",
       "    }\n",
       "</style>\n",
       "<table border=\"1\" class=\"dataframe\">\n",
       "  <thead>\n",
       "    <tr style=\"text-align: right;\">\n",
       "      <th></th>\n",
       "      <th>transactionId</th>\n",
       "      <th>visitorId</th>\n",
       "      <th>date</th>\n",
       "      <th>revenue</th>\n",
       "      <th>group</th>\n",
       "    </tr>\n",
       "  </thead>\n",
       "  <tbody>\n",
       "    <tr>\n",
       "      <th>0</th>\n",
       "      <td>3667963787</td>\n",
       "      <td>3312258926</td>\n",
       "      <td>2019-08-15</td>\n",
       "      <td>1650</td>\n",
       "      <td>B</td>\n",
       "    </tr>\n",
       "    <tr>\n",
       "      <th>1</th>\n",
       "      <td>2804400009</td>\n",
       "      <td>3642806036</td>\n",
       "      <td>2019-08-15</td>\n",
       "      <td>730</td>\n",
       "      <td>B</td>\n",
       "    </tr>\n",
       "    <tr>\n",
       "      <th>3</th>\n",
       "      <td>3797467345</td>\n",
       "      <td>1196621759</td>\n",
       "      <td>2019-08-15</td>\n",
       "      <td>9759</td>\n",
       "      <td>B</td>\n",
       "    </tr>\n",
       "    <tr>\n",
       "      <th>4</th>\n",
       "      <td>2282983706</td>\n",
       "      <td>2322279887</td>\n",
       "      <td>2019-08-15</td>\n",
       "      <td>2308</td>\n",
       "      <td>B</td>\n",
       "    </tr>\n",
       "    <tr>\n",
       "      <th>5</th>\n",
       "      <td>182168103</td>\n",
       "      <td>935554773</td>\n",
       "      <td>2019-08-15</td>\n",
       "      <td>2210</td>\n",
       "      <td>B</td>\n",
       "    </tr>\n",
       "  </tbody>\n",
       "</table>\n",
       "</div>"
      ],
      "text/plain": [
       "   transactionId   visitorId       date  revenue group\n",
       "0     3667963787  3312258926 2019-08-15     1650     B\n",
       "1     2804400009  3642806036 2019-08-15      730     B\n",
       "3     3797467345  1196621759 2019-08-15     9759     B\n",
       "4     2282983706  2322279887 2019-08-15     2308     B\n",
       "5      182168103   935554773 2019-08-15     2210     B"
      ]
     },
     "execution_count": 25,
     "metadata": {},
     "output_type": "execute_result"
    }
   ],
   "source": [
    "orders.head()"
   ]
  },
  {
   "cell_type": "code",
   "execution_count": 26,
   "metadata": {},
   "outputs": [
    {
     "data": {
      "text/html": [
       "<div>\n",
       "<style scoped>\n",
       "    .dataframe tbody tr th:only-of-type {\n",
       "        vertical-align: middle;\n",
       "    }\n",
       "\n",
       "    .dataframe tbody tr th {\n",
       "        vertical-align: top;\n",
       "    }\n",
       "\n",
       "    .dataframe thead th {\n",
       "        text-align: right;\n",
       "    }\n",
       "</style>\n",
       "<table border=\"1\" class=\"dataframe\">\n",
       "  <thead>\n",
       "    <tr style=\"text-align: right;\">\n",
       "      <th></th>\n",
       "      <th>date</th>\n",
       "      <th>group</th>\n",
       "      <th>visitors</th>\n",
       "    </tr>\n",
       "  </thead>\n",
       "  <tbody>\n",
       "    <tr>\n",
       "      <th>0</th>\n",
       "      <td>2019-08-01</td>\n",
       "      <td>A</td>\n",
       "      <td>719</td>\n",
       "    </tr>\n",
       "    <tr>\n",
       "      <th>1</th>\n",
       "      <td>2019-08-02</td>\n",
       "      <td>A</td>\n",
       "      <td>619</td>\n",
       "    </tr>\n",
       "    <tr>\n",
       "      <th>2</th>\n",
       "      <td>2019-08-03</td>\n",
       "      <td>A</td>\n",
       "      <td>507</td>\n",
       "    </tr>\n",
       "    <tr>\n",
       "      <th>3</th>\n",
       "      <td>2019-08-04</td>\n",
       "      <td>A</td>\n",
       "      <td>717</td>\n",
       "    </tr>\n",
       "    <tr>\n",
       "      <th>4</th>\n",
       "      <td>2019-08-05</td>\n",
       "      <td>A</td>\n",
       "      <td>756</td>\n",
       "    </tr>\n",
       "  </tbody>\n",
       "</table>\n",
       "</div>"
      ],
      "text/plain": [
       "        date group  visitors\n",
       "0 2019-08-01     A       719\n",
       "1 2019-08-02     A       619\n",
       "2 2019-08-03     A       507\n",
       "3 2019-08-04     A       717\n",
       "4 2019-08-05     A       756"
      ]
     },
     "execution_count": 26,
     "metadata": {},
     "output_type": "execute_result"
    }
   ],
   "source": [
    "visitors.head()"
   ]
  },
  {
   "cell_type": "markdown",
   "metadata": {},
   "source": [
    "Начинаем анализ A/B-теста"
   ]
  },
  {
   "cell_type": "markdown",
   "metadata": {},
   "source": [
    "### Построим график кумулятивной выручки по группам. Сделайте выводы и предположения."
   ]
  },
  {
   "cell_type": "markdown",
   "metadata": {},
   "source": [
    "Объявим датафрейм cumulativeData со столбцами:\n",
    "    \n",
    "    \n",
    "- date — дата;\n",
    "- group — группа A/B-теста (A или B);\n",
    "- orders — кумулятивное количество заказов на указанную дату в указанной группе;\n",
    "- buyers — кумулятивное количество пользователей, совершивших хотя бы один заказ, на указанную дату в указанной группе;\n",
    "- revenue — кумулятивная выручка на указанную дату в указанной группе (средний чек);\n",
    "- visitors — кумулятивное количество посетителей интернет-магазина на указанную дату в определённой группе."
   ]
  },
  {
   "cell_type": "code",
   "execution_count": 27,
   "metadata": {},
   "outputs": [
    {
     "name": "stdout",
     "output_type": "stream",
     "text": [
      "        date group  orders  buyers  revenue  visitors\n",
      "0 2019-08-01     A      23      19   142779       719\n",
      "1 2019-08-01     B      17      17    59758       713\n",
      "2 2019-08-02     A      42      36   234381      1338\n",
      "3 2019-08-02     B      40      39   221801      1294\n",
      "4 2019-08-03     A      66      60   346854      1845\n"
     ]
    }
   ],
   "source": [
    "# создаем массив уникальных пар значений дат и групп теста\n",
    "datesGroups = orders[['date','group']].drop_duplicates()\n",
    "\n",
    "# получаем агрегированные кумулятивные по дням данные о заказах \n",
    "ordersAggregated = datesGroups.apply(lambda x: orders[np.logical_and(orders['date'] <= x['date'], orders['group'] == x['group'])].agg({'date' : 'max', 'group' : 'max', 'transactionId' : 'nunique', 'visitorId' : 'nunique', 'revenue' : 'sum'}), axis=1).sort_values(by=['date','group'])\n",
    "\n",
    "# получаем агрегированные кумулятивные по дням данные о посетителях интернет-магазина \n",
    "visitorsAggregated = datesGroups.apply(lambda x: visitors[np.logical_and(visitors['date'] <= x['date'], visitors['group'] == x['group'])].agg({'date' : 'max', 'group' : 'max', 'visitors' : 'sum'}), axis=1).sort_values(by=['date','group'])\n",
    "\n",
    "# объединяем кумулятивные данные в одной таблице и присваиваем ее столбцам понятные названия\n",
    "cumulativeData = ordersAggregated.merge(visitorsAggregated, left_on=['date', 'group'], right_on=['date', 'group'])\n",
    "cumulativeData.columns = ['date', 'group', 'orders', 'buyers', 'revenue', 'visitors']\n",
    "\n",
    "print(cumulativeData.head(5))"
   ]
  },
  {
   "cell_type": "code",
   "execution_count": 28,
   "metadata": {},
   "outputs": [],
   "source": [
    "plt.rcParams['figure.figsize'] = [12, 5]"
   ]
  },
  {
   "cell_type": "markdown",
   "metadata": {},
   "source": [
    "Задаю параметр размера для всех графиков ниже."
   ]
  },
  {
   "cell_type": "code",
   "execution_count": 29,
   "metadata": {},
   "outputs": [
    {
     "data": {
      "image/png": "[encoded data removed]",
      "text/plain": [
       "<Figure size 864x360 with 1 Axes>"
      ]
     },
     "metadata": {
      "needs_background": "light"
     },
     "output_type": "display_data"
    }
   ],
   "source": [
    "# датафрейм с кумулятивным количеством заказов и кумулятивной выручкой по дням в группе А\n",
    "cumulativeRevenueA = cumulativeData[cumulativeData['group']=='A'][['date','revenue', 'orders']]\n",
    "\n",
    "# датафрейм с кумулятивным количеством заказов и кумулятивной выручкой по дням в группе B\n",
    "cumulativeRevenueB = cumulativeData[cumulativeData['group']=='B'][['date','revenue', 'orders']]\n",
    "\n",
    "# Строим график выручки группы А\n",
    "plt.plot(cumulativeRevenueA['date'], cumulativeRevenueA['revenue'], label='A')\n",
    "\n",
    "# Строим график выручки группы B\n",
    "plt.plot(cumulativeRevenueB['date'], cumulativeRevenueB['revenue'], label='B')\n",
    "plt.title('График выручки')\n",
    "plt.xlabel('Дата')\n",
    "plt.ylabel('Размер выручки')\n",
    "plt.legend()\n",
    "plt.show()"
   ]
  },
  {
   "cell_type": "markdown",
   "metadata": {},
   "source": [
    "#### Вывод:\n",
    "Выручка увеличивается в течение всего теста у обоих групп, но группа \"В\" в какой-то момент сделала резкий скачок вверх, это может сигнализировать о всплесках числа заказов, либо о появлении очень дорогих заказов в выборке группы В."
   ]
  },
  {
   "cell_type": "markdown",
   "metadata": {},
   "source": [
    "Можем зафиксировать аномалию в группе В."
   ]
  },
  {
   "cell_type": "markdown",
   "metadata": {},
   "source": [
    "### Построим график кумулятивного среднего чека по группам. Сделайте выводы и предположения."
   ]
  },
  {
   "cell_type": "code",
   "execution_count": 30,
   "metadata": {},
   "outputs": [
    {
     "data": {
      "text/plain": [
       "<matplotlib.legend.Legend at 0x7f1e7ec95280>"
      ]
     },
     "execution_count": 30,
     "metadata": {},
     "output_type": "execute_result"
    },
    {
     "data": {
      "image/png": "[encoded data removed]",
      "text/plain": [
       "<Figure size 864x360 with 1 Axes>"
      ]
     },
     "metadata": {
      "needs_background": "light"
     },
     "output_type": "display_data"
    }
   ],
   "source": [
    "#Построим графики среднего чека по группам — разделим кумулятивную выручку на кумулятивное число заказов:\n",
    "plt.plot(cumulativeRevenueA['date'], cumulativeRevenueA['revenue']/cumulativeRevenueA['orders'], label='A')\n",
    "plt.plot(cumulativeRevenueB['date'], cumulativeRevenueB['revenue']/cumulativeRevenueB['orders'], label='B')\n",
    "plt.title('График среднего чека')\n",
    "plt.xlabel('Дата')\n",
    "plt.ylabel('Размер среднего чека')\n",
    "plt.legend()"
   ]
  },
  {
   "cell_type": "markdown",
   "metadata": {},
   "source": [
    "#### Вывод:\n",
    "Средний чек тоже показывает резкий скачок группы \"В\".\n",
    "\n",
    "\n",
    "Возможно, в группу B  в определённый момент теста попали крупные заказы (резкий всплеск на графике). \n",
    "\n",
    "Тогда ей нужно больше данных, чтобы прийти к реальному среднему чеку и установиться на его уровне."
   ]
  },
  {
   "cell_type": "markdown",
   "metadata": {},
   "source": [
    "И тут так-же группа В выделяется."
   ]
  },
  {
   "cell_type": "markdown",
   "metadata": {},
   "source": [
    "### Построим график относительного изменения кумулятивного среднего чека группы B к группе A. Сделайте выводы и предположения."
   ]
  },
  {
   "cell_type": "markdown",
   "metadata": {},
   "source": [
    "Чтобы нагляднее увидеть разницу между группами, строят график относительного различия. \n",
    "\n",
    "Каждую его точку рассчитывают так: кумулятивная метрика группы B / кумулятивная метрика группы A - 1"
   ]
  },
  {
   "cell_type": "code",
   "execution_count": 31,
   "metadata": {},
   "outputs": [
    {
     "data": {
      "image/png": "[encoded data removed]",
      "text/plain": [
       "<Figure size 864x360 with 1 Axes>"
      ]
     },
     "metadata": {
      "needs_background": "light"
     },
     "output_type": "display_data"
    }
   ],
   "source": [
    "#Построим график относительного различия для среднего чека. \n",
    "#Добавим горизонтальную ось методом axhline()\n",
    "\n",
    "# собираем данные в одном датафрейме\n",
    "mergedCumulativeRevenue = cumulativeRevenueA.merge(cumulativeRevenueB, left_on='date', right_on='date', how='left', suffixes=['A', 'B'])\n",
    "\n",
    "# cтроим отношение средних чеков\n",
    "plt.plot(mergedCumulativeRevenue['date'], (mergedCumulativeRevenue['revenueB']/mergedCumulativeRevenue['ordersB'])/(mergedCumulativeRevenue['revenueA']/mergedCumulativeRevenue['ordersA'])-1)\n",
    "\n",
    "# добавляем ось X\n",
    "plt.title('График относительного различия для среднего чека')\n",
    "plt.xlabel('Дата')\n",
    "plt.ylabel('Различие относительно группы А')\n",
    "plt.axhline(y=0, color='black', linestyle='--')\n",
    "plt.show()"
   ]
  },
  {
   "cell_type": "markdown",
   "metadata": {},
   "source": [
    "#### Вывод:\n",
    "В нескольких точках график различия между сегментами резко «скачет». \n",
    "\n",
    "Где-то уж точно спрятались крупные заказы и выбросы"
   ]
  },
  {
   "cell_type": "markdown",
   "metadata": {},
   "source": [
    "### Построим график кумулятивной конверсии по группам. Сделайте выводы и предположения."
   ]
  },
  {
   "cell_type": "code",
   "execution_count": 32,
   "metadata": {},
   "outputs": [
    {
     "data": {
      "image/png": "[encoded data removed]",
      "text/plain": [
       "<Figure size 864x360 with 1 Axes>"
      ]
     },
     "metadata": {
      "needs_background": "light"
     },
     "output_type": "display_data"
    }
   ],
   "source": [
    "#Аналогично проанализируем график кумулятивной конверсии. \n",
    "# считаем кумулятивную конверсию\n",
    "cumulativeData['conversion'] = cumulativeData['orders']/cumulativeData['visitors']\n",
    "\n",
    "# отделяем данные по группе A\n",
    "cumulativeDataA = cumulativeData[cumulativeData['group']=='A']\n",
    "\n",
    "# отделяем данные по группе B\n",
    "cumulativeDataB = cumulativeData[cumulativeData['group']=='B']\n",
    "\n",
    "# строим графики\n",
    "plt.plot(cumulativeDataA['date'], cumulativeDataA['conversion'], label='A')\n",
    "plt.plot(cumulativeDataB['date'], cumulativeDataB['conversion'], label='B')\n",
    "plt.legend()\n",
    "\n",
    "plt.title('График кумулятивной конверсии')\n",
    "plt.xlabel('Дата')\n",
    "plt.ylabel('Размер конверсии')\n",
    "plt.show()\n"
   ]
  },
  {
   "cell_type": "markdown",
   "metadata": {},
   "source": [
    "#### Вывод:\n",
    "\n",
    "По графику видно, что группа А изначально была выше группы В, но со временем конверсия группы В стала выше, а конверсия группа А просела и зафиксировалась.\n",
    "\n"
   ]
  },
  {
   "cell_type": "markdown",
   "metadata": {},
   "source": [
    "### Построим график относительного изменения кумулятивной конверсии группы B к группе A. Сделайте выводы и предположения."
   ]
  },
  {
   "cell_type": "code",
   "execution_count": 33,
   "metadata": {},
   "outputs": [
    {
     "data": {
      "image/png": "[encoded data removed]",
      "text/plain": [
       "<Figure size 864x360 with 1 Axes>"
      ]
     },
     "metadata": {
      "needs_background": "light"
     },
     "output_type": "display_data"
    }
   ],
   "source": [
    "mergedCumulativeConversions = cumulativeDataA[['date','conversion']].merge(cumulativeDataB[['date','conversion']], left_on='date', right_on='date', how='left', suffixes=['A', 'B'])\n",
    "\n",
    "plt.plot(mergedCumulativeConversions['date'], mergedCumulativeConversions['conversionB']/mergedCumulativeConversions['conversionA']-1, label=\"Относительный прирост конверсии группы B относительно группы A\")\n",
    "plt.legend()\n",
    "\n",
    "plt.axhline(y=0, color='black', linestyle='--')\n",
    "plt.axhline(y=-0.1, color='grey', linestyle='--')\n",
    "plt.title('График относительного изменения кумулятивной конверсии группы B к группе A')\n",
    "plt.xlabel('Дата')\n",
    "plt.show()"
   ]
  },
  {
   "cell_type": "markdown",
   "metadata": {},
   "source": [
    "#### Вывод:\n",
    "\n",
    "В начале теста группа B значительно проигрывала группе A, вскоре вырвалась вперёд и постепенно растёт, с небольшими падениями. \n"
   ]
  },
  {
   "cell_type": "markdown",
   "metadata": {},
   "source": [
    "### Построим точечный график количества заказов по пользователям. Сделайте выводы и предположения."
   ]
  },
  {
   "cell_type": "markdown",
   "metadata": {},
   "source": [
    "Подсчитаем количество заказов по пользователям и посмотрим на результат:"
   ]
  },
  {
   "cell_type": "code",
   "execution_count": 34,
   "metadata": {},
   "outputs": [
    {
     "name": "stdout",
     "output_type": "stream",
     "text": [
      "         userId  orders\n",
      "908  3967698036       3\n",
      "55    249864742       3\n",
      "478  2108163459       3\n",
      "687  2988190573       3\n",
      "890  3908431265       3\n",
      "138   611059232       3\n",
      "632  2742574263       3\n",
      "157   678354126       2\n",
      "323  1404560065       2\n",
      "452  1985475298       2\n"
     ]
    }
   ],
   "source": [
    "ordersByUsers = (\n",
    "    orders.groupby('visitorId', as_index=False)\n",
    "    .agg({'transactionId': 'nunique'})\n",
    ")\n",
    "\n",
    "ordersByUsers.columns = ['userId', 'orders']\n",
    "\n",
    "print(ordersByUsers.sort_values(by='orders', ascending=False).head(10)) "
   ]
  },
  {
   "cell_type": "markdown",
   "metadata": {},
   "source": [
    "Есть пользователи, которые совершали 3, 2 и 1 заказ."
   ]
  },
  {
   "cell_type": "code",
   "execution_count": 35,
   "metadata": {},
   "outputs": [
    {
     "data": {
      "image/png": "[encoded data removed]",
      "text/plain": [
       "<Figure size 864x360 with 1 Axes>"
      ]
     },
     "metadata": {
      "needs_background": "light"
     },
     "output_type": "display_data"
    }
   ],
   "source": [
    "#Построим гистрограмму распределения количества заказов на одного пользователя.\n",
    "plt.hist(ordersByUsers['orders']) \n",
    "plt.title('Гистрограмма распределения количества заказов на одного пользователя')\n",
    "plt.xlabel('Количество заказов')\n",
    "plt.ylabel('Размер')\n",
    "plt.show()"
   ]
  },
  {
   "cell_type": "markdown",
   "metadata": {},
   "source": [
    "Больше всего пользователей, которые заказывали 1 раз."
   ]
  },
  {
   "cell_type": "code",
   "execution_count": 36,
   "metadata": {},
   "outputs": [
    {
     "data": {
      "image/png": "[encoded data removed]",
      "text/plain": [
       "<Figure size 864x360 with 1 Axes>"
      ]
     },
     "metadata": {
      "needs_background": "light"
     },
     "output_type": "display_data"
    }
   ],
   "source": [
    "x_values = pd.Series(range(0,len(ordersByUsers)))\n",
    "\n",
    "plt.scatter(x_values, ordersByUsers['orders'])\n",
    "plt.title('График количества заказов по пользователям')\n",
    "plt.xlabel('Размер')\n",
    "plt.ylabel('Количество заказов')\n",
    "plt.show()"
   ]
  },
  {
   "cell_type": "markdown",
   "metadata": {},
   "source": [
    "#### Вывод:\n",
    "Большинство покупателей заказывали только один раз. Могу предположить что, доля пользователей с 2-3 заказами незначительна.\n",
    "\n",
    "Их точная доля не ясна — непонятно, считать их аномалиями или нет.\n",
    "\n",
    "Посчитаем выборочные перцентили."
   ]
  },
  {
   "cell_type": "markdown",
   "metadata": {},
   "source": [
    "### Посчитаем 95-й и 99-й перцентили количества заказов на пользователя. Выберем границу для определения аномальных пользователей."
   ]
  },
  {
   "cell_type": "code",
   "execution_count": 37,
   "metadata": {},
   "outputs": [
    {
     "name": "stdout",
     "output_type": "stream",
     "text": [
      "[1. 1. 2.]\n"
     ]
    }
   ],
   "source": [
    "print(np.percentile(ordersByUsers['orders'], [90, 95, 99]))"
   ]
  },
  {
   "cell_type": "code",
   "execution_count": 38,
   "metadata": {},
   "outputs": [
    {
     "data": {
      "text/plain": [
       "1    937\n",
       "2     29\n",
       "3      7\n",
       "Name: orders, dtype: int64"
      ]
     },
     "execution_count": 38,
     "metadata": {},
     "output_type": "execute_result"
    }
   ],
   "source": [
    "#посмотрим визуально количество \n",
    "ordersByUsers['orders'].value_counts()"
   ]
  },
  {
   "cell_type": "markdown",
   "metadata": {},
   "source": [
    "#### Вывод:\n",
    "Не более 1% пользователей оформляли больше чем 2 заказа. 95% пользователей заказывали только один раз."
   ]
  },
  {
   "cell_type": "markdown",
   "metadata": {},
   "source": [
    "### Построим точечный график стоимостей заказов. Сделайте выводы и предположения."
   ]
  },
  {
   "cell_type": "code",
   "execution_count": 39,
   "metadata": {},
   "outputs": [
    {
     "data": {
      "text/plain": [
       "1294500"
      ]
     },
     "execution_count": 39,
     "metadata": {},
     "output_type": "execute_result"
    }
   ],
   "source": [
    "#выручка заказа с максимальной стоимостью\n",
    "orders['revenue'].max()"
   ]
  },
  {
   "cell_type": "code",
   "execution_count": 40,
   "metadata": {},
   "outputs": [
    {
     "data": {
      "image/png": "[encoded data removed]",
      "text/plain": [
       "<Figure size 864x360 with 1 Axes>"
      ]
     },
     "metadata": {
      "needs_background": "light"
     },
     "output_type": "display_data"
    }
   ],
   "source": [
    "x_values = pd.Series(range(0,len(orders['revenue'])))\n",
    "plt.scatter(x_values, orders['revenue'])\n",
    "plt.title('Точечный график стоимостей заказов')\n",
    "plt.ylabel('Стоимость')\n",
    "plt.show()"
   ]
  },
  {
   "cell_type": "markdown",
   "metadata": {},
   "source": [
    "В данных явно есть очень дорогой заказ"
   ]
  },
  {
   "cell_type": "code",
   "execution_count": 41,
   "metadata": {},
   "outputs": [],
   "source": [
    "revenueByUsers = (\n",
    "    orders.groupby('visitorId', as_index=False)\n",
    "    .agg({'revenue': 'sum'})\n",
    ")"
   ]
  },
  {
   "cell_type": "code",
   "execution_count": 42,
   "metadata": {},
   "outputs": [
    {
     "data": {
      "image/png": "[encoded data removed]",
      "text/plain": [
       "<Figure size 864x360 with 1 Axes>"
      ]
     },
     "metadata": {
      "needs_background": "light"
     },
     "output_type": "display_data"
    }
   ],
   "source": [
    "#также потроил с группировкой и посмотрел на результат\n",
    "x_values = pd.Series(range(0,len(revenueByUsers['revenue'])))\n",
    "plt.scatter(x_values, revenueByUsers['revenue'])\n",
    "plt.title('Точечный график стоимостей заказов')\n",
    "plt.ylabel('Стоимость')\n",
    "plt.show()"
   ]
  },
  {
   "cell_type": "markdown",
   "metadata": {},
   "source": [
    "#### Вывод:\n",
    "В данных есть очень дорогие заказы.\n",
    "\n",
    "\n",
    "Посчитаем выборочные перцентили  стоимости заказов.\n"
   ]
  },
  {
   "cell_type": "markdown",
   "metadata": {},
   "source": [
    "### Посчитаем 95-й и 99-й перцентили стоимости заказов. Выберите границу для определения аномальных заказов."
   ]
  },
  {
   "cell_type": "code",
   "execution_count": 43,
   "metadata": {},
   "outputs": [
    {
     "name": "stdout",
     "output_type": "stream",
     "text": [
      "[17990. 26785. 53904.]\n"
     ]
    }
   ],
   "source": [
    "#Определим 90, 95 и 99 перцентили среднего чека в выборке:\n",
    "print(np.percentile(orders['revenue'], [90, 95, 99]))"
   ]
  },
  {
   "cell_type": "code",
   "execution_count": 44,
   "metadata": {},
   "outputs": [
    {
     "name": "stdout",
     "output_type": "stream",
     "text": [
      "[18236. 28910. 59082.]\n"
     ]
    }
   ],
   "source": [
    "#посчитал перцентили по группировке\n",
    "print(np.percentile(revenueByUsers['revenue'], [90, 95, 99]))"
   ]
  },
  {
   "cell_type": "markdown",
   "metadata": {},
   "source": [
    "#### Вывод:\n",
    "Не более 1% пользователей оформляли больше чем 2 заказа. 95% пользователей заказывали только один раз.\n",
    "\n",
    "Также посчитал перцентили среднего чека. \n",
    "\n",
    "Не более 5% выручек заказов составила 26785 (рубль, доллар, лира, без понятия, недостаточно данных ^_^ ).\n",
    "\n",
    "Мы оценили результаты A/B-теста визуально и выяснили, что в данных, скорее всего, есть выбросы, нашли выбросы и нашли границу для их определения.\n"
   ]
  },
  {
   "cell_type": "markdown",
   "metadata": {},
   "source": [
    "Посчитаем статистическую значимость различий в конверсии и среднем чеке \n",
    "между группами по «сырым» данным — без удаления аномальных пользователей."
   ]
  },
  {
   "cell_type": "markdown",
   "metadata": {},
   "source": [
    "### Посчитаем статистическую значимость различий в конверсии между группами по «сырым» данным. Сделаем выводы и предположения."
   ]
  },
  {
   "cell_type": "markdown",
   "metadata": {},
   "source": [
    "# Сформулируем гипотезы. \n",
    "- H0: различий в конверсии между группами A и B нет. \n",
    "- H1: различия в конверсии между группами A и B есть."
   ]
  },
  {
   "cell_type": "code",
   "execution_count": 45,
   "metadata": {},
   "outputs": [
    {
     "data": {
      "text/html": [
       "<div>\n",
       "<style scoped>\n",
       "    .dataframe tbody tr th:only-of-type {\n",
       "        vertical-align: middle;\n",
       "    }\n",
       "\n",
       "    .dataframe tbody tr th {\n",
       "        vertical-align: top;\n",
       "    }\n",
       "\n",
       "    .dataframe thead th {\n",
       "        text-align: right;\n",
       "    }\n",
       "</style>\n",
       "<table border=\"1\" class=\"dataframe\">\n",
       "  <thead>\n",
       "    <tr style=\"text-align: right;\">\n",
       "      <th></th>\n",
       "      <th>date</th>\n",
       "      <th>ordersPerDateA</th>\n",
       "      <th>revenuePerDateA</th>\n",
       "      <th>ordersPerDateB</th>\n",
       "      <th>revenuePerDateB</th>\n",
       "      <th>ordersCummulativeA</th>\n",
       "      <th>revenueCummulativeA</th>\n",
       "      <th>ordersCummulativeB</th>\n",
       "      <th>revenueCummulativeB</th>\n",
       "      <th>visitorsPerDateA</th>\n",
       "      <th>visitorsPerDateB</th>\n",
       "      <th>visitorsCummulativeA</th>\n",
       "      <th>visitorsCummulativeB</th>\n",
       "    </tr>\n",
       "  </thead>\n",
       "  <tbody>\n",
       "    <tr>\n",
       "      <th>0</th>\n",
       "      <td>2019-08-01</td>\n",
       "      <td>19</td>\n",
       "      <td>142779</td>\n",
       "      <td>17</td>\n",
       "      <td>59758</td>\n",
       "      <td>19</td>\n",
       "      <td>142779</td>\n",
       "      <td>17</td>\n",
       "      <td>59758</td>\n",
       "      <td>719</td>\n",
       "      <td>713</td>\n",
       "      <td>719</td>\n",
       "      <td>713</td>\n",
       "    </tr>\n",
       "    <tr>\n",
       "      <th>1</th>\n",
       "      <td>2019-08-02</td>\n",
       "      <td>18</td>\n",
       "      <td>91602</td>\n",
       "      <td>22</td>\n",
       "      <td>162043</td>\n",
       "      <td>37</td>\n",
       "      <td>234381</td>\n",
       "      <td>39</td>\n",
       "      <td>221801</td>\n",
       "      <td>619</td>\n",
       "      <td>581</td>\n",
       "      <td>1338</td>\n",
       "      <td>1294</td>\n",
       "    </tr>\n",
       "    <tr>\n",
       "      <th>2</th>\n",
       "      <td>2019-08-03</td>\n",
       "      <td>24</td>\n",
       "      <td>112473</td>\n",
       "      <td>14</td>\n",
       "      <td>67049</td>\n",
       "      <td>61</td>\n",
       "      <td>346854</td>\n",
       "      <td>53</td>\n",
       "      <td>288850</td>\n",
       "      <td>507</td>\n",
       "      <td>509</td>\n",
       "      <td>1845</td>\n",
       "      <td>1803</td>\n",
       "    </tr>\n",
       "    <tr>\n",
       "      <th>3</th>\n",
       "      <td>2019-08-04</td>\n",
       "      <td>11</td>\n",
       "      <td>41176</td>\n",
       "      <td>13</td>\n",
       "      <td>96890</td>\n",
       "      <td>72</td>\n",
       "      <td>388030</td>\n",
       "      <td>66</td>\n",
       "      <td>385740</td>\n",
       "      <td>717</td>\n",
       "      <td>770</td>\n",
       "      <td>2562</td>\n",
       "      <td>2573</td>\n",
       "    </tr>\n",
       "    <tr>\n",
       "      <th>4</th>\n",
       "      <td>2019-08-05</td>\n",
       "      <td>22</td>\n",
       "      <td>86383</td>\n",
       "      <td>21</td>\n",
       "      <td>89908</td>\n",
       "      <td>94</td>\n",
       "      <td>474413</td>\n",
       "      <td>87</td>\n",
       "      <td>475648</td>\n",
       "      <td>756</td>\n",
       "      <td>707</td>\n",
       "      <td>3318</td>\n",
       "      <td>3280</td>\n",
       "    </tr>\n",
       "  </tbody>\n",
       "</table>\n",
       "</div>"
      ],
      "text/plain": [
       "        date  ordersPerDateA  revenuePerDateA  ordersPerDateB  \\\n",
       "0 2019-08-01              19           142779              17   \n",
       "1 2019-08-02              18            91602              22   \n",
       "2 2019-08-03              24           112473              14   \n",
       "3 2019-08-04              11            41176              13   \n",
       "4 2019-08-05              22            86383              21   \n",
       "\n",
       "   revenuePerDateB  ordersCummulativeA  revenueCummulativeA  \\\n",
       "0            59758                  19               142779   \n",
       "1           162043                  37               234381   \n",
       "2            67049                  61               346854   \n",
       "3            96890                  72               388030   \n",
       "4            89908                  94               474413   \n",
       "\n",
       "   ordersCummulativeB  revenueCummulativeB  visitorsPerDateA  \\\n",
       "0                  17                59758               719   \n",
       "1                  39               221801               619   \n",
       "2                  53               288850               507   \n",
       "3                  66               385740               717   \n",
       "4                  87               475648               756   \n",
       "\n",
       "   visitorsPerDateB  visitorsCummulativeA  visitorsCummulativeB  \n",
       "0               713                   719                   713  \n",
       "1               581                  1338                  1294  \n",
       "2               509                  1845                  1803  \n",
       "3               770                  2562                  2573  \n",
       "4               707                  3318                  3280  "
      ]
     },
     "execution_count": 45,
     "metadata": {},
     "output_type": "execute_result"
    }
   ],
   "source": [
    "#Начнём с подготовки данных.\n",
    "visitorsADaily = visitors[visitors['group'] == 'A'][['date', 'visitors']]\n",
    "visitorsADaily.columns = ['date', 'visitorsPerDateA']\n",
    "\n",
    "visitorsACummulative = visitorsADaily.apply(\n",
    "    lambda x: visitorsADaily[visitorsADaily['date'] <= x['date']].agg(\n",
    "        {'date': 'max', 'visitorsPerDateA': 'sum'}\n",
    "    ),\n",
    "    axis=1,\n",
    ")\n",
    "visitorsACummulative.columns = ['date', 'visitorsCummulativeA']\n",
    "\n",
    "visitorsBDaily = visitors[visitors['group'] == 'B'][['date', 'visitors']]\n",
    "visitorsBDaily.columns = ['date', 'visitorsPerDateB']\n",
    "\n",
    "visitorsBCummulative = visitorsBDaily.apply(\n",
    "    lambda x: visitorsBDaily[visitorsBDaily['date'] <= x['date']].agg(\n",
    "        {'date': 'max', 'visitorsPerDateB': 'sum'}\n",
    "    ),\n",
    "    axis=1,\n",
    ")\n",
    "visitorsBCummulative.columns = ['date', 'visitorsCummulativeB']\n",
    "\n",
    "ordersADaily = (\n",
    "    orders[orders['group'] == 'A'][['date', 'transactionId', 'visitorId', 'revenue']]\n",
    "    .groupby('date', as_index=False)\n",
    "    .agg({'visitorId': pd.Series.nunique, 'revenue': 'sum'})\n",
    ")\n",
    "ordersADaily.columns = ['date', 'ordersPerDateA', 'revenuePerDateA']\n",
    "\n",
    "ordersACummulative = ordersADaily.apply(\n",
    "    lambda x: ordersADaily[ordersADaily['date'] <= x['date']].agg(\n",
    "        {'date': 'max', 'ordersPerDateA': 'sum', 'revenuePerDateA': 'sum'}\n",
    "    ),\n",
    "    axis=1,\n",
    ").sort_values(by=['date'])\n",
    "ordersACummulative.columns = [\n",
    "    'date',\n",
    "    'ordersCummulativeA',\n",
    "    'revenueCummulativeA',\n",
    "]\n",
    "\n",
    "ordersBDaily = (\n",
    "    orders[orders['group'] == 'B'][['date', 'transactionId', 'visitorId', 'revenue']]\n",
    "    .groupby('date', as_index=False)\n",
    "    .agg({'visitorId': pd.Series.nunique, 'revenue': 'sum'})\n",
    ")\n",
    "ordersBDaily.columns = ['date', 'ordersPerDateB', 'revenuePerDateB']\n",
    "\n",
    "ordersBCummulative = ordersBDaily.apply(\n",
    "    lambda x: ordersBDaily[ordersBDaily['date'] <= x['date']].agg(\n",
    "        {'date': 'max', 'ordersPerDateB': 'sum', 'revenuePerDateB': 'sum'}\n",
    "    ),\n",
    "    axis=1,\n",
    ").sort_values(by=['date'])\n",
    "ordersBCummulative.columns = [\n",
    "    'date',\n",
    "    'ordersCummulativeB',\n",
    "    'revenueCummulativeB',\n",
    "]\n",
    "\n",
    "data = (\n",
    "    ordersADaily.merge(\n",
    "        ordersBDaily, left_on='date', right_on='date', how='left'\n",
    "    )\n",
    "    .merge(ordersACummulative, left_on='date', right_on='date', how='left')\n",
    "    .merge(ordersBCummulative, left_on='date', right_on='date', how='left')\n",
    "    .merge(visitorsADaily, left_on='date', right_on='date', how='left')\n",
    "    .merge(visitorsBDaily, left_on='date', right_on='date', how='left')\n",
    "    .merge(visitorsACummulative, left_on='date', right_on='date', how='left')\n",
    "    .merge(visitorsBCummulative, left_on='date', right_on='date', how='left')\n",
    ")\n",
    "\n",
    "data.head(5) "
   ]
  },
  {
   "cell_type": "markdown",
   "metadata": {},
   "source": [
    "# Названия столбцов данных:\n",
    "- date — дата;\n",
    "- ordersPerDateA — количество заказов в выбранную дату в группе A;\n",
    "- revenuePerDateA — суммарная выручка в выбранную дату в группе A;\n",
    "- ordersPerDateB — количество заказов в выбранную дату в группе B;\n",
    "- revenuePerDateB — суммарная выручка в выбранную дату в группе B;\n",
    "- ordersCummulativeA — суммарное число заказов до выбранной даты включительно в группе A;\n",
    "- revenueCummulativeA — суммарная выручка до выбранной даты включительно в группе A;\n",
    "- ordersCummulativeB — суммарное количество заказов до выбранной даты включительно в группе B;\n",
    "- revenueCummulativeB — суммарная выручка до выбранной даты включительно в группе B;\n",
    "- visitorsPerDateA — количество пользователей в выбранную дату в группе A;\n",
    "- visitorsPerDateB — количество пользователей в выбранную дату в группе B;\n",
    "- visitorsCummulativeA — количество пользователей до выбранной даты включительно в группе A;\n",
    "- visitorsCummulativeB — количество пользователей до выбранной даты включительно в группе B."
   ]
  },
  {
   "cell_type": "code",
   "execution_count": 46,
   "metadata": {},
   "outputs": [],
   "source": [
    "#Создадим переменные ordersByUsersA и ordersByUsersB со столбцами ['userId', 'orders']. \n",
    "#В них для пользователей, которые заказывали хотя бы 1 раз, укажем число совершённых заказов.\n",
    "\n",
    "ordersByUsersA = (\n",
    "    orders[orders['group'] == 'A']\n",
    "    .groupby('visitorId', as_index=False)\n",
    "    .agg({'transactionId': pd.Series.nunique})\n",
    ")\n",
    "ordersByUsersA.columns = ['userId', 'orders']\n",
    "\n",
    "ordersByUsersB = (\n",
    "    orders[orders['group'] == 'B']\n",
    "    .groupby('visitorId', as_index=False)\n",
    "    .agg({'transactionId': pd.Series.nunique})\n",
    ")\n",
    "ordersByUsersB.columns = ['userId', 'orders']"
   ]
  },
  {
   "cell_type": "markdown",
   "metadata": {},
   "source": [
    "- Объявим переменные sampleA и sampleB, в которых пользователям из разных групп будет соответствовать количество заказов. \n",
    "- Тем, кто ничего не заказал, будут соответствовать нули. \n",
    "- Это нужно, чтобы подготовить выборки к проверке критерием Манна-Уитни."
   ]
  },
  {
   "cell_type": "code",
   "execution_count": 47,
   "metadata": {},
   "outputs": [
    {
     "name": "stdout",
     "output_type": "stream",
     "text": [
      "0.011\n",
      "0.160\n"
     ]
    }
   ],
   "source": [
    "sampleA = pd.concat(\n",
    "    [\n",
    "        ordersByUsersA['orders'],\n",
    "        pd.Series(\n",
    "            0,\n",
    "            index=np.arange(\n",
    "                data['visitorsPerDateA'].sum() - len(ordersByUsersA['orders'])\n",
    "            ),\n",
    "            name='orders',\n",
    "        ),\n",
    "    ],\n",
    "    axis=0,\n",
    ")\n",
    "\n",
    "sampleB = pd.concat(\n",
    "    [\n",
    "        ordersByUsersB['orders'],\n",
    "        pd.Series(\n",
    "            0,\n",
    "            index=np.arange(\n",
    "                data['visitorsPerDateB'].sum() - len(ordersByUsersB['orders'])\n",
    "            ),\n",
    "            name='orders',\n",
    "        ),\n",
    "    ],\n",
    "    axis=0,\n",
    ")\n",
    "\n",
    "#Выведем относительный прирост конверсии группы B: конверсия группы B / конверсия группы A - 1. \n",
    "#Округлим до трёх знаков после запятой.\n",
    "print(\"{0:.3f}\".format(stats.mannwhitneyu(sampleA, sampleB)[1]))\n",
    "\n",
    "print(\"{0:.3f}\".format(sampleB.mean() / sampleA.mean() - 1))\n"
   ]
  },
  {
   "cell_type": "markdown",
   "metadata": {},
   "source": [
    "#### Вывод:\n",
    "\n",
    "\n",
    "Первое число — p-value = 0.011 меньше 0.05. \n",
    "\n",
    "\n",
    "Значит, нулевую гипотезу о том, что статистически значимых различий в конверсии между группами нет, отвергаем. Различия в конверсии между группами есть.\n",
    "\n",
    "\n",
    "Относительный выигрыш группы B равен + 16% — Это показывает второе число в выводе."
   ]
  },
  {
   "cell_type": "markdown",
   "metadata": {},
   "source": [
    "### Посчитаем статистическую значимость различий в среднем чеке заказа между группами по «сырым» данным. Сделаем выводы и предположения."
   ]
  },
  {
   "cell_type": "code",
   "execution_count": 48,
   "metadata": {},
   "outputs": [
    {
     "name": "stdout",
     "output_type": "stream",
     "text": [
      "0.829\n",
      "0.287\n"
     ]
    }
   ],
   "source": [
    "print('{0:.3f}'.format(stats.mannwhitneyu(orders[orders['group']=='A']['revenue'], orders[orders['group']=='B']['revenue'])[1]))\n",
    "print('{0:.3f}'.format(orders[orders['group']=='B']['revenue'].mean()/orders[orders['group']=='A']['revenue'].mean()-1))"
   ]
  },
  {
   "cell_type": "markdown",
   "metadata": {},
   "source": [
    "#### Вывод:\n",
    "\n",
    "P-value значительно больше 0.05. \n",
    "\n",
    "Наблюдаемое различие в 28.7% в группе В не является статистически значимым."
   ]
  },
  {
   "cell_type": "markdown",
   "metadata": {},
   "source": [
    "### Посчитаем статистическую значимость различий в конверсии между группами по «очищенным» данным. Сделаем выводы и предположения."
   ]
  },
  {
   "cell_type": "markdown",
   "metadata": {},
   "source": [
    "Примем за аномальных пользователей тех, кто совершил от 2 заказов или совершил заказ дороже 26 785 рублей. \n",
    "\n",
    "Так мы уберём 1% пользователей с наибольшим числом заказов и до 5% пользователей с дорогими заказами. \n",
    "\n",
    "\n",
    "Сделаем срезы пользователей с числом заказов больше 1 — usersWithManyOrders и пользователей, совершивших заказы дороже 26 785 — usersWithExpensiveOrders. Объединим их в таблице abnormalUsers."
   ]
  },
  {
   "cell_type": "code",
   "execution_count": 49,
   "metadata": {},
   "outputs": [
    {
     "name": "stdout",
     "output_type": "stream",
     "text": [
      "568     113298937\n",
      "1099    148427295\n",
      "928     204675465\n",
      "33      249864742\n",
      "684     358944393\n",
      "dtype: int64\n",
      "86\n"
     ]
    }
   ],
   "source": [
    "usersWithManyOrders = pd.concat(\n",
    "    [\n",
    "        ordersByUsersA[ordersByUsersA['orders'] > 1]['userId'],\n",
    "        ordersByUsersB[ordersByUsersB['orders'] > 1]['userId'],\n",
    "    ],\n",
    "    axis=0,\n",
    ")\n",
    "usersWithExpensiveOrders = orders[orders['revenue'] > 26785]['visitorId']\n",
    "abnormalUsers = (\n",
    "    pd.concat([usersWithManyOrders, usersWithExpensiveOrders], axis=0)\n",
    "    .drop_duplicates()\n",
    "    .sort_values()\n",
    ")\n",
    "print(abnormalUsers.head(5))\n",
    "#Узнаем, сколько всего аномальных пользователей методом shape()\n",
    "print(abnormalUsers.shape[0])"
   ]
  },
  {
   "cell_type": "markdown",
   "metadata": {},
   "source": [
    "Всего 86 аномальных пользователей."
   ]
  },
  {
   "cell_type": "markdown",
   "metadata": {},
   "source": [
    "Узнаем, как их действия повлияли на результаты теста. \n",
    "\n",
    "Посчитаем статистическую значимость различий в конверсии между группами теста по очищенным данным. Сначала подготовим выборки количества заказов по пользователям по группам теста:"
   ]
  },
  {
   "cell_type": "code",
   "execution_count": 50,
   "metadata": {},
   "outputs": [],
   "source": [
    "#Сначала подготовим выборки количества заказов по пользователям по группам теста:\n",
    "sampleAFiltered = pd.concat(\n",
    "    [\n",
    "        ordersByUsersA[\n",
    "            np.logical_not(ordersByUsersA['userId'].isin(abnormalUsers))\n",
    "        ]['orders'],\n",
    "        pd.Series(\n",
    "            0,\n",
    "            index=np.arange(\n",
    "                data['visitorsPerDateA'].sum() - len(ordersByUsersA['orders'])\n",
    "            ),\n",
    "            name='orders',\n",
    "        ),\n",
    "    ],\n",
    "    axis=0,\n",
    ")\n",
    "\n",
    "sampleBFiltered = pd.concat(\n",
    "    [\n",
    "        ordersByUsersB[\n",
    "            np.logical_not(ordersByUsersB['userId'].isin(abnormalUsers))\n",
    "        ]['orders'],\n",
    "        pd.Series(\n",
    "            0,\n",
    "            index=np.arange(\n",
    "                data['visitorsPerDateB'].sum() - len(ordersByUsersB['orders'])\n",
    "            ),\n",
    "            name='orders',\n",
    "        ),\n",
    "    ],\n",
    "    axis=0,\n",
    ")"
   ]
  },
  {
   "cell_type": "markdown",
   "metadata": {},
   "source": [
    "Применим статистический критерий Манна-Уитни к полученным выборкам:"
   ]
  },
  {
   "cell_type": "code",
   "execution_count": 51,
   "metadata": {},
   "outputs": [
    {
     "name": "stdout",
     "output_type": "stream",
     "text": [
      "0.016\n",
      "0.174\n"
     ]
    }
   ],
   "source": [
    "print('{0:.3f}'.format(stats.mannwhitneyu(sampleAFiltered, sampleBFiltered)[1]))\n",
    "print('{0:.3f}'.format(sampleBFiltered.mean()/sampleAFiltered.mean()-1))"
   ]
  },
  {
   "cell_type": "markdown",
   "metadata": {},
   "source": [
    "#### Вывод:\n",
    "Результаты по конверсии практически не изменились.\n",
    "\n",
    "- Первое число — p-value, также ниже 0.05, значит Различия в конверсиях есть,нулевую гипотезу отвергаем. \n",
    "\n",
    "- Второе число - выигрыш группы B равен + 17.4%\n",
    "\n"
   ]
  },
  {
   "cell_type": "markdown",
   "metadata": {},
   "source": [
    "### Посчитаем статистическую значимость различий в среднем чеке заказа между группами по «очищенным» данным. Сделайте выводы и предположения."
   ]
  },
  {
   "cell_type": "code",
   "execution_count": 52,
   "metadata": {},
   "outputs": [
    {
     "name": "stdout",
     "output_type": "stream",
     "text": [
      "0.727\n",
      "-0.034\n"
     ]
    }
   ],
   "source": [
    "print(\n",
    "    '{0:.3f}'.format(\n",
    "        stats.mannwhitneyu(\n",
    "            orders[\n",
    "                np.logical_and(\n",
    "                    orders['group'] == 'A',\n",
    "                    np.logical_not(orders['visitorId'].isin(abnormalUsers)),\n",
    "                )\n",
    "            ]['revenue'],\n",
    "            orders[\n",
    "                np.logical_and(\n",
    "                    orders['group'] == 'B',\n",
    "                    np.logical_not(orders['visitorId'].isin(abnormalUsers)),\n",
    "                )\n",
    "            ]['revenue'],\n",
    "        )[1]\n",
    "    )\n",
    ")\n",
    "\n",
    "print(\n",
    "    \"{0:.3f}\".format(\n",
    "        orders[\n",
    "            np.logical_and(\n",
    "                orders['group'] == 'B',\n",
    "                np.logical_not(orders['visitorId'].isin(abnormalUsers)),\n",
    "            )\n",
    "        ]['revenue'].mean()\n",
    "        / orders[\n",
    "            np.logical_and(\n",
    "                orders['group'] == 'A',\n",
    "                np.logical_not(orders['visitorId'].isin(abnormalUsers)),\n",
    "            )\n",
    "        ]['revenue'].mean()\n",
    "        - 1\n",
    "    )\n",
    ")"
   ]
  },
  {
   "cell_type": "markdown",
   "metadata": {},
   "source": [
    "#### Вывод: \n",
    "Первое число - P-value уменьшился было - 0.829, стало - 0.727, P-value по-прежнему больше 0.05. \n",
    "\n",
    "Различий нет, средние чеки равны. \n",
    "\n",
    "Разница в среднем чеке между сегментами сократилась с +28.7% до -0.3%.(второе число в выводе.) \n",
    "\n"
   ]
  },
  {
   "cell_type": "markdown",
   "metadata": {},
   "source": [
    "Имеющиеся факты:\n",
    "    \n",
    "    \n",
    "- Есть статистически значимые различия по конверсии между группами по «сырым» и по данным после фильтрации аномалий(выигрыш группы B + 17.4%);\n",
    "\n",
    "\n",
    "- Нет статистически значимого различия по среднему чеку между группами по «сырым», но по данным после фильтрации есть изменения. Различий нет, средние чеки равны. Разница в среднем чеке между сегментами сократилась с +28.7% до -0.3%.\n",
    "\n"
   ]
  },
  {
   "cell_type": "markdown",
   "metadata": {},
   "source": [
    "###  Примем решение по результатам теста и объясните его. Варианты решений: 1. Остановить тест, зафиксировать победу одной из групп. 2. Остановить тест, зафиксировать отсутствие различий между группами. 3. Продолжить тест."
   ]
  },
  {
   "cell_type": "markdown",
   "metadata": {},
   "source": [
    "# Посмотрим на графики по очищенным данным"
   ]
  },
  {
   "cell_type": "code",
   "execution_count": 53,
   "metadata": {},
   "outputs": [],
   "source": [
    "# В пункте 12 мы нашли аномальных пользователей, а сейчас сделаем срез данных без низ и проанализируем графики.\n",
    "abnormalUsers_3 =  list(abnormalUsers)"
   ]
  },
  {
   "cell_type": "code",
   "execution_count": 54,
   "metadata": {},
   "outputs": [],
   "source": [
    "orders_clean = orders.query('visitorId != @abnormalUsers_3')"
   ]
  },
  {
   "cell_type": "code",
   "execution_count": 55,
   "metadata": {},
   "outputs": [
    {
     "name": "stdout",
     "output_type": "stream",
     "text": [
      "        date group  orders  buyers  revenue  visitors\n",
      "0 2019-08-01     A      13      13    31869       719\n",
      "1 2019-08-01     B      17      17    59758       713\n",
      "2 2019-08-02     A      28      28    78352      1338\n",
      "3 2019-08-02     B      35      35   144622      1294\n",
      "4 2019-08-03     A      52      52   190825      1845\n"
     ]
    }
   ],
   "source": [
    "# создаем массив уникальных пар значений дат и групп теста по очищенным данным\n",
    "datesGroups = orders_clean[['date','group']].drop_duplicates()\n",
    "\n",
    "# получаем агрегированные кумулятивные по дням данные о заказах  по очищенным данным\n",
    "ordersAggregated = datesGroups.apply(lambda x: orders_clean[np.logical_and(orders_clean['date'] <= x['date'], orders_clean['group'] == x['group'])].agg({'date' : 'max', 'group' : 'max', 'transactionId' : 'nunique', 'visitorId' : 'nunique', 'revenue' : 'sum'}), axis=1).sort_values(by=['date','group'])\n",
    "\n",
    "# получаем агрегированные кумулятивные по дням данные о посетителях интернет-магазина \n",
    "visitorsAggregated = datesGroups.apply(lambda x: visitors[np.logical_and(visitors['date'] <= x['date'], visitors['group'] == x['group'])].agg({'date' : 'max', 'group' : 'max', 'visitors' : 'sum'}), axis=1).sort_values(by=['date','group'])\n",
    "\n",
    "# объединяем кумулятивные данные в одной таблице и присваиваем ее столбцам понятные названия\n",
    "cumulativeData = ordersAggregated.merge(visitorsAggregated, left_on=['date', 'group'], right_on=['date', 'group'])\n",
    "cumulativeData.columns = ['date', 'group', 'orders', 'buyers', 'revenue', 'visitors']\n",
    "\n",
    "print(cumulativeData.head(5))"
   ]
  },
  {
   "cell_type": "markdown",
   "metadata": {},
   "source": [
    "# График кумулятивной выручки по группам"
   ]
  },
  {
   "cell_type": "code",
   "execution_count": 56,
   "metadata": {},
   "outputs": [
    {
     "data": {
      "image/png": "[encoded data removed]",
      "text/plain": [
       "<Figure size 864x360 with 1 Axes>"
      ]
     },
     "metadata": {
      "needs_background": "light"
     },
     "output_type": "display_data"
    }
   ],
   "source": [
    "# датафрейм с кумулятивным количеством заказов и кумулятивной выручкой по дням в группе А\n",
    "cumulativeRevenueA = cumulativeData[cumulativeData['group']=='A'][['date','revenue', 'orders']]\n",
    "\n",
    "# датафрейм с кумулятивным количеством заказов и кумулятивной выручкой по дням в группе B\n",
    "cumulativeRevenueB = cumulativeData[cumulativeData['group']=='B'][['date','revenue', 'orders']]\n",
    "\n",
    "# Строим график выручки группы А\n",
    "plt.plot(cumulativeRevenueA['date'], cumulativeRevenueA['revenue'], label='A')\n",
    "\n",
    "# Строим график выручки группы B\n",
    "plt.plot(cumulativeRevenueB['date'], cumulativeRevenueB['revenue'], label='B')\n",
    "\n",
    "\n",
    "plt.title('График выручки')\n",
    "plt.xlabel('Дата')\n",
    "plt.ylabel('Размер выручки')\n",
    "plt.legend()\n",
    "plt.show()"
   ]
  },
  {
   "cell_type": "markdown",
   "metadata": {},
   "source": [
    "# График кумулятивного среднего чека по группам"
   ]
  },
  {
   "cell_type": "code",
   "execution_count": 57,
   "metadata": {},
   "outputs": [
    {
     "data": {
      "image/png": "[encoded data removed]",
      "text/plain": [
       "<Figure size 864x360 with 1 Axes>"
      ]
     },
     "metadata": {
      "needs_background": "light"
     },
     "output_type": "display_data"
    }
   ],
   "source": [
    "plt.plot(cumulativeRevenueA['date'], cumulativeRevenueA['revenue']/cumulativeRevenueA['orders'], label='A')\n",
    "plt.plot(cumulativeRevenueB['date'], cumulativeRevenueB['revenue']/cumulativeRevenueB['orders'], label='B')\n",
    "plt.title('График среднего чека')\n",
    "plt.xlabel('Дата')\n",
    "plt.ylabel('Размер среднего чека')\n",
    "plt.legend()\n",
    "plt.show()"
   ]
  },
  {
   "cell_type": "markdown",
   "metadata": {},
   "source": [
    "# График относительного различия для среднего чека по очищенным данным"
   ]
  },
  {
   "cell_type": "code",
   "execution_count": 58,
   "metadata": {},
   "outputs": [
    {
     "data": {
      "image/png": "[encoded data removed]",
      "text/plain": [
       "<Figure size 864x360 with 1 Axes>"
      ]
     },
     "metadata": {
      "needs_background": "light"
     },
     "output_type": "display_data"
    }
   ],
   "source": [
    "#Построим график относительного различия для среднего чека. \n",
    "#Добавим горизонтальную ось методом axhline()\n",
    "\n",
    "# собираем данные в одном датафрейме\n",
    "mergedCumulativeRevenue = cumulativeRevenueA.merge(cumulativeRevenueB, left_on='date', right_on='date', how='left', suffixes=['A', 'B'])\n",
    "\n",
    "# cтроим отношение средних чеков\n",
    "plt.plot(mergedCumulativeRevenue['date'], (mergedCumulativeRevenue['revenueB']/mergedCumulativeRevenue['ordersB'])/(mergedCumulativeRevenue['revenueA']/mergedCumulativeRevenue['ordersA'])-1)\n",
    "\n",
    "# добавляем ось X\n",
    "plt.axhline(y=0, color='black', linestyle='--')\n",
    "plt.title('График относительного различия для среднего чека')\n",
    "plt.xlabel('Дата')\n",
    "plt.ylabel('Различие относительно группы А')\n",
    "plt.show()"
   ]
  },
  {
   "cell_type": "markdown",
   "metadata": {},
   "source": [
    "# Вывод: График различия среднего чека говорит о том, что результаты группы B не такие уж и успешные, как могли показаться на первый взгляд(до удаления аномалий) и сейчас можно сказать что группа А стоит выше группы В."
   ]
  },
  {
   "cell_type": "markdown",
   "metadata": {},
   "source": [
    "# График кумулятивной конверсии по группам."
   ]
  },
  {
   "cell_type": "code",
   "execution_count": 59,
   "metadata": {},
   "outputs": [
    {
     "data": {
      "image/png": "[encoded data removed]",
      "text/plain": [
       "<Figure size 864x360 with 1 Axes>"
      ]
     },
     "metadata": {
      "needs_background": "light"
     },
     "output_type": "display_data"
    }
   ],
   "source": [
    "# считаем кумулятивную конверсию\n",
    "cumulativeData['conversion'] = cumulativeData['orders']/cumulativeData['visitors']\n",
    "\n",
    "# отделяем данные по группе A\n",
    "cumulativeDataA = cumulativeData[cumulativeData['group']=='A']\n",
    "\n",
    "# отделяем данные по группе B\n",
    "cumulativeDataB = cumulativeData[cumulativeData['group']=='B']\n",
    "\n",
    "# строим графики\n",
    "plt.plot(cumulativeDataA['date'], cumulativeDataA['conversion'], label='A')\n",
    "plt.plot(cumulativeDataB['date'], cumulativeDataB['conversion'], label='B')\n",
    "plt.legend()\n",
    "\n",
    "plt.title('График кумулятивной конверсии')\n",
    "plt.xlabel('Дата')\n",
    "plt.ylabel('Размер конверсии')\n",
    "plt.show()\n"
   ]
  },
  {
   "cell_type": "markdown",
   "metadata": {},
   "source": [
    "# График относительного изменения кумулятивной конверсии группы B к группе A"
   ]
  },
  {
   "cell_type": "code",
   "execution_count": 60,
   "metadata": {},
   "outputs": [
    {
     "data": {
      "image/png": "[encoded data removed]",
      "text/plain": [
       "<Figure size 864x360 with 1 Axes>"
      ]
     },
     "metadata": {
      "needs_background": "light"
     },
     "output_type": "display_data"
    }
   ],
   "source": [
    "mergedCumulativeConversions = cumulativeDataA[['date','conversion']].merge(cumulativeDataB[['date','conversion']], left_on='date', right_on='date', how='left', suffixes=['A', 'B'])\n",
    "\n",
    "plt.plot(mergedCumulativeConversions['date'], mergedCumulativeConversions['conversionB']/mergedCumulativeConversions['conversionA']-1, label=\"Относительный прирост конверсии группы B относительно группы A\")\n",
    "plt.legend()\n",
    "\n",
    "plt.axhline(y=0, color='black', linestyle='--')\n",
    "plt.title('График относительного изменения кумулятивной конверсии группы B к группе A')\n",
    "plt.xlabel('Дата')\n",
    "plt.show()"
   ]
  },
  {
   "cell_type": "markdown",
   "metadata": {},
   "source": [
    "#### Вывод:\n",
    "\n",
    "График относительного изменения кумулятивной конверсии группы B к группе A сообщает, что результаты группы B лучше,у группы A и нет значительной тенденции к улучшению"
   ]
  },
  {
   "cell_type": "markdown",
   "metadata": {},
   "source": [
    "#### Вывод:\n",
    "\n",
    "- Есть статистически значимые различия по конверсии между группами по «сырым» и по данным после фильтрации аномалий(выигрыш группы B + 17.4%);\n",
    "\n",
    "- Нет статистически значимого различия по среднему чеку между группами по «сырым», но по данным после фильтрации есть изменения. Различий нет, средние чеки равны. Разница в среднем чеке между сегментами сократилась с +28.7% до -0.3%.\n",
    "\n",
    "- График различия конверсии между группами сообщает, что результаты группы B лучше группы A\n",
    "\n",
    "- График различия среднего чека говорит о том, что результаты группы B хуже группы А\n",
    "\n",
    "Исходя из фактов выше,я считаю, что нужно остановить тест, признать его успешным и перейти к проверке следующей гипотезы.  \n",
    "\n",
    "По средним чекам группы равны. По различию конверсии победа группы В. "
   ]
  },
  {
   "cell_type": "markdown",
   "metadata": {},
   "source": [
    "Тут тест окрасился только на половину - по конверсии. Но это тоже хорошо (хотя, надо принимать во внимание, что было важнее - увеличить средний чек или конверсию). И значит мы заканчиваем анализ A/B-теста - он оказался успешным! 🙂"
   ]
  }
 ],
 "metadata": {
  "ExecuteTimeLog": [
   {
    "duration": 1779,
    "start_time": "2022-04-18T08:10:13.654Z"
   },
   {
    "duration": 19,
    "start_time": "2022-04-18T08:10:49.050Z"
   },
   {
    "duration": 23,
    "start_time": "2022-04-18T08:10:53.782Z"
   },
   {
    "duration": 24,
    "start_time": "2022-04-18T08:11:21.976Z"
   },
   {
    "duration": 16,
    "start_time": "2022-04-18T08:12:06.210Z"
   },
   {
    "duration": 16,
    "start_time": "2022-04-18T08:12:28.450Z"
   },
   {
    "duration": 16,
    "start_time": "2022-04-18T08:13:08.859Z"
   },
   {
    "duration": 15,
    "start_time": "2022-04-18T08:13:09.045Z"
   },
   {
    "duration": 7,
    "start_time": "2022-04-18T08:14:08.589Z"
   },
   {
    "duration": 10,
    "start_time": "2022-04-18T08:14:11.102Z"
   },
   {
    "duration": 15,
    "start_time": "2022-04-18T08:14:11.376Z"
   },
   {
    "duration": 9,
    "start_time": "2022-04-18T08:14:11.909Z"
   },
   {
    "duration": 14,
    "start_time": "2022-04-18T08:14:19.275Z"
   },
   {
    "duration": 11,
    "start_time": "2022-04-18T08:14:30.108Z"
   },
   {
    "duration": 16,
    "start_time": "2022-04-18T08:14:34.067Z"
   },
   {
    "duration": 8,
    "start_time": "2022-04-18T08:14:43.576Z"
   },
   {
    "duration": 10,
    "start_time": "2022-04-18T08:14:55.170Z"
   },
   {
    "duration": 15,
    "start_time": "2022-04-18T08:15:03.108Z"
   },
   {
    "duration": 7,
    "start_time": "2022-04-18T08:15:21.061Z"
   },
   {
    "duration": 16,
    "start_time": "2022-04-18T08:23:34.581Z"
   },
   {
    "duration": 270,
    "start_time": "2022-04-18T08:24:16.041Z"
   },
   {
    "duration": 5,
    "start_time": "2022-04-18T08:24:35.808Z"
   },
   {
    "duration": 50,
    "start_time": "2022-04-18T08:24:38.995Z"
   },
   {
    "duration": 17,
    "start_time": "2022-04-18T08:24:45.148Z"
   },
   {
    "duration": 13,
    "start_time": "2022-04-18T08:25:09.086Z"
   },
   {
    "duration": 15,
    "start_time": "2022-04-18T08:26:13.195Z"
   },
   {
    "duration": 14,
    "start_time": "2022-04-18T08:27:49.140Z"
   },
   {
    "duration": 14,
    "start_time": "2022-04-18T08:27:54.061Z"
   },
   {
    "duration": 561,
    "start_time": "2022-04-18T08:37:47.720Z"
   },
   {
    "duration": 6,
    "start_time": "2022-04-18T08:38:08.542Z"
   },
   {
    "duration": 548,
    "start_time": "2022-04-18T08:38:13.278Z"
   },
   {
    "duration": 787,
    "start_time": "2022-04-18T08:38:40.686Z"
   },
   {
    "duration": 2239,
    "start_time": "2022-04-18T08:39:41.225Z"
   },
   {
    "duration": 17,
    "start_time": "2022-04-18T08:39:43.468Z"
   },
   {
    "duration": 33,
    "start_time": "2022-04-18T08:39:43.488Z"
   },
   {
    "duration": 12,
    "start_time": "2022-04-18T08:39:43.524Z"
   },
   {
    "duration": 3,
    "start_time": "2022-04-18T08:39:43.538Z"
   },
   {
    "duration": 20,
    "start_time": "2022-04-18T08:39:43.544Z"
   },
   {
    "duration": 27,
    "start_time": "2022-04-18T08:39:43.567Z"
   },
   {
    "duration": 41,
    "start_time": "2022-04-18T08:39:43.597Z"
   },
   {
    "duration": 18,
    "start_time": "2022-04-18T08:39:43.641Z"
   },
   {
    "duration": 24,
    "start_time": "2022-04-18T08:39:43.663Z"
   },
   {
    "duration": 15,
    "start_time": "2022-04-18T08:39:43.690Z"
   },
   {
    "duration": 21,
    "start_time": "2022-04-18T08:39:43.708Z"
   },
   {
    "duration": 59,
    "start_time": "2022-04-18T08:39:43.732Z"
   },
   {
    "duration": 17,
    "start_time": "2022-04-18T08:39:43.793Z"
   },
   {
    "duration": 11,
    "start_time": "2022-04-18T08:39:43.812Z"
   },
   {
    "duration": 56,
    "start_time": "2022-04-18T08:39:43.826Z"
   },
   {
    "duration": 1066,
    "start_time": "2022-04-18T08:39:43.885Z"
   },
   {
    "duration": 0,
    "start_time": "2022-04-18T08:39:44.954Z"
   },
   {
    "duration": 0,
    "start_time": "2022-04-18T08:39:44.956Z"
   },
   {
    "duration": 0,
    "start_time": "2022-04-18T08:39:44.958Z"
   },
   {
    "duration": 0,
    "start_time": "2022-04-18T08:39:44.960Z"
   },
   {
    "duration": 2449,
    "start_time": "2022-04-18T08:40:27.971Z"
   },
   {
    "duration": 647,
    "start_time": "2022-04-19T14:19:59.361Z"
   },
   {
    "duration": 50,
    "start_time": "2022-04-19T14:20:21.499Z"
   },
   {
    "duration": 1088,
    "start_time": "2022-04-19T14:20:34.198Z"
   },
   {
    "duration": 15,
    "start_time": "2022-04-19T14:20:35.288Z"
   },
   {
    "duration": 19,
    "start_time": "2022-04-19T14:20:35.304Z"
   },
   {
    "duration": 9,
    "start_time": "2022-04-19T14:20:35.325Z"
   },
   {
    "duration": 4,
    "start_time": "2022-04-19T14:20:35.335Z"
   },
   {
    "duration": 13,
    "start_time": "2022-04-19T14:20:35.341Z"
   },
   {
    "duration": 10,
    "start_time": "2022-04-19T14:20:35.356Z"
   },
   {
    "duration": 7,
    "start_time": "2022-04-19T14:20:35.368Z"
   },
   {
    "duration": 16,
    "start_time": "2022-04-19T14:20:35.377Z"
   },
   {
    "duration": 17,
    "start_time": "2022-04-19T14:20:35.395Z"
   },
   {
    "duration": 16,
    "start_time": "2022-04-19T14:20:35.413Z"
   },
   {
    "duration": 10,
    "start_time": "2022-04-19T14:20:35.430Z"
   },
   {
    "duration": 26,
    "start_time": "2022-04-19T14:20:35.442Z"
   },
   {
    "duration": 24,
    "start_time": "2022-04-19T14:20:35.470Z"
   },
   {
    "duration": 48,
    "start_time": "2022-04-19T14:20:35.496Z"
   },
   {
    "duration": 36,
    "start_time": "2022-04-19T14:20:35.546Z"
   },
   {
    "duration": 45,
    "start_time": "2022-04-19T14:20:35.584Z"
   },
   {
    "duration": 33,
    "start_time": "2022-04-19T14:20:35.631Z"
   },
   {
    "duration": 26,
    "start_time": "2022-04-19T14:20:35.666Z"
   },
   {
    "duration": 118,
    "start_time": "2022-04-19T14:20:35.693Z"
   },
   {
    "duration": 0,
    "start_time": "2022-04-19T14:20:35.813Z"
   },
   {
    "duration": 24,
    "start_time": "2022-04-19T14:20:53.862Z"
   },
   {
    "duration": 1305,
    "start_time": "2022-04-20T15:25:46.602Z"
   },
   {
    "duration": 21,
    "start_time": "2022-04-20T15:25:47.909Z"
   },
   {
    "duration": 21,
    "start_time": "2022-04-20T15:25:47.932Z"
   },
   {
    "duration": 10,
    "start_time": "2022-04-20T15:25:47.955Z"
   },
   {
    "duration": 2,
    "start_time": "2022-04-20T15:25:47.966Z"
   },
   {
    "duration": 13,
    "start_time": "2022-04-20T15:25:47.970Z"
   },
   {
    "duration": 10,
    "start_time": "2022-04-20T15:25:47.985Z"
   },
   {
    "duration": 6,
    "start_time": "2022-04-20T15:25:47.997Z"
   },
   {
    "duration": 10,
    "start_time": "2022-04-20T15:25:48.005Z"
   },
   {
    "duration": 14,
    "start_time": "2022-04-20T15:25:48.024Z"
   },
   {
    "duration": 12,
    "start_time": "2022-04-20T15:25:48.040Z"
   },
   {
    "duration": 25,
    "start_time": "2022-04-20T15:25:48.053Z"
   },
   {
    "duration": 11,
    "start_time": "2022-04-20T15:25:48.080Z"
   },
   {
    "duration": 7,
    "start_time": "2022-04-20T15:25:48.093Z"
   },
   {
    "duration": 4,
    "start_time": "2022-04-20T15:25:48.101Z"
   },
   {
    "duration": 7,
    "start_time": "2022-04-20T15:25:48.106Z"
   },
   {
    "duration": 12,
    "start_time": "2022-04-20T15:25:48.114Z"
   },
   {
    "duration": 17,
    "start_time": "2022-04-20T15:25:48.128Z"
   },
   {
    "duration": 8,
    "start_time": "2022-04-20T15:25:48.146Z"
   },
   {
    "duration": 127,
    "start_time": "2022-04-20T15:25:48.155Z"
   },
   {
    "duration": 0,
    "start_time": "2022-04-20T15:25:48.283Z"
   },
   {
    "duration": 11,
    "start_time": "2022-04-20T15:25:53.395Z"
   },
   {
    "duration": 14,
    "start_time": "2022-04-20T15:25:59.713Z"
   },
   {
    "duration": 11,
    "start_time": "2022-04-20T15:27:14.137Z"
   },
   {
    "duration": 463,
    "start_time": "2022-04-20T15:27:20.460Z"
   },
   {
    "duration": 10,
    "start_time": "2022-04-20T15:27:25.591Z"
   },
   {
    "duration": 11,
    "start_time": "2022-04-20T15:27:34.084Z"
   },
   {
    "duration": 1188,
    "start_time": "2022-04-20T15:27:39.977Z"
   },
   {
    "duration": 10,
    "start_time": "2022-04-20T15:27:41.167Z"
   },
   {
    "duration": 19,
    "start_time": "2022-04-20T15:27:41.178Z"
   },
   {
    "duration": 9,
    "start_time": "2022-04-20T15:27:41.198Z"
   },
   {
    "duration": 2,
    "start_time": "2022-04-20T15:27:41.209Z"
   },
   {
    "duration": 27,
    "start_time": "2022-04-20T15:27:41.213Z"
   },
   {
    "duration": 14,
    "start_time": "2022-04-20T15:27:41.242Z"
   },
   {
    "duration": 7,
    "start_time": "2022-04-20T15:27:41.258Z"
   },
   {
    "duration": 8,
    "start_time": "2022-04-20T15:27:41.266Z"
   },
   {
    "duration": 10,
    "start_time": "2022-04-20T15:27:41.277Z"
   },
   {
    "duration": 6,
    "start_time": "2022-04-20T15:27:41.288Z"
   },
   {
    "duration": 39,
    "start_time": "2022-04-20T15:27:41.296Z"
   },
   {
    "duration": 11,
    "start_time": "2022-04-20T15:27:41.338Z"
   },
   {
    "duration": 6,
    "start_time": "2022-04-20T15:27:41.351Z"
   },
   {
    "duration": 4,
    "start_time": "2022-04-20T15:27:41.359Z"
   },
   {
    "duration": 4,
    "start_time": "2022-04-20T15:27:41.364Z"
   },
   {
    "duration": 10,
    "start_time": "2022-04-20T15:27:41.370Z"
   },
   {
    "duration": 12,
    "start_time": "2022-04-20T15:27:41.381Z"
   },
   {
    "duration": 40,
    "start_time": "2022-04-20T15:27:41.395Z"
   },
   {
    "duration": 14,
    "start_time": "2022-04-20T15:27:41.437Z"
   },
   {
    "duration": 13,
    "start_time": "2022-04-20T15:27:41.453Z"
   },
   {
    "duration": 579,
    "start_time": "2022-04-20T15:27:41.468Z"
   },
   {
    "duration": 0,
    "start_time": "2022-04-20T15:27:42.048Z"
   },
   {
    "duration": 12,
    "start_time": "2022-04-20T15:27:52.796Z"
   },
   {
    "duration": 11,
    "start_time": "2022-04-20T15:28:02.224Z"
   },
   {
    "duration": 4,
    "start_time": "2022-04-20T15:28:17.056Z"
   },
   {
    "duration": 10,
    "start_time": "2022-04-20T15:28:23.834Z"
   },
   {
    "duration": 10,
    "start_time": "2022-04-20T15:28:36.267Z"
   },
   {
    "duration": 10,
    "start_time": "2022-04-20T15:28:38.751Z"
   },
   {
    "duration": 9,
    "start_time": "2022-04-20T15:28:43.752Z"
   },
   {
    "duration": 27,
    "start_time": "2022-04-20T15:29:44.474Z"
   },
   {
    "duration": 10,
    "start_time": "2022-04-20T15:30:04.937Z"
   },
   {
    "duration": 298,
    "start_time": "2022-04-20T15:31:29.515Z"
   },
   {
    "duration": 269,
    "start_time": "2022-04-20T15:31:44.375Z"
   },
   {
    "duration": 1160,
    "start_time": "2022-04-20T15:31:50.737Z"
   },
   {
    "duration": 11,
    "start_time": "2022-04-20T15:31:51.899Z"
   },
   {
    "duration": 26,
    "start_time": "2022-04-20T15:31:51.911Z"
   },
   {
    "duration": 9,
    "start_time": "2022-04-20T15:31:51.939Z"
   },
   {
    "duration": 3,
    "start_time": "2022-04-20T15:31:51.949Z"
   },
   {
    "duration": 13,
    "start_time": "2022-04-20T15:31:51.953Z"
   },
   {
    "duration": 9,
    "start_time": "2022-04-20T15:31:51.968Z"
   },
   {
    "duration": 7,
    "start_time": "2022-04-20T15:31:51.979Z"
   },
   {
    "duration": 9,
    "start_time": "2022-04-20T15:31:51.987Z"
   },
   {
    "duration": 25,
    "start_time": "2022-04-20T15:31:51.999Z"
   },
   {
    "duration": 16,
    "start_time": "2022-04-20T15:31:52.026Z"
   },
   {
    "duration": 7,
    "start_time": "2022-04-20T15:31:52.044Z"
   },
   {
    "duration": 11,
    "start_time": "2022-04-20T15:31:52.053Z"
   },
   {
    "duration": 5,
    "start_time": "2022-04-20T15:31:52.066Z"
   },
   {
    "duration": 8,
    "start_time": "2022-04-20T15:31:52.073Z"
   },
   {
    "duration": 5,
    "start_time": "2022-04-20T15:31:52.082Z"
   },
   {
    "duration": 14,
    "start_time": "2022-04-20T15:31:52.088Z"
   },
   {
    "duration": 27,
    "start_time": "2022-04-20T15:31:52.104Z"
   },
   {
    "duration": 19,
    "start_time": "2022-04-20T15:31:52.133Z"
   },
   {
    "duration": 8,
    "start_time": "2022-04-20T15:31:52.153Z"
   },
   {
    "duration": 13,
    "start_time": "2022-04-20T15:31:52.162Z"
   },
   {
    "duration": 9,
    "start_time": "2022-04-20T15:31:52.177Z"
   },
   {
    "duration": 294,
    "start_time": "2022-04-20T15:31:52.188Z"
   },
   {
    "duration": 236,
    "start_time": "2022-04-20T15:32:11.537Z"
   },
   {
    "duration": 153,
    "start_time": "2022-04-20T15:33:02.202Z"
   },
   {
    "duration": 263,
    "start_time": "2022-04-20T15:33:32.492Z"
   },
   {
    "duration": 280,
    "start_time": "2022-04-20T15:34:22.937Z"
   },
   {
    "duration": 178,
    "start_time": "2022-04-20T15:34:26.136Z"
   },
   {
    "duration": 305,
    "start_time": "2022-04-20T15:36:02.186Z"
   },
   {
    "duration": 259,
    "start_time": "2022-04-20T15:36:08.156Z"
   },
   {
    "duration": 14,
    "start_time": "2022-04-20T15:37:13.628Z"
   },
   {
    "duration": 9,
    "start_time": "2022-04-20T15:38:08.871Z"
   },
   {
    "duration": 13,
    "start_time": "2022-04-20T15:38:16.274Z"
   },
   {
    "duration": 16,
    "start_time": "2022-04-20T15:38:21.661Z"
   },
   {
    "duration": 8,
    "start_time": "2022-04-20T15:38:35.575Z"
   },
   {
    "duration": 168,
    "start_time": "2022-04-20T15:39:28.043Z"
   },
   {
    "duration": 4,
    "start_time": "2022-04-20T15:40:14.191Z"
   },
   {
    "duration": 4,
    "start_time": "2022-04-20T15:40:30.268Z"
   },
   {
    "duration": 7,
    "start_time": "2022-04-20T15:41:28.412Z"
   },
   {
    "duration": 102,
    "start_time": "2022-04-20T15:44:24.512Z"
   },
   {
    "duration": 110,
    "start_time": "2022-04-20T15:45:23.396Z"
   },
   {
    "duration": 102,
    "start_time": "2022-04-20T15:45:34.320Z"
   },
   {
    "duration": 209,
    "start_time": "2022-04-20T15:46:43.272Z"
   },
   {
    "duration": 12,
    "start_time": "2022-04-20T15:48:00.482Z"
   },
   {
    "duration": 12,
    "start_time": "2022-04-20T15:48:09.987Z"
   },
   {
    "duration": 165,
    "start_time": "2022-04-20T15:48:28.689Z"
   },
   {
    "duration": 15,
    "start_time": "2022-04-20T15:49:30.362Z"
   },
   {
    "duration": 141,
    "start_time": "2022-04-20T15:49:51.359Z"
   },
   {
    "duration": 163,
    "start_time": "2022-04-20T15:50:06.441Z"
   },
   {
    "duration": 12,
    "start_time": "2022-04-20T15:53:00.997Z"
   },
   {
    "duration": 113,
    "start_time": "2022-04-20T15:54:33.826Z"
   },
   {
    "duration": 1722,
    "start_time": "2022-04-20T15:55:16.366Z"
   },
   {
    "duration": 2033,
    "start_time": "2022-04-20T15:55:25.784Z"
   },
   {
    "duration": 7,
    "start_time": "2022-04-20T15:55:36.137Z"
   },
   {
    "duration": 8,
    "start_time": "2022-04-20T15:55:51.216Z"
   },
   {
    "duration": 1131,
    "start_time": "2022-04-20T15:56:08.436Z"
   },
   {
    "duration": 10,
    "start_time": "2022-04-20T15:56:09.569Z"
   },
   {
    "duration": 19,
    "start_time": "2022-04-20T15:56:09.580Z"
   },
   {
    "duration": 8,
    "start_time": "2022-04-20T15:56:09.601Z"
   },
   {
    "duration": 2,
    "start_time": "2022-04-20T15:56:09.611Z"
   },
   {
    "duration": 14,
    "start_time": "2022-04-20T15:56:09.614Z"
   },
   {
    "duration": 18,
    "start_time": "2022-04-20T15:56:09.630Z"
   },
   {
    "duration": 6,
    "start_time": "2022-04-20T15:56:09.650Z"
   },
   {
    "duration": 9,
    "start_time": "2022-04-20T15:56:09.658Z"
   },
   {
    "duration": 9,
    "start_time": "2022-04-20T15:56:09.669Z"
   },
   {
    "duration": 6,
    "start_time": "2022-04-20T15:56:09.680Z"
   },
   {
    "duration": 6,
    "start_time": "2022-04-20T15:56:09.687Z"
   },
   {
    "duration": 42,
    "start_time": "2022-04-20T15:56:09.694Z"
   },
   {
    "duration": 6,
    "start_time": "2022-04-20T15:56:09.738Z"
   },
   {
    "duration": 6,
    "start_time": "2022-04-20T15:56:09.745Z"
   },
   {
    "duration": 5,
    "start_time": "2022-04-20T15:56:09.753Z"
   },
   {
    "duration": 13,
    "start_time": "2022-04-20T15:56:09.759Z"
   },
   {
    "duration": 8,
    "start_time": "2022-04-20T15:56:09.774Z"
   },
   {
    "duration": 11,
    "start_time": "2022-04-20T15:56:09.784Z"
   },
   {
    "duration": 7,
    "start_time": "2022-04-20T15:56:09.796Z"
   },
   {
    "duration": 32,
    "start_time": "2022-04-20T15:56:09.804Z"
   },
   {
    "duration": 15,
    "start_time": "2022-04-20T15:56:09.838Z"
   },
   {
    "duration": 270,
    "start_time": "2022-04-20T15:56:09.854Z"
   },
   {
    "duration": 276,
    "start_time": "2022-04-20T15:56:10.126Z"
   },
   {
    "duration": 166,
    "start_time": "2022-04-20T15:56:10.404Z"
   },
   {
    "duration": 236,
    "start_time": "2022-04-20T15:56:10.572Z"
   },
   {
    "duration": 187,
    "start_time": "2022-04-20T15:56:10.809Z"
   },
   {
    "duration": 316,
    "start_time": "2022-04-20T15:56:11.000Z"
   },
   {
    "duration": 22,
    "start_time": "2022-04-20T15:56:11.318Z"
   },
   {
    "duration": 8,
    "start_time": "2022-04-20T15:56:11.343Z"
   },
   {
    "duration": 122,
    "start_time": "2022-04-20T15:56:11.353Z"
   },
   {
    "duration": 4,
    "start_time": "2022-04-20T15:56:11.476Z"
   },
   {
    "duration": 7,
    "start_time": "2022-04-20T15:56:11.481Z"
   },
   {
    "duration": 3,
    "start_time": "2022-04-20T15:56:11.489Z"
   },
   {
    "duration": 220,
    "start_time": "2022-04-20T15:56:11.494Z"
   },
   {
    "duration": 18,
    "start_time": "2022-04-20T15:56:11.716Z"
   },
   {
    "duration": 137,
    "start_time": "2022-04-20T15:56:11.736Z"
   },
   {
    "duration": 172,
    "start_time": "2022-04-20T15:56:11.875Z"
   },
   {
    "duration": 10,
    "start_time": "2022-04-20T15:56:12.049Z"
   },
   {
    "duration": 8,
    "start_time": "2022-04-20T15:56:12.060Z"
   },
   {
    "duration": 1956,
    "start_time": "2022-04-20T15:56:12.070Z"
   },
   {
    "duration": 15,
    "start_time": "2022-04-20T15:57:59.817Z"
   },
   {
    "duration": 7,
    "start_time": "2022-04-20T15:58:15.756Z"
   },
   {
    "duration": 1952,
    "start_time": "2022-04-20T15:59:07.194Z"
   },
   {
    "duration": 4,
    "start_time": "2022-04-20T15:59:39.957Z"
   },
   {
    "duration": 1864,
    "start_time": "2022-04-20T15:59:51.666Z"
   },
   {
    "duration": 8,
    "start_time": "2022-04-20T15:59:58.751Z"
   },
   {
    "duration": 12,
    "start_time": "2022-04-20T16:00:02.705Z"
   },
   {
    "duration": 2005,
    "start_time": "2022-04-20T16:00:08.853Z"
   },
   {
    "duration": 17,
    "start_time": "2022-04-20T16:00:20.129Z"
   },
   {
    "duration": 11,
    "start_time": "2022-04-20T16:00:29.460Z"
   },
   {
    "duration": 1769,
    "start_time": "2022-04-20T16:01:03.140Z"
   },
   {
    "duration": 1895,
    "start_time": "2022-04-20T16:01:16.734Z"
   },
   {
    "duration": 1868,
    "start_time": "2022-04-20T16:01:28.599Z"
   },
   {
    "duration": 8,
    "start_time": "2022-04-20T16:01:38.539Z"
   },
   {
    "duration": 13,
    "start_time": "2022-04-20T16:02:03.264Z"
   },
   {
    "duration": 9,
    "start_time": "2022-04-20T16:02:07.750Z"
   },
   {
    "duration": 8,
    "start_time": "2022-04-20T16:03:24.701Z"
   },
   {
    "duration": 20,
    "start_time": "2022-04-20T16:03:36.045Z"
   },
   {
    "duration": 1777,
    "start_time": "2022-04-20T16:04:25.343Z"
   },
   {
    "duration": 12,
    "start_time": "2022-04-20T16:04:35.576Z"
   },
   {
    "duration": 14,
    "start_time": "2022-04-20T16:04:48.149Z"
   },
   {
    "duration": 5,
    "start_time": "2022-04-20T16:11:03.911Z"
   },
   {
    "duration": 5,
    "start_time": "2022-04-20T16:11:27.652Z"
   },
   {
    "duration": 374,
    "start_time": "2022-04-20T16:11:36.046Z"
   },
   {
    "duration": 24,
    "start_time": "2022-04-20T16:12:28.292Z"
   },
   {
    "duration": 2022,
    "start_time": "2022-04-20T16:13:08.858Z"
   },
   {
    "duration": 16,
    "start_time": "2022-04-20T16:13:55.848Z"
   },
   {
    "duration": 8,
    "start_time": "2022-04-20T16:15:05.866Z"
   },
   {
    "duration": 110,
    "start_time": "2022-04-20T16:15:39.169Z"
   },
   {
    "duration": 7,
    "start_time": "2022-04-20T16:17:18.206Z"
   },
   {
    "duration": 13,
    "start_time": "2022-04-20T16:17:23.383Z"
   },
   {
    "duration": 289,
    "start_time": "2022-04-20T16:20:00.237Z"
   },
   {
    "duration": 360,
    "start_time": "2022-04-20T16:20:19.389Z"
   },
   {
    "duration": 1895,
    "start_time": "2022-04-20T16:20:35.275Z"
   },
   {
    "duration": 16,
    "start_time": "2022-04-20T16:20:48.460Z"
   },
   {
    "duration": 9,
    "start_time": "2022-04-20T16:21:31.099Z"
   },
   {
    "duration": 10,
    "start_time": "2022-04-20T16:21:36.183Z"
   },
   {
    "duration": 297,
    "start_time": "2022-04-20T16:22:52.098Z"
   },
   {
    "duration": 9,
    "start_time": "2022-04-20T16:26:11.004Z"
   },
   {
    "duration": 11,
    "start_time": "2022-04-20T16:26:20.164Z"
   },
   {
    "duration": 251,
    "start_time": "2022-04-20T16:29:23.524Z"
   },
   {
    "duration": 10,
    "start_time": "2022-04-20T16:29:30.337Z"
   },
   {
    "duration": 263,
    "start_time": "2022-04-20T16:29:42.116Z"
   },
   {
    "duration": 187,
    "start_time": "2022-04-20T16:29:47.480Z"
   },
   {
    "duration": 190,
    "start_time": "2022-04-20T16:29:54.581Z"
   },
   {
    "duration": 133,
    "start_time": "2022-04-20T16:30:19.986Z"
   },
   {
    "duration": 136,
    "start_time": "2022-04-20T16:30:27.434Z"
   },
   {
    "duration": 255,
    "start_time": "2022-04-20T16:30:37.788Z"
   },
   {
    "duration": 266,
    "start_time": "2022-04-20T16:31:05.285Z"
   },
   {
    "duration": 19,
    "start_time": "2022-04-20T16:32:30.716Z"
   },
   {
    "duration": 9,
    "start_time": "2022-04-20T16:35:12.058Z"
   },
   {
    "duration": 154,
    "start_time": "2022-04-20T16:38:01.963Z"
   },
   {
    "duration": 10,
    "start_time": "2022-04-20T16:39:43.968Z"
   },
   {
    "duration": 330,
    "start_time": "2022-04-20T16:39:49.102Z"
   },
   {
    "duration": 339,
    "start_time": "2022-04-20T16:39:56.486Z"
   },
   {
    "duration": 110,
    "start_time": "2022-04-20T16:40:58.509Z"
   },
   {
    "duration": 305,
    "start_time": "2022-04-20T16:41:12.109Z"
   },
   {
    "duration": 117,
    "start_time": "2022-04-20T16:50:32.003Z"
   },
   {
    "duration": 5,
    "start_time": "2022-04-20T16:56:56.166Z"
   },
   {
    "duration": 4,
    "start_time": "2022-04-20T16:57:01.231Z"
   },
   {
    "duration": 4,
    "start_time": "2022-04-20T16:57:11.314Z"
   },
   {
    "duration": 173,
    "start_time": "2022-04-20T16:57:37.127Z"
   },
   {
    "duration": 8,
    "start_time": "2022-04-20T16:57:43.603Z"
   },
   {
    "duration": 1103,
    "start_time": "2022-04-20T16:57:52.099Z"
   },
   {
    "duration": 11,
    "start_time": "2022-04-20T16:57:53.204Z"
   },
   {
    "duration": 19,
    "start_time": "2022-04-20T16:57:53.216Z"
   },
   {
    "duration": 9,
    "start_time": "2022-04-20T16:57:53.237Z"
   },
   {
    "duration": 3,
    "start_time": "2022-04-20T16:57:53.247Z"
   },
   {
    "duration": 13,
    "start_time": "2022-04-20T16:57:53.251Z"
   },
   {
    "duration": 10,
    "start_time": "2022-04-20T16:57:53.265Z"
   },
   {
    "duration": 7,
    "start_time": "2022-04-20T16:57:53.276Z"
   },
   {
    "duration": 9,
    "start_time": "2022-04-20T16:57:53.284Z"
   },
   {
    "duration": 9,
    "start_time": "2022-04-20T16:57:53.296Z"
   },
   {
    "duration": 17,
    "start_time": "2022-04-20T16:57:53.307Z"
   },
   {
    "duration": 7,
    "start_time": "2022-04-20T16:57:53.325Z"
   },
   {
    "duration": 9,
    "start_time": "2022-04-20T16:57:53.334Z"
   },
   {
    "duration": 5,
    "start_time": "2022-04-20T16:57:53.345Z"
   },
   {
    "duration": 7,
    "start_time": "2022-04-20T16:57:53.352Z"
   },
   {
    "duration": 5,
    "start_time": "2022-04-20T16:57:53.360Z"
   },
   {
    "duration": 14,
    "start_time": "2022-04-20T16:57:53.366Z"
   },
   {
    "duration": 11,
    "start_time": "2022-04-20T16:57:53.382Z"
   },
   {
    "duration": 32,
    "start_time": "2022-04-20T16:57:53.395Z"
   },
   {
    "duration": 7,
    "start_time": "2022-04-20T16:57:53.429Z"
   },
   {
    "duration": 12,
    "start_time": "2022-04-20T16:57:53.438Z"
   },
   {
    "duration": 11,
    "start_time": "2022-04-20T16:57:53.451Z"
   },
   {
    "duration": 375,
    "start_time": "2022-04-20T16:57:53.463Z"
   },
   {
    "duration": 230,
    "start_time": "2022-04-20T16:57:53.840Z"
   },
   {
    "duration": 154,
    "start_time": "2022-04-20T16:57:54.072Z"
   },
   {
    "duration": 254,
    "start_time": "2022-04-20T16:57:54.228Z"
   },
   {
    "duration": 100,
    "start_time": "2022-04-20T16:57:54.483Z"
   },
   {
    "duration": 0,
    "start_time": "2022-04-20T16:57:54.585Z"
   },
   {
    "duration": 0,
    "start_time": "2022-04-20T16:57:54.586Z"
   },
   {
    "duration": 0,
    "start_time": "2022-04-20T16:57:54.587Z"
   },
   {
    "duration": 0,
    "start_time": "2022-04-20T16:57:54.588Z"
   },
   {
    "duration": 0,
    "start_time": "2022-04-20T16:57:54.589Z"
   },
   {
    "duration": 0,
    "start_time": "2022-04-20T16:57:54.590Z"
   },
   {
    "duration": 0,
    "start_time": "2022-04-20T16:57:54.591Z"
   },
   {
    "duration": 0,
    "start_time": "2022-04-20T16:57:54.592Z"
   },
   {
    "duration": 0,
    "start_time": "2022-04-20T16:57:54.593Z"
   },
   {
    "duration": 1,
    "start_time": "2022-04-20T16:57:54.593Z"
   },
   {
    "duration": 0,
    "start_time": "2022-04-20T16:57:54.595Z"
   },
   {
    "duration": 0,
    "start_time": "2022-04-20T16:57:54.595Z"
   },
   {
    "duration": 0,
    "start_time": "2022-04-20T16:57:54.596Z"
   },
   {
    "duration": 0,
    "start_time": "2022-04-20T16:57:54.597Z"
   },
   {
    "duration": 0,
    "start_time": "2022-04-20T16:57:54.598Z"
   },
   {
    "duration": 0,
    "start_time": "2022-04-20T16:57:54.599Z"
   },
   {
    "duration": 0,
    "start_time": "2022-04-20T16:57:54.600Z"
   },
   {
    "duration": 0,
    "start_time": "2022-04-20T16:57:54.624Z"
   },
   {
    "duration": 0,
    "start_time": "2022-04-20T16:57:54.625Z"
   },
   {
    "duration": 0,
    "start_time": "2022-04-20T16:57:54.626Z"
   },
   {
    "duration": 0,
    "start_time": "2022-04-20T16:57:54.627Z"
   },
   {
    "duration": 179,
    "start_time": "2022-04-20T16:58:07.742Z"
   },
   {
    "duration": 168,
    "start_time": "2022-04-20T16:58:23.738Z"
   },
   {
    "duration": 283,
    "start_time": "2022-04-20T16:59:03.008Z"
   },
   {
    "duration": 155,
    "start_time": "2022-04-20T16:59:11.936Z"
   },
   {
    "duration": 230,
    "start_time": "2022-04-20T17:00:36.755Z"
   },
   {
    "duration": 179,
    "start_time": "2022-04-20T17:00:44.611Z"
   },
   {
    "duration": 174,
    "start_time": "2022-04-20T17:00:54.048Z"
   },
   {
    "duration": 180,
    "start_time": "2022-04-20T17:01:03.191Z"
   },
   {
    "duration": 157,
    "start_time": "2022-04-20T17:01:51.903Z"
   },
   {
    "duration": 1126,
    "start_time": "2022-04-20T17:01:58.384Z"
   },
   {
    "duration": 15,
    "start_time": "2022-04-20T17:01:59.512Z"
   },
   {
    "duration": 20,
    "start_time": "2022-04-20T17:01:59.529Z"
   },
   {
    "duration": 9,
    "start_time": "2022-04-20T17:01:59.552Z"
   },
   {
    "duration": 2,
    "start_time": "2022-04-20T17:01:59.563Z"
   },
   {
    "duration": 15,
    "start_time": "2022-04-20T17:01:59.566Z"
   },
   {
    "duration": 10,
    "start_time": "2022-04-20T17:01:59.582Z"
   },
   {
    "duration": 8,
    "start_time": "2022-04-20T17:01:59.594Z"
   },
   {
    "duration": 9,
    "start_time": "2022-04-20T17:01:59.604Z"
   },
   {
    "duration": 10,
    "start_time": "2022-04-20T17:01:59.623Z"
   },
   {
    "duration": 7,
    "start_time": "2022-04-20T17:01:59.635Z"
   },
   {
    "duration": 14,
    "start_time": "2022-04-20T17:01:59.644Z"
   },
   {
    "duration": 12,
    "start_time": "2022-04-20T17:01:59.660Z"
   },
   {
    "duration": 7,
    "start_time": "2022-04-20T17:01:59.674Z"
   },
   {
    "duration": 5,
    "start_time": "2022-04-20T17:01:59.683Z"
   },
   {
    "duration": 6,
    "start_time": "2022-04-20T17:01:59.689Z"
   },
   {
    "duration": 36,
    "start_time": "2022-04-20T17:01:59.696Z"
   },
   {
    "duration": 13,
    "start_time": "2022-04-20T17:01:59.734Z"
   },
   {
    "duration": 10,
    "start_time": "2022-04-20T17:01:59.748Z"
   },
   {
    "duration": 7,
    "start_time": "2022-04-20T17:01:59.760Z"
   },
   {
    "duration": 13,
    "start_time": "2022-04-20T17:01:59.769Z"
   },
   {
    "duration": 9,
    "start_time": "2022-04-20T17:01:59.784Z"
   },
   {
    "duration": 293,
    "start_time": "2022-04-20T17:01:59.794Z"
   },
   {
    "duration": 227,
    "start_time": "2022-04-20T17:02:00.088Z"
   },
   {
    "duration": 164,
    "start_time": "2022-04-20T17:02:00.316Z"
   },
   {
    "duration": 255,
    "start_time": "2022-04-20T17:02:00.482Z"
   },
   {
    "duration": 2,
    "start_time": "2022-04-20T17:02:00.739Z"
   },
   {
    "duration": 166,
    "start_time": "2022-04-20T17:02:00.744Z"
   },
   {
    "duration": 293,
    "start_time": "2022-04-20T17:02:00.912Z"
   },
   {
    "duration": 17,
    "start_time": "2022-04-20T17:02:01.207Z"
   },
   {
    "duration": 119,
    "start_time": "2022-04-20T17:02:01.226Z"
   },
   {
    "duration": 5,
    "start_time": "2022-04-20T17:02:01.348Z"
   },
   {
    "duration": 20,
    "start_time": "2022-04-20T17:02:01.355Z"
   },
   {
    "duration": 11,
    "start_time": "2022-04-20T17:02:01.377Z"
   },
   {
    "duration": 3,
    "start_time": "2022-04-20T17:02:01.390Z"
   },
   {
    "duration": 224,
    "start_time": "2022-04-20T17:02:01.395Z"
   },
   {
    "duration": 272,
    "start_time": "2022-04-20T17:02:01.624Z"
   },
   {
    "duration": 284,
    "start_time": "2022-04-20T17:02:01.898Z"
   },
   {
    "duration": 0,
    "start_time": "2022-04-20T17:02:02.184Z"
   },
   {
    "duration": 0,
    "start_time": "2022-04-20T17:02:02.186Z"
   },
   {
    "duration": 0,
    "start_time": "2022-04-20T17:02:02.187Z"
   },
   {
    "duration": 0,
    "start_time": "2022-04-20T17:02:02.188Z"
   },
   {
    "duration": 0,
    "start_time": "2022-04-20T17:02:02.190Z"
   },
   {
    "duration": 0,
    "start_time": "2022-04-20T17:02:02.191Z"
   },
   {
    "duration": 0,
    "start_time": "2022-04-20T17:02:02.192Z"
   },
   {
    "duration": 0,
    "start_time": "2022-04-20T17:02:02.194Z"
   },
   {
    "duration": 0,
    "start_time": "2022-04-20T17:02:02.195Z"
   },
   {
    "duration": 0,
    "start_time": "2022-04-20T17:02:02.196Z"
   },
   {
    "duration": 1206,
    "start_time": "2022-04-20T17:02:59.138Z"
   },
   {
    "duration": 15,
    "start_time": "2022-04-20T17:03:00.347Z"
   },
   {
    "duration": 19,
    "start_time": "2022-04-20T17:03:00.366Z"
   },
   {
    "duration": 9,
    "start_time": "2022-04-20T17:03:00.387Z"
   },
   {
    "duration": 3,
    "start_time": "2022-04-20T17:03:00.397Z"
   },
   {
    "duration": 20,
    "start_time": "2022-04-20T17:03:00.402Z"
   },
   {
    "duration": 27,
    "start_time": "2022-04-20T17:03:00.424Z"
   },
   {
    "duration": 12,
    "start_time": "2022-04-20T17:03:00.453Z"
   },
   {
    "duration": 11,
    "start_time": "2022-04-20T17:03:00.468Z"
   },
   {
    "duration": 10,
    "start_time": "2022-04-20T17:03:00.481Z"
   },
   {
    "duration": 6,
    "start_time": "2022-04-20T17:03:00.493Z"
   },
   {
    "duration": 8,
    "start_time": "2022-04-20T17:03:00.500Z"
   },
   {
    "duration": 22,
    "start_time": "2022-04-20T17:03:00.510Z"
   },
   {
    "duration": 9,
    "start_time": "2022-04-20T17:03:00.535Z"
   },
   {
    "duration": 7,
    "start_time": "2022-04-20T17:03:00.546Z"
   },
   {
    "duration": 13,
    "start_time": "2022-04-20T17:03:00.554Z"
   },
   {
    "duration": 14,
    "start_time": "2022-04-20T17:03:00.568Z"
   },
   {
    "duration": 12,
    "start_time": "2022-04-20T17:03:00.583Z"
   },
   {
    "duration": 20,
    "start_time": "2022-04-20T17:03:00.596Z"
   },
   {
    "duration": 15,
    "start_time": "2022-04-20T17:03:00.618Z"
   },
   {
    "duration": 26,
    "start_time": "2022-04-20T17:03:00.634Z"
   },
   {
    "duration": 13,
    "start_time": "2022-04-20T17:03:00.662Z"
   },
   {
    "duration": 288,
    "start_time": "2022-04-20T17:03:00.676Z"
   },
   {
    "duration": 244,
    "start_time": "2022-04-20T17:03:00.966Z"
   },
   {
    "duration": 174,
    "start_time": "2022-04-20T17:03:01.211Z"
   },
   {
    "duration": 272,
    "start_time": "2022-04-20T17:03:01.387Z"
   },
   {
    "duration": 2,
    "start_time": "2022-04-20T17:03:01.663Z"
   },
   {
    "duration": 162,
    "start_time": "2022-04-20T17:03:01.666Z"
   },
   {
    "duration": 271,
    "start_time": "2022-04-20T17:03:01.829Z"
   },
   {
    "duration": 9,
    "start_time": "2022-04-20T17:03:02.102Z"
   },
   {
    "duration": 102,
    "start_time": "2022-04-20T17:03:02.123Z"
   },
   {
    "duration": 4,
    "start_time": "2022-04-20T17:03:02.227Z"
   },
   {
    "duration": 5,
    "start_time": "2022-04-20T17:03:02.232Z"
   },
   {
    "duration": 7,
    "start_time": "2022-04-20T17:03:02.239Z"
   },
   {
    "duration": 5,
    "start_time": "2022-04-20T17:03:02.248Z"
   },
   {
    "duration": 232,
    "start_time": "2022-04-20T17:03:02.255Z"
   },
   {
    "duration": 123,
    "start_time": "2022-04-20T17:03:02.488Z"
   },
   {
    "duration": 163,
    "start_time": "2022-04-20T17:03:02.613Z"
   },
   {
    "duration": 9,
    "start_time": "2022-04-20T17:03:02.777Z"
   },
   {
    "duration": 9,
    "start_time": "2022-04-20T17:03:02.787Z"
   },
   {
    "duration": 33,
    "start_time": "2022-04-20T17:03:02.798Z"
   },
   {
    "duration": 26,
    "start_time": "2022-04-20T17:03:02.833Z"
   },
   {
    "duration": 13,
    "start_time": "2022-04-20T17:03:02.861Z"
   },
   {
    "duration": 228,
    "start_time": "2022-04-20T17:03:02.876Z"
   },
   {
    "duration": 18,
    "start_time": "2022-04-20T17:03:03.106Z"
   },
   {
    "duration": 227,
    "start_time": "2022-04-20T17:03:03.126Z"
   },
   {
    "duration": 260,
    "start_time": "2022-04-20T17:03:03.355Z"
   },
   {
    "duration": 10,
    "start_time": "2022-04-20T17:03:03.616Z"
   },
   {
    "duration": 89,
    "start_time": "2022-04-20T17:04:53.779Z"
   },
   {
    "duration": 1087,
    "start_time": "2022-04-20T17:04:58.107Z"
   },
   {
    "duration": 11,
    "start_time": "2022-04-20T17:04:59.196Z"
   },
   {
    "duration": 19,
    "start_time": "2022-04-20T17:04:59.208Z"
   },
   {
    "duration": 9,
    "start_time": "2022-04-20T17:04:59.228Z"
   },
   {
    "duration": 2,
    "start_time": "2022-04-20T17:04:59.239Z"
   },
   {
    "duration": 13,
    "start_time": "2022-04-20T17:04:59.242Z"
   },
   {
    "duration": 9,
    "start_time": "2022-04-20T17:04:59.257Z"
   },
   {
    "duration": 7,
    "start_time": "2022-04-20T17:04:59.267Z"
   },
   {
    "duration": 9,
    "start_time": "2022-04-20T17:04:59.275Z"
   },
   {
    "duration": 11,
    "start_time": "2022-04-20T17:04:59.285Z"
   },
   {
    "duration": 26,
    "start_time": "2022-04-20T17:04:59.298Z"
   },
   {
    "duration": 7,
    "start_time": "2022-04-20T17:04:59.326Z"
   },
   {
    "duration": 11,
    "start_time": "2022-04-20T17:04:59.334Z"
   },
   {
    "duration": 5,
    "start_time": "2022-04-20T17:04:59.347Z"
   },
   {
    "duration": 5,
    "start_time": "2022-04-20T17:04:59.353Z"
   },
   {
    "duration": 6,
    "start_time": "2022-04-20T17:04:59.359Z"
   },
   {
    "duration": 14,
    "start_time": "2022-04-20T17:04:59.366Z"
   },
   {
    "duration": 10,
    "start_time": "2022-04-20T17:04:59.382Z"
   },
   {
    "duration": 36,
    "start_time": "2022-04-20T17:04:59.393Z"
   },
   {
    "duration": 7,
    "start_time": "2022-04-20T17:04:59.431Z"
   },
   {
    "duration": 14,
    "start_time": "2022-04-20T17:04:59.439Z"
   },
   {
    "duration": 10,
    "start_time": "2022-04-20T17:04:59.454Z"
   },
   {
    "duration": 278,
    "start_time": "2022-04-20T17:04:59.466Z"
   },
   {
    "duration": 222,
    "start_time": "2022-04-20T17:04:59.746Z"
   },
   {
    "duration": 153,
    "start_time": "2022-04-20T17:04:59.969Z"
   },
   {
    "duration": 258,
    "start_time": "2022-04-20T17:05:00.124Z"
   },
   {
    "duration": 96,
    "start_time": "2022-04-20T17:05:00.383Z"
   },
   {
    "duration": 0,
    "start_time": "2022-04-20T17:05:00.481Z"
   },
   {
    "duration": 0,
    "start_time": "2022-04-20T17:05:00.483Z"
   },
   {
    "duration": 0,
    "start_time": "2022-04-20T17:05:00.484Z"
   },
   {
    "duration": 0,
    "start_time": "2022-04-20T17:05:00.485Z"
   },
   {
    "duration": 0,
    "start_time": "2022-04-20T17:05:00.486Z"
   },
   {
    "duration": 0,
    "start_time": "2022-04-20T17:05:00.487Z"
   },
   {
    "duration": 0,
    "start_time": "2022-04-20T17:05:00.488Z"
   },
   {
    "duration": 0,
    "start_time": "2022-04-20T17:05:00.489Z"
   },
   {
    "duration": 0,
    "start_time": "2022-04-20T17:05:00.490Z"
   },
   {
    "duration": 0,
    "start_time": "2022-04-20T17:05:00.491Z"
   },
   {
    "duration": 0,
    "start_time": "2022-04-20T17:05:00.492Z"
   },
   {
    "duration": 0,
    "start_time": "2022-04-20T17:05:00.493Z"
   },
   {
    "duration": 0,
    "start_time": "2022-04-20T17:05:00.494Z"
   },
   {
    "duration": 0,
    "start_time": "2022-04-20T17:05:00.495Z"
   },
   {
    "duration": 0,
    "start_time": "2022-04-20T17:05:00.496Z"
   },
   {
    "duration": 0,
    "start_time": "2022-04-20T17:05:00.523Z"
   },
   {
    "duration": 0,
    "start_time": "2022-04-20T17:05:00.524Z"
   },
   {
    "duration": 0,
    "start_time": "2022-04-20T17:05:00.525Z"
   },
   {
    "duration": 0,
    "start_time": "2022-04-20T17:05:00.526Z"
   },
   {
    "duration": 0,
    "start_time": "2022-04-20T17:05:00.527Z"
   },
   {
    "duration": 0,
    "start_time": "2022-04-20T17:05:00.528Z"
   },
   {
    "duration": 169,
    "start_time": "2022-04-20T17:05:15.947Z"
   },
   {
    "duration": 150,
    "start_time": "2022-04-20T17:05:25.348Z"
   },
   {
    "duration": 158,
    "start_time": "2022-04-20T17:05:53.952Z"
   },
   {
    "duration": 168,
    "start_time": "2022-04-20T17:06:25.045Z"
   },
   {
    "duration": 256,
    "start_time": "2022-04-20T17:06:30.384Z"
   },
   {
    "duration": 171,
    "start_time": "2022-04-20T17:06:35.906Z"
   },
   {
    "duration": 166,
    "start_time": "2022-04-20T17:07:09.036Z"
   },
   {
    "duration": 152,
    "start_time": "2022-04-20T17:07:17.427Z"
   },
   {
    "duration": 288,
    "start_time": "2022-04-20T17:07:24.794Z"
   },
   {
    "duration": 173,
    "start_time": "2022-04-20T17:08:02.564Z"
   },
   {
    "duration": 155,
    "start_time": "2022-04-20T17:08:06.501Z"
   },
   {
    "duration": 287,
    "start_time": "2022-04-20T17:08:17.021Z"
   },
   {
    "duration": 278,
    "start_time": "2022-04-20T17:08:19.576Z"
   },
   {
    "duration": 287,
    "start_time": "2022-04-20T17:08:30.924Z"
   },
   {
    "duration": 8,
    "start_time": "2022-04-20T17:09:25.386Z"
   },
   {
    "duration": 4,
    "start_time": "2022-04-20T17:09:41.521Z"
   },
   {
    "duration": 4,
    "start_time": "2022-04-20T17:09:46.083Z"
   },
   {
    "duration": 307,
    "start_time": "2022-04-20T17:10:16.623Z"
   },
   {
    "duration": 378,
    "start_time": "2022-04-20T17:10:30.588Z"
   },
   {
    "duration": 278,
    "start_time": "2022-04-20T17:10:38.320Z"
   },
   {
    "duration": 9,
    "start_time": "2022-04-20T17:10:47.123Z"
   },
   {
    "duration": 94,
    "start_time": "2022-04-20T17:10:47.762Z"
   },
   {
    "duration": 91,
    "start_time": "2022-04-20T17:10:51.444Z"
   },
   {
    "duration": 3,
    "start_time": "2022-04-20T17:10:53.886Z"
   },
   {
    "duration": 4,
    "start_time": "2022-04-20T17:10:54.315Z"
   },
   {
    "duration": 5,
    "start_time": "2022-04-20T17:10:54.717Z"
   },
   {
    "duration": 2,
    "start_time": "2022-04-20T17:10:56.553Z"
   },
   {
    "duration": 197,
    "start_time": "2022-04-20T17:10:57.155Z"
   },
   {
    "duration": 135,
    "start_time": "2022-04-20T17:10:59.238Z"
   },
   {
    "duration": 160,
    "start_time": "2022-04-20T17:11:01.101Z"
   },
   {
    "duration": 11,
    "start_time": "2022-04-20T17:11:04.527Z"
   },
   {
    "duration": 9,
    "start_time": "2022-04-20T17:11:10.773Z"
   },
   {
    "duration": 7,
    "start_time": "2022-04-20T17:11:12.941Z"
   },
   {
    "duration": 18,
    "start_time": "2022-04-20T17:11:14.147Z"
   },
   {
    "duration": 12,
    "start_time": "2022-04-20T17:11:14.661Z"
   },
   {
    "duration": 225,
    "start_time": "2022-04-20T17:11:15.352Z"
   },
   {
    "duration": 2,
    "start_time": "2022-04-20T17:11:15.800Z"
   },
   {
    "duration": 149,
    "start_time": "2022-04-20T17:11:16.172Z"
   },
   {
    "duration": 269,
    "start_time": "2022-04-20T17:11:16.726Z"
   },
   {
    "duration": 255,
    "start_time": "2022-04-20T17:11:19.703Z"
   },
   {
    "duration": 152,
    "start_time": "2022-04-20T17:11:23.753Z"
   },
   {
    "duration": 253,
    "start_time": "2022-04-20T17:11:27.546Z"
   },
   {
    "duration": 9,
    "start_time": "2022-04-20T17:18:36.801Z"
   },
   {
    "duration": 4,
    "start_time": "2022-04-20T17:18:40.773Z"
   },
   {
    "duration": 8,
    "start_time": "2022-04-20T17:18:52.586Z"
   },
   {
    "duration": 4,
    "start_time": "2022-04-20T17:18:59.721Z"
   },
   {
    "duration": 8,
    "start_time": "2022-04-20T17:19:23.152Z"
   },
   {
    "duration": 17,
    "start_time": "2022-04-20T17:20:42.010Z"
   },
   {
    "duration": 7,
    "start_time": "2022-04-20T17:21:11.130Z"
   },
   {
    "duration": 17,
    "start_time": "2022-04-20T17:21:32.487Z"
   },
   {
    "duration": 10,
    "start_time": "2022-04-20T17:22:57.215Z"
   },
   {
    "duration": 4,
    "start_time": "2022-04-20T17:22:57.848Z"
   },
   {
    "duration": 35,
    "start_time": "2022-04-20T17:22:59.418Z"
   },
   {
    "duration": 5,
    "start_time": "2022-04-20T17:23:09.150Z"
   },
   {
    "duration": 17,
    "start_time": "2022-04-20T17:23:18.427Z"
   },
   {
    "duration": 13,
    "start_time": "2022-04-20T17:23:43.593Z"
   },
   {
    "duration": 16,
    "start_time": "2022-04-20T17:24:00.414Z"
   },
   {
    "duration": 8,
    "start_time": "2022-04-20T17:24:17.358Z"
   },
   {
    "duration": 117,
    "start_time": "2022-04-20T17:24:28.090Z"
   },
   {
    "duration": 9,
    "start_time": "2022-04-20T17:24:33.584Z"
   },
   {
    "duration": 6,
    "start_time": "2022-04-20T17:25:05.544Z"
   },
   {
    "duration": 5,
    "start_time": "2022-04-20T17:25:22.997Z"
   },
   {
    "duration": 10,
    "start_time": "2022-04-20T17:25:23.207Z"
   },
   {
    "duration": 20,
    "start_time": "2022-04-20T17:25:23.367Z"
   },
   {
    "duration": 11,
    "start_time": "2022-04-20T17:25:23.439Z"
   },
   {
    "duration": 2,
    "start_time": "2022-04-20T17:25:23.605Z"
   },
   {
    "duration": 10,
    "start_time": "2022-04-20T17:25:23.724Z"
   },
   {
    "duration": 10,
    "start_time": "2022-04-20T17:25:23.898Z"
   },
   {
    "duration": 6,
    "start_time": "2022-04-20T17:25:24.080Z"
   },
   {
    "duration": 11,
    "start_time": "2022-04-20T17:25:24.260Z"
   },
   {
    "duration": 15,
    "start_time": "2022-04-20T17:25:24.591Z"
   },
   {
    "duration": 8,
    "start_time": "2022-04-20T17:25:24.757Z"
   },
   {
    "duration": 8,
    "start_time": "2022-04-20T17:25:24.903Z"
   },
   {
    "duration": 9,
    "start_time": "2022-04-20T17:25:25.047Z"
   },
   {
    "duration": 5,
    "start_time": "2022-04-20T17:25:25.464Z"
   },
   {
    "duration": 2,
    "start_time": "2022-04-20T17:25:25.586Z"
   },
   {
    "duration": 3,
    "start_time": "2022-04-20T17:25:25.826Z"
   },
   {
    "duration": 12,
    "start_time": "2022-04-20T17:25:25.961Z"
   },
   {
    "duration": 7,
    "start_time": "2022-04-20T17:25:26.367Z"
   },
   {
    "duration": 8,
    "start_time": "2022-04-20T17:25:26.686Z"
   },
   {
    "duration": 9,
    "start_time": "2022-04-20T17:25:27.171Z"
   },
   {
    "duration": 6,
    "start_time": "2022-04-20T17:25:27.698Z"
   },
   {
    "duration": 9,
    "start_time": "2022-04-20T17:25:28.812Z"
   },
   {
    "duration": 16,
    "start_time": "2022-04-20T17:25:29.705Z"
   },
   {
    "duration": 7,
    "start_time": "2022-04-20T17:25:30.063Z"
   },
   {
    "duration": 1719,
    "start_time": "2022-04-20T17:26:30.975Z"
   },
   {
    "duration": 10,
    "start_time": "2022-04-20T17:26:48.212Z"
   },
   {
    "duration": 12,
    "start_time": "2022-04-20T17:27:01.609Z"
   },
   {
    "duration": 11,
    "start_time": "2022-04-20T17:27:04.163Z"
   },
   {
    "duration": 6,
    "start_time": "2022-04-20T17:27:46.456Z"
   },
   {
    "duration": 9,
    "start_time": "2022-04-20T17:27:46.879Z"
   },
   {
    "duration": 10,
    "start_time": "2022-04-20T17:27:47.725Z"
   },
   {
    "duration": 13,
    "start_time": "2022-04-20T17:27:49.307Z"
   },
   {
    "duration": 7,
    "start_time": "2022-04-20T17:28:09.041Z"
   },
   {
    "duration": 7,
    "start_time": "2022-04-20T17:29:28.874Z"
   },
   {
    "duration": 9,
    "start_time": "2022-04-20T17:29:39.463Z"
   },
   {
    "duration": 108,
    "start_time": "2022-04-20T17:34:27.527Z"
   },
   {
    "duration": 1133,
    "start_time": "2022-04-20T17:38:09.168Z"
   },
   {
    "duration": 17,
    "start_time": "2022-04-20T17:38:10.304Z"
   },
   {
    "duration": 20,
    "start_time": "2022-04-20T17:38:10.323Z"
   },
   {
    "duration": 11,
    "start_time": "2022-04-20T17:38:10.346Z"
   },
   {
    "duration": 3,
    "start_time": "2022-04-20T17:38:10.358Z"
   },
   {
    "duration": 20,
    "start_time": "2022-04-20T17:38:10.362Z"
   },
   {
    "duration": 12,
    "start_time": "2022-04-20T17:38:10.384Z"
   },
   {
    "duration": 9,
    "start_time": "2022-04-20T17:38:10.398Z"
   },
   {
    "duration": 21,
    "start_time": "2022-04-20T17:38:10.409Z"
   },
   {
    "duration": 13,
    "start_time": "2022-04-20T17:38:10.432Z"
   },
   {
    "duration": 9,
    "start_time": "2022-04-20T17:38:10.447Z"
   },
   {
    "duration": 13,
    "start_time": "2022-04-20T17:38:10.460Z"
   },
   {
    "duration": 15,
    "start_time": "2022-04-20T17:38:10.474Z"
   },
   {
    "duration": 14,
    "start_time": "2022-04-20T17:38:10.491Z"
   },
   {
    "duration": 5,
    "start_time": "2022-04-20T17:38:10.524Z"
   },
   {
    "duration": 8,
    "start_time": "2022-04-20T17:38:10.530Z"
   },
   {
    "duration": 605,
    "start_time": "2022-04-20T17:38:10.540Z"
   },
   {
    "duration": 0,
    "start_time": "2022-04-20T17:38:11.148Z"
   },
   {
    "duration": 0,
    "start_time": "2022-04-20T17:38:11.150Z"
   },
   {
    "duration": 0,
    "start_time": "2022-04-20T17:38:11.152Z"
   },
   {
    "duration": 0,
    "start_time": "2022-04-20T17:38:11.153Z"
   },
   {
    "duration": 0,
    "start_time": "2022-04-20T17:38:11.154Z"
   },
   {
    "duration": 0,
    "start_time": "2022-04-20T17:38:11.155Z"
   },
   {
    "duration": 0,
    "start_time": "2022-04-20T17:38:11.157Z"
   },
   {
    "duration": 0,
    "start_time": "2022-04-20T17:38:11.158Z"
   },
   {
    "duration": 0,
    "start_time": "2022-04-20T17:38:11.159Z"
   },
   {
    "duration": 0,
    "start_time": "2022-04-20T17:38:11.161Z"
   },
   {
    "duration": 0,
    "start_time": "2022-04-20T17:38:11.162Z"
   },
   {
    "duration": 0,
    "start_time": "2022-04-20T17:38:11.163Z"
   },
   {
    "duration": 0,
    "start_time": "2022-04-20T17:38:11.164Z"
   },
   {
    "duration": 1,
    "start_time": "2022-04-20T17:38:11.168Z"
   },
   {
    "duration": 0,
    "start_time": "2022-04-20T17:38:11.170Z"
   },
   {
    "duration": 0,
    "start_time": "2022-04-20T17:38:11.172Z"
   },
   {
    "duration": 0,
    "start_time": "2022-04-20T17:38:11.173Z"
   },
   {
    "duration": 0,
    "start_time": "2022-04-20T17:38:11.174Z"
   },
   {
    "duration": 0,
    "start_time": "2022-04-20T17:38:11.176Z"
   },
   {
    "duration": 0,
    "start_time": "2022-04-20T17:38:11.177Z"
   },
   {
    "duration": 0,
    "start_time": "2022-04-20T17:38:11.179Z"
   },
   {
    "duration": 0,
    "start_time": "2022-04-20T17:38:11.180Z"
   },
   {
    "duration": 0,
    "start_time": "2022-04-20T17:38:11.182Z"
   },
   {
    "duration": 0,
    "start_time": "2022-04-20T17:38:11.183Z"
   },
   {
    "duration": 0,
    "start_time": "2022-04-20T17:38:11.185Z"
   },
   {
    "duration": 0,
    "start_time": "2022-04-20T17:38:11.186Z"
   },
   {
    "duration": 0,
    "start_time": "2022-04-20T17:38:11.224Z"
   },
   {
    "duration": 0,
    "start_time": "2022-04-20T17:38:11.225Z"
   },
   {
    "duration": 0,
    "start_time": "2022-04-20T17:38:11.226Z"
   },
   {
    "duration": 0,
    "start_time": "2022-04-20T17:38:11.228Z"
   },
   {
    "duration": 0,
    "start_time": "2022-04-20T17:38:11.229Z"
   },
   {
    "duration": 21,
    "start_time": "2022-04-20T17:38:29.746Z"
   },
   {
    "duration": 1094,
    "start_time": "2022-04-20T17:39:25.132Z"
   },
   {
    "duration": 11,
    "start_time": "2022-04-20T17:39:26.228Z"
   },
   {
    "duration": 20,
    "start_time": "2022-04-20T17:39:26.241Z"
   },
   {
    "duration": 10,
    "start_time": "2022-04-20T17:39:26.262Z"
   },
   {
    "duration": 3,
    "start_time": "2022-04-20T17:39:26.274Z"
   },
   {
    "duration": 13,
    "start_time": "2022-04-20T17:39:26.279Z"
   },
   {
    "duration": 49,
    "start_time": "2022-04-20T17:39:26.294Z"
   },
   {
    "duration": 67,
    "start_time": "2022-04-20T17:39:26.356Z"
   },
   {
    "duration": 19,
    "start_time": "2022-04-20T17:39:26.432Z"
   },
   {
    "duration": 13,
    "start_time": "2022-04-20T17:39:26.453Z"
   },
   {
    "duration": 8,
    "start_time": "2022-04-20T17:39:26.469Z"
   },
   {
    "duration": 8,
    "start_time": "2022-04-20T17:39:26.479Z"
   },
   {
    "duration": 12,
    "start_time": "2022-04-20T17:39:26.489Z"
   },
   {
    "duration": 23,
    "start_time": "2022-04-20T17:39:26.504Z"
   },
   {
    "duration": 3,
    "start_time": "2022-04-20T17:39:26.529Z"
   },
   {
    "duration": 5,
    "start_time": "2022-04-20T17:39:26.534Z"
   },
   {
    "duration": 15,
    "start_time": "2022-04-20T17:39:26.540Z"
   },
   {
    "duration": 13,
    "start_time": "2022-04-20T17:39:26.556Z"
   },
   {
    "duration": 15,
    "start_time": "2022-04-20T17:39:26.571Z"
   },
   {
    "duration": 43,
    "start_time": "2022-04-20T17:39:26.588Z"
   },
   {
    "duration": 12,
    "start_time": "2022-04-20T17:39:26.633Z"
   },
   {
    "duration": 5,
    "start_time": "2022-04-20T17:39:26.647Z"
   },
   {
    "duration": 12,
    "start_time": "2022-04-20T17:39:26.654Z"
   },
   {
    "duration": 10,
    "start_time": "2022-04-20T17:39:26.667Z"
   },
   {
    "duration": 292,
    "start_time": "2022-04-20T17:39:26.678Z"
   },
   {
    "duration": 238,
    "start_time": "2022-04-20T17:39:26.972Z"
   },
   {
    "duration": 168,
    "start_time": "2022-04-20T17:39:27.212Z"
   },
   {
    "duration": 257,
    "start_time": "2022-04-20T17:39:27.381Z"
   },
   {
    "duration": 248,
    "start_time": "2022-04-20T17:39:27.639Z"
   },
   {
    "duration": 390,
    "start_time": "2022-04-20T17:39:27.889Z"
   },
   {
    "duration": 11,
    "start_time": "2022-04-20T17:39:28.281Z"
   },
   {
    "duration": 139,
    "start_time": "2022-04-20T17:39:28.295Z"
   },
   {
    "duration": 4,
    "start_time": "2022-04-20T17:39:28.436Z"
   },
   {
    "duration": 8,
    "start_time": "2022-04-20T17:39:28.442Z"
   },
   {
    "duration": 8,
    "start_time": "2022-04-20T17:39:28.452Z"
   },
   {
    "duration": 4,
    "start_time": "2022-04-20T17:39:28.462Z"
   },
   {
    "duration": 246,
    "start_time": "2022-04-20T17:39:28.467Z"
   },
   {
    "duration": 130,
    "start_time": "2022-04-20T17:39:28.714Z"
   },
   {
    "duration": 142,
    "start_time": "2022-04-20T17:39:28.846Z"
   },
   {
    "duration": 10,
    "start_time": "2022-04-20T17:39:28.990Z"
   },
   {
    "duration": 10,
    "start_time": "2022-04-20T17:39:29.023Z"
   },
   {
    "duration": 10,
    "start_time": "2022-04-20T17:39:29.034Z"
   },
   {
    "duration": 22,
    "start_time": "2022-04-20T17:39:29.045Z"
   },
   {
    "duration": 18,
    "start_time": "2022-04-20T17:39:29.069Z"
   },
   {
    "duration": 348,
    "start_time": "2022-04-20T17:39:29.089Z"
   },
   {
    "duration": 3,
    "start_time": "2022-04-20T17:39:29.440Z"
   },
   {
    "duration": 231,
    "start_time": "2022-04-20T17:39:29.444Z"
   },
   {
    "duration": 268,
    "start_time": "2022-04-20T17:39:29.676Z"
   },
   {
    "duration": 136,
    "start_time": "2022-04-20T17:41:41.125Z"
   },
   {
    "duration": 10,
    "start_time": "2022-04-20T17:42:25.658Z"
   },
   {
    "duration": 10,
    "start_time": "2022-04-20T17:42:35.312Z"
   },
   {
    "duration": 277,
    "start_time": "2022-04-20T17:50:54.053Z"
   },
   {
    "duration": 145,
    "start_time": "2022-04-20T17:51:09.402Z"
   },
   {
    "duration": 105,
    "start_time": "2022-04-20T17:58:08.498Z"
   },
   {
    "duration": 267,
    "start_time": "2022-04-20T18:04:56.611Z"
   },
   {
    "duration": 121,
    "start_time": "2022-04-20T18:13:43.557Z"
   },
   {
    "duration": 1806,
    "start_time": "2022-04-20T18:14:25.030Z"
   },
   {
    "duration": 111,
    "start_time": "2022-04-20T18:14:29.676Z"
   },
   {
    "duration": 21,
    "start_time": "2022-04-20T18:15:35.890Z"
   },
   {
    "duration": 11,
    "start_time": "2022-04-20T18:15:45.088Z"
   },
   {
    "duration": 5,
    "start_time": "2022-04-20T18:15:55.662Z"
   },
   {
    "duration": 109,
    "start_time": "2022-04-20T18:17:03.653Z"
   },
   {
    "duration": 110,
    "start_time": "2022-04-20T18:17:23.075Z"
   },
   {
    "duration": 111,
    "start_time": "2022-04-20T18:17:46.212Z"
   },
   {
    "duration": 104,
    "start_time": "2022-04-20T18:18:18.544Z"
   },
   {
    "duration": 8,
    "start_time": "2022-04-20T18:23:23.244Z"
   },
   {
    "duration": 10,
    "start_time": "2022-04-20T18:23:53.604Z"
   },
   {
    "duration": 12,
    "start_time": "2022-04-20T18:24:00.583Z"
   },
   {
    "duration": 107,
    "start_time": "2022-04-20T18:29:01.988Z"
   },
   {
    "duration": 9,
    "start_time": "2022-04-20T18:31:18.936Z"
   },
   {
    "duration": 210,
    "start_time": "2022-04-20T18:31:25.185Z"
   },
   {
    "duration": 22,
    "start_time": "2022-04-20T18:33:24.037Z"
   },
   {
    "duration": 120,
    "start_time": "2022-04-20T18:33:28.027Z"
   },
   {
    "duration": 23,
    "start_time": "2022-04-20T18:33:28.334Z"
   },
   {
    "duration": 132,
    "start_time": "2022-04-20T18:33:31.831Z"
   },
   {
    "duration": 101,
    "start_time": "2022-04-20T18:39:46.874Z"
   },
   {
    "duration": 1968,
    "start_time": "2022-04-20T18:41:32.795Z"
   },
   {
    "duration": 7,
    "start_time": "2022-04-20T18:41:36.681Z"
   },
   {
    "duration": 1704,
    "start_time": "2022-04-20T18:42:07.717Z"
   },
   {
    "duration": 112,
    "start_time": "2022-04-20T18:42:15.935Z"
   },
   {
    "duration": 115,
    "start_time": "2022-04-20T18:43:01.264Z"
   },
   {
    "duration": 189,
    "start_time": "2022-04-20T18:43:09.455Z"
   },
   {
    "duration": 108,
    "start_time": "2022-04-20T18:43:16.822Z"
   },
   {
    "duration": 100,
    "start_time": "2022-04-20T18:43:26.643Z"
   },
   {
    "duration": 121,
    "start_time": "2022-04-20T18:43:36.311Z"
   },
   {
    "duration": 196,
    "start_time": "2022-04-20T18:43:39.833Z"
   },
   {
    "duration": 1142,
    "start_time": "2022-04-20T18:43:42.621Z"
   },
   {
    "duration": 113,
    "start_time": "2022-04-20T18:44:30.372Z"
   },
   {
    "duration": 6,
    "start_time": "2022-04-20T18:44:51.048Z"
   },
   {
    "duration": 4,
    "start_time": "2022-04-20T18:45:02.652Z"
   },
   {
    "duration": 8,
    "start_time": "2022-04-20T18:45:11.603Z"
   },
   {
    "duration": 5,
    "start_time": "2022-04-20T18:45:45.102Z"
   },
   {
    "duration": 5,
    "start_time": "2022-04-20T18:46:05.007Z"
   },
   {
    "duration": 8,
    "start_time": "2022-04-20T18:46:16.869Z"
   },
   {
    "duration": 6,
    "start_time": "2022-04-20T18:46:41.464Z"
   },
   {
    "duration": 9,
    "start_time": "2022-04-20T18:46:41.710Z"
   },
   {
    "duration": 112,
    "start_time": "2022-04-20T18:46:52.784Z"
   },
   {
    "duration": 122,
    "start_time": "2022-04-20T18:47:16.687Z"
   },
   {
    "duration": 104,
    "start_time": "2022-04-20T18:47:30.683Z"
   },
   {
    "duration": 4,
    "start_time": "2022-04-20T18:49:32.563Z"
   },
   {
    "duration": 1163,
    "start_time": "2022-04-20T18:50:02.971Z"
   },
   {
    "duration": 12,
    "start_time": "2022-04-20T18:50:05.172Z"
   },
   {
    "duration": 20,
    "start_time": "2022-04-20T18:50:05.186Z"
   },
   {
    "duration": 9,
    "start_time": "2022-04-20T18:50:05.208Z"
   },
   {
    "duration": 2,
    "start_time": "2022-04-20T18:50:05.218Z"
   },
   {
    "duration": 14,
    "start_time": "2022-04-20T18:50:05.222Z"
   },
   {
    "duration": 11,
    "start_time": "2022-04-20T18:50:05.237Z"
   },
   {
    "duration": 6,
    "start_time": "2022-04-20T18:50:05.249Z"
   },
   {
    "duration": 10,
    "start_time": "2022-04-20T18:50:05.256Z"
   },
   {
    "duration": 10,
    "start_time": "2022-04-20T18:50:05.267Z"
   },
   {
    "duration": 9,
    "start_time": "2022-04-20T18:50:05.279Z"
   },
   {
    "duration": 39,
    "start_time": "2022-04-20T18:50:05.289Z"
   },
   {
    "duration": 10,
    "start_time": "2022-04-20T18:50:05.531Z"
   },
   {
    "duration": 6,
    "start_time": "2022-04-20T18:50:05.544Z"
   },
   {
    "duration": 4,
    "start_time": "2022-04-20T18:50:05.552Z"
   },
   {
    "duration": 5,
    "start_time": "2022-04-20T18:50:05.557Z"
   },
   {
    "duration": 14,
    "start_time": "2022-04-20T18:50:05.564Z"
   },
   {
    "duration": 17,
    "start_time": "2022-04-20T18:50:05.579Z"
   },
   {
    "duration": 31,
    "start_time": "2022-04-20T18:50:05.597Z"
   },
   {
    "duration": 10,
    "start_time": "2022-04-20T18:50:05.630Z"
   },
   {
    "duration": 14,
    "start_time": "2022-04-20T18:50:05.642Z"
   },
   {
    "duration": 10,
    "start_time": "2022-04-20T18:50:05.657Z"
   },
   {
    "duration": 10,
    "start_time": "2022-04-20T18:50:05.669Z"
   },
   {
    "duration": 7,
    "start_time": "2022-04-20T18:50:05.680Z"
   },
   {
    "duration": 36,
    "start_time": "2022-04-20T18:50:05.689Z"
   },
   {
    "duration": 7,
    "start_time": "2022-04-20T18:50:05.730Z"
   },
   {
    "duration": 293,
    "start_time": "2022-04-20T18:50:05.739Z"
   },
   {
    "duration": 227,
    "start_time": "2022-04-20T18:50:06.034Z"
   },
   {
    "duration": 165,
    "start_time": "2022-04-20T18:50:06.262Z"
   },
   {
    "duration": 248,
    "start_time": "2022-04-20T18:50:06.428Z"
   },
   {
    "duration": 171,
    "start_time": "2022-04-20T18:50:06.677Z"
   },
   {
    "duration": 258,
    "start_time": "2022-04-20T18:50:06.849Z"
   },
   {
    "duration": 16,
    "start_time": "2022-04-20T18:50:07.109Z"
   },
   {
    "duration": 115,
    "start_time": "2022-04-20T18:50:07.127Z"
   },
   {
    "duration": 113,
    "start_time": "2022-04-20T18:50:07.243Z"
   },
   {
    "duration": 5,
    "start_time": "2022-04-20T18:50:07.357Z"
   },
   {
    "duration": 8,
    "start_time": "2022-04-20T18:50:07.364Z"
   },
   {
    "duration": 200,
    "start_time": "2022-04-20T18:50:07.373Z"
   },
   {
    "duration": 101,
    "start_time": "2022-04-20T18:50:07.575Z"
   },
   {
    "duration": 0,
    "start_time": "2022-04-20T18:50:07.678Z"
   },
   {
    "duration": 0,
    "start_time": "2022-04-20T18:50:07.679Z"
   },
   {
    "duration": 0,
    "start_time": "2022-04-20T18:50:07.681Z"
   },
   {
    "duration": 0,
    "start_time": "2022-04-20T18:50:07.683Z"
   },
   {
    "duration": 0,
    "start_time": "2022-04-20T18:50:07.684Z"
   },
   {
    "duration": 0,
    "start_time": "2022-04-20T18:50:07.685Z"
   },
   {
    "duration": 0,
    "start_time": "2022-04-20T18:50:07.687Z"
   },
   {
    "duration": 0,
    "start_time": "2022-04-20T18:50:07.688Z"
   },
   {
    "duration": 0,
    "start_time": "2022-04-20T18:50:07.689Z"
   },
   {
    "duration": 0,
    "start_time": "2022-04-20T18:50:07.690Z"
   },
   {
    "duration": 0,
    "start_time": "2022-04-20T18:50:07.692Z"
   },
   {
    "duration": 0,
    "start_time": "2022-04-20T18:50:07.693Z"
   },
   {
    "duration": 0,
    "start_time": "2022-04-20T18:50:07.694Z"
   },
   {
    "duration": 0,
    "start_time": "2022-04-20T18:50:07.695Z"
   },
   {
    "duration": 0,
    "start_time": "2022-04-20T18:50:07.696Z"
   },
   {
    "duration": 112,
    "start_time": "2022-04-20T18:51:24.643Z"
   },
   {
    "duration": 117,
    "start_time": "2022-04-20T18:51:43.031Z"
   },
   {
    "duration": 11,
    "start_time": "2022-04-20T18:52:13.159Z"
   },
   {
    "duration": 4,
    "start_time": "2022-04-20T18:52:28.421Z"
   },
   {
    "duration": 99,
    "start_time": "2022-04-20T18:52:59.157Z"
   },
   {
    "duration": 101,
    "start_time": "2022-04-20T18:53:51.437Z"
   },
   {
    "duration": 6,
    "start_time": "2022-04-20T18:54:15.081Z"
   },
   {
    "duration": 103,
    "start_time": "2022-04-20T18:54:17.295Z"
   },
   {
    "duration": 11,
    "start_time": "2022-04-20T18:54:28.474Z"
   },
   {
    "duration": 3,
    "start_time": "2022-04-20T18:54:55.770Z"
   },
   {
    "duration": 6,
    "start_time": "2022-04-20T18:54:58.286Z"
   },
   {
    "duration": 119,
    "start_time": "2022-04-20T18:54:59.706Z"
   },
   {
    "duration": 10,
    "start_time": "2022-04-20T18:55:07.827Z"
   },
   {
    "duration": 6,
    "start_time": "2022-04-20T18:55:19.866Z"
   },
   {
    "duration": 8,
    "start_time": "2022-04-20T18:55:24.188Z"
   },
   {
    "duration": 104,
    "start_time": "2022-04-20T18:55:27.258Z"
   },
   {
    "duration": 5,
    "start_time": "2022-04-20T18:55:56.087Z"
   },
   {
    "duration": 5,
    "start_time": "2022-04-20T18:56:02.053Z"
   },
   {
    "duration": 114,
    "start_time": "2022-04-20T18:58:05.414Z"
   },
   {
    "duration": 116,
    "start_time": "2022-04-20T18:58:48.745Z"
   },
   {
    "duration": 3,
    "start_time": "2022-04-20T18:59:43.618Z"
   },
   {
    "duration": 4,
    "start_time": "2022-04-20T18:59:43.897Z"
   },
   {
    "duration": 215,
    "start_time": "2022-04-20T19:01:43.016Z"
   },
   {
    "duration": 138,
    "start_time": "2022-04-20T19:01:44.026Z"
   },
   {
    "duration": 23,
    "start_time": "2022-04-20T19:01:44.666Z"
   },
   {
    "duration": 8,
    "start_time": "2022-04-20T19:02:40.702Z"
   },
   {
    "duration": 9,
    "start_time": "2022-04-20T19:04:43.613Z"
   },
   {
    "duration": 8,
    "start_time": "2022-04-20T19:05:18.915Z"
   },
   {
    "duration": 18,
    "start_time": "2022-04-20T19:05:20.467Z"
   },
   {
    "duration": 8,
    "start_time": "2022-04-20T19:07:52.990Z"
   },
   {
    "duration": 9,
    "start_time": "2022-04-20T19:08:12.140Z"
   },
   {
    "duration": 7,
    "start_time": "2022-04-20T19:08:17.982Z"
   },
   {
    "duration": 1039,
    "start_time": "2022-04-20T19:11:22.968Z"
   },
   {
    "duration": 10,
    "start_time": "2022-04-20T19:11:24.009Z"
   },
   {
    "duration": 19,
    "start_time": "2022-04-20T19:11:24.021Z"
   },
   {
    "duration": 9,
    "start_time": "2022-04-20T19:11:24.041Z"
   },
   {
    "duration": 2,
    "start_time": "2022-04-20T19:11:24.051Z"
   },
   {
    "duration": 12,
    "start_time": "2022-04-20T19:11:24.054Z"
   },
   {
    "duration": 9,
    "start_time": "2022-04-20T19:11:24.068Z"
   },
   {
    "duration": 5,
    "start_time": "2022-04-20T19:11:27.275Z"
   },
   {
    "duration": 8,
    "start_time": "2022-04-20T19:11:27.282Z"
   },
   {
    "duration": 11,
    "start_time": "2022-04-20T19:11:27.291Z"
   },
   {
    "duration": 6,
    "start_time": "2022-04-20T19:11:27.303Z"
   },
   {
    "duration": 6,
    "start_time": "2022-04-20T19:11:27.311Z"
   },
   {
    "duration": 12,
    "start_time": "2022-04-20T19:11:27.319Z"
   },
   {
    "duration": 5,
    "start_time": "2022-04-20T19:11:27.333Z"
   },
   {
    "duration": 8,
    "start_time": "2022-04-20T19:11:27.339Z"
   },
   {
    "duration": 6,
    "start_time": "2022-04-20T19:11:27.349Z"
   },
   {
    "duration": 13,
    "start_time": "2022-04-20T19:11:27.356Z"
   },
   {
    "duration": 10,
    "start_time": "2022-04-20T19:11:27.370Z"
   },
   {
    "duration": 10,
    "start_time": "2022-04-20T19:11:27.382Z"
   },
   {
    "duration": 8,
    "start_time": "2022-04-20T19:11:27.393Z"
   },
   {
    "duration": 20,
    "start_time": "2022-04-20T19:11:27.403Z"
   },
   {
    "duration": 7,
    "start_time": "2022-04-20T19:11:27.425Z"
   },
   {
    "duration": 12,
    "start_time": "2022-04-20T19:11:27.434Z"
   },
   {
    "duration": 4,
    "start_time": "2022-04-20T19:11:27.447Z"
   },
   {
    "duration": 9,
    "start_time": "2022-04-20T19:11:31.018Z"
   },
   {
    "duration": 27,
    "start_time": "2022-04-20T19:11:31.029Z"
   },
   {
    "duration": 270,
    "start_time": "2022-04-20T19:11:31.058Z"
   },
   {
    "duration": 231,
    "start_time": "2022-04-20T19:11:31.331Z"
   },
   {
    "duration": 140,
    "start_time": "2022-04-20T19:11:32.315Z"
   },
   {
    "duration": 217,
    "start_time": "2022-04-20T19:11:32.549Z"
   },
   {
    "duration": 167,
    "start_time": "2022-04-20T19:11:32.767Z"
   },
   {
    "duration": 263,
    "start_time": "2022-04-20T19:11:32.936Z"
   },
   {
    "duration": 10,
    "start_time": "2022-04-20T19:11:33.201Z"
   },
   {
    "duration": 141,
    "start_time": "2022-04-20T19:11:33.224Z"
   },
   {
    "duration": 132,
    "start_time": "2022-04-20T19:11:33.777Z"
   },
   {
    "duration": 13,
    "start_time": "2022-04-20T19:11:33.911Z"
   },
   {
    "duration": 6,
    "start_time": "2022-04-20T19:11:33.925Z"
   },
   {
    "duration": 6,
    "start_time": "2022-04-20T19:11:33.933Z"
   },
   {
    "duration": 194,
    "start_time": "2022-04-20T19:11:33.942Z"
   },
   {
    "duration": 6,
    "start_time": "2022-04-20T19:11:34.138Z"
   },
   {
    "duration": 117,
    "start_time": "2022-04-20T19:11:34.146Z"
   },
   {
    "duration": 4,
    "start_time": "2022-04-20T19:11:34.264Z"
   },
   {
    "duration": 5,
    "start_time": "2022-04-20T19:11:34.270Z"
   },
   {
    "duration": 209,
    "start_time": "2022-04-20T19:11:36.830Z"
   },
   {
    "duration": 117,
    "start_time": "2022-04-20T19:11:44.310Z"
   },
   {
    "duration": 22,
    "start_time": "2022-04-20T19:11:44.428Z"
   },
   {
    "duration": 17,
    "start_time": "2022-04-20T19:11:44.451Z"
   },
   {
    "duration": 95,
    "start_time": "2022-04-20T19:11:44.469Z"
   },
   {
    "duration": 0,
    "start_time": "2022-04-20T19:11:44.566Z"
   },
   {
    "duration": 88,
    "start_time": "2022-04-20T19:11:45.337Z"
   },
   {
    "duration": 0,
    "start_time": "2022-04-20T19:11:45.427Z"
   },
   {
    "duration": 0,
    "start_time": "2022-04-20T19:11:45.428Z"
   },
   {
    "duration": 0,
    "start_time": "2022-04-20T19:11:45.429Z"
   },
   {
    "duration": 0,
    "start_time": "2022-04-20T19:11:45.430Z"
   },
   {
    "duration": 141,
    "start_time": "2022-04-20T19:11:45.475Z"
   },
   {
    "duration": 297,
    "start_time": "2022-04-20T19:11:45.618Z"
   },
   {
    "duration": 105,
    "start_time": "2022-04-20T19:11:46.995Z"
   },
   {
    "duration": 105,
    "start_time": "2022-04-20T19:12:12.322Z"
   },
   {
    "duration": 10,
    "start_time": "2022-04-20T19:12:18.521Z"
   },
   {
    "duration": 8,
    "start_time": "2022-04-20T19:12:54.768Z"
   },
   {
    "duration": 8,
    "start_time": "2022-04-20T19:14:23.240Z"
   },
   {
    "duration": 29,
    "start_time": "2022-04-20T19:14:25.983Z"
   },
   {
    "duration": 13,
    "start_time": "2022-04-20T19:17:54.636Z"
   },
   {
    "duration": 249,
    "start_time": "2022-04-20T19:22:21.325Z"
   },
   {
    "duration": 146,
    "start_time": "2022-04-20T19:22:28.264Z"
   },
   {
    "duration": 257,
    "start_time": "2022-04-20T19:22:31.259Z"
   },
   {
    "duration": 5,
    "start_time": "2022-04-20T19:22:52.561Z"
   },
   {
    "duration": 5,
    "start_time": "2022-04-20T19:29:28.069Z"
   },
   {
    "duration": 245,
    "start_time": "2022-04-20T19:30:42.527Z"
   },
   {
    "duration": 10,
    "start_time": "2022-04-20T19:33:28.722Z"
   },
   {
    "duration": 5,
    "start_time": "2022-04-20T19:33:32.454Z"
   },
   {
    "duration": 7,
    "start_time": "2022-04-20T19:36:42.158Z"
   },
   {
    "duration": 12,
    "start_time": "2022-04-20T19:36:47.448Z"
   },
   {
    "duration": 22,
    "start_time": "2022-04-20T19:37:12.905Z"
   },
   {
    "duration": 243,
    "start_time": "2022-04-20T19:37:41.175Z"
   },
   {
    "duration": 141,
    "start_time": "2022-04-20T19:37:53.210Z"
   },
   {
    "duration": 144,
    "start_time": "2022-04-20T19:38:07.954Z"
   },
   {
    "duration": 8,
    "start_time": "2022-04-20T19:38:42.393Z"
   },
   {
    "duration": 10,
    "start_time": "2022-04-20T19:38:45.937Z"
   },
   {
    "duration": 29,
    "start_time": "2022-04-20T19:39:08.585Z"
   },
   {
    "duration": 14,
    "start_time": "2022-04-20T19:39:15.393Z"
   },
   {
    "duration": 29,
    "start_time": "2022-04-20T19:39:22.471Z"
   },
   {
    "duration": 12,
    "start_time": "2022-04-20T19:39:32.652Z"
   },
   {
    "duration": 10,
    "start_time": "2022-04-20T19:39:37.619Z"
   },
   {
    "duration": 27,
    "start_time": "2022-04-20T19:40:15.300Z"
   },
   {
    "duration": 6,
    "start_time": "2022-04-20T19:40:35.319Z"
   },
   {
    "duration": 10,
    "start_time": "2022-04-20T19:41:05.050Z"
   },
   {
    "duration": 4,
    "start_time": "2022-04-20T19:41:19.917Z"
   },
   {
    "duration": 9,
    "start_time": "2022-04-20T19:41:24.775Z"
   },
   {
    "duration": 1693,
    "start_time": "2022-04-20T19:41:33.065Z"
   },
   {
    "duration": 3,
    "start_time": "2022-04-20T19:41:54.424Z"
   },
   {
    "duration": 10,
    "start_time": "2022-04-20T19:42:00.652Z"
   },
   {
    "duration": 3,
    "start_time": "2022-04-20T19:42:16.545Z"
   },
   {
    "duration": 6,
    "start_time": "2022-04-20T19:42:21.539Z"
   },
   {
    "duration": 15,
    "start_time": "2022-04-20T19:42:26.927Z"
   },
   {
    "duration": 9,
    "start_time": "2022-04-20T19:42:41.657Z"
   },
   {
    "duration": 25,
    "start_time": "2022-04-20T19:42:51.732Z"
   },
   {
    "duration": 14,
    "start_time": "2022-04-20T19:43:05.556Z"
   },
   {
    "duration": 11,
    "start_time": "2022-04-20T19:43:18.016Z"
   },
   {
    "duration": 13,
    "start_time": "2022-04-20T19:43:46.755Z"
   },
   {
    "duration": 26,
    "start_time": "2022-04-20T19:44:00.886Z"
   },
   {
    "duration": 27,
    "start_time": "2022-04-20T19:44:05.541Z"
   },
   {
    "duration": 6,
    "start_time": "2022-04-20T19:45:19.800Z"
   },
   {
    "duration": 3,
    "start_time": "2022-04-20T19:45:28.372Z"
   },
   {
    "duration": 16,
    "start_time": "2022-04-20T19:45:31.978Z"
   },
   {
    "duration": 5,
    "start_time": "2022-04-20T19:45:53.617Z"
   },
   {
    "duration": 260,
    "start_time": "2022-04-20T19:45:57.612Z"
   },
   {
    "duration": 158,
    "start_time": "2022-04-20T19:45:58.741Z"
   },
   {
    "duration": 6,
    "start_time": "2022-04-20T19:46:31.164Z"
   },
   {
    "duration": 12,
    "start_time": "2022-04-20T19:46:34.499Z"
   },
   {
    "duration": 314,
    "start_time": "2022-04-20T19:47:13.149Z"
   },
   {
    "duration": 143,
    "start_time": "2022-04-20T19:47:15.699Z"
   },
   {
    "duration": 245,
    "start_time": "2022-04-20T19:47:16.926Z"
   },
   {
    "duration": 17,
    "start_time": "2022-04-20T19:48:03.986Z"
   },
   {
    "duration": 4,
    "start_time": "2022-04-20T19:48:16.613Z"
   },
   {
    "duration": 10,
    "start_time": "2022-04-20T19:48:38.371Z"
   },
   {
    "duration": 251,
    "start_time": "2022-04-20T19:50:14.203Z"
   },
   {
    "duration": 153,
    "start_time": "2022-04-20T19:50:34.586Z"
   },
   {
    "duration": 145,
    "start_time": "2022-04-20T19:50:54.030Z"
   },
   {
    "duration": 260,
    "start_time": "2022-04-20T19:51:22.395Z"
   },
   {
    "duration": 4,
    "start_time": "2022-04-20T19:51:41.567Z"
   },
   {
    "duration": 4,
    "start_time": "2022-04-20T19:51:45.721Z"
   },
   {
    "duration": 5,
    "start_time": "2022-04-20T19:51:57.672Z"
   },
   {
    "duration": 2,
    "start_time": "2022-04-20T19:52:14.695Z"
   },
   {
    "duration": 5,
    "start_time": "2022-04-20T19:52:15.073Z"
   },
   {
    "duration": 247,
    "start_time": "2022-04-20T19:52:15.484Z"
   },
   {
    "duration": 150,
    "start_time": "2022-04-20T19:52:16.441Z"
   },
   {
    "duration": 149,
    "start_time": "2022-04-20T19:52:17.616Z"
   },
   {
    "duration": 248,
    "start_time": "2022-04-20T19:52:18.327Z"
   },
   {
    "duration": 5,
    "start_time": "2022-04-20T19:52:19.041Z"
   },
   {
    "duration": 145,
    "start_time": "2022-04-20T19:52:40.701Z"
   },
   {
    "duration": 256,
    "start_time": "2022-04-20T19:52:56.074Z"
   },
   {
    "duration": 247,
    "start_time": "2022-04-20T19:56:39.118Z"
   },
   {
    "duration": 247,
    "start_time": "2022-04-20T20:05:25.126Z"
   },
   {
    "duration": 105,
    "start_time": "2022-04-20T20:05:31.975Z"
   },
   {
    "duration": 299,
    "start_time": "2022-04-20T20:05:36.983Z"
   },
   {
    "duration": 189,
    "start_time": "2022-04-20T20:06:06.484Z"
   },
   {
    "duration": 206,
    "start_time": "2022-04-20T20:06:50.173Z"
   },
   {
    "duration": 265,
    "start_time": "2022-04-20T20:06:59.205Z"
   },
   {
    "duration": 107,
    "start_time": "2022-04-20T20:10:30.454Z"
   },
   {
    "duration": 1118,
    "start_time": "2022-04-20T20:20:54.839Z"
   },
   {
    "duration": 10,
    "start_time": "2022-04-20T20:20:55.958Z"
   },
   {
    "duration": 18,
    "start_time": "2022-04-20T20:20:55.972Z"
   },
   {
    "duration": 9,
    "start_time": "2022-04-20T20:20:55.992Z"
   },
   {
    "duration": 2,
    "start_time": "2022-04-20T20:20:56.002Z"
   },
   {
    "duration": 11,
    "start_time": "2022-04-20T20:20:56.006Z"
   },
   {
    "duration": 12,
    "start_time": "2022-04-20T20:20:56.018Z"
   },
   {
    "duration": 6,
    "start_time": "2022-04-20T20:20:56.032Z"
   },
   {
    "duration": 8,
    "start_time": "2022-04-20T20:20:56.040Z"
   },
   {
    "duration": 10,
    "start_time": "2022-04-20T20:20:56.050Z"
   },
   {
    "duration": 5,
    "start_time": "2022-04-20T20:20:56.062Z"
   },
   {
    "duration": 8,
    "start_time": "2022-04-20T20:20:56.069Z"
   },
   {
    "duration": 9,
    "start_time": "2022-04-20T20:20:56.081Z"
   },
   {
    "duration": 34,
    "start_time": "2022-04-20T20:20:56.092Z"
   },
   {
    "duration": 2,
    "start_time": "2022-04-20T20:20:56.127Z"
   },
   {
    "duration": 6,
    "start_time": "2022-04-20T20:20:56.131Z"
   },
   {
    "duration": 14,
    "start_time": "2022-04-20T20:20:56.139Z"
   },
   {
    "duration": 14,
    "start_time": "2022-04-20T20:20:56.154Z"
   },
   {
    "duration": 9,
    "start_time": "2022-04-20T20:20:56.169Z"
   },
   {
    "duration": 8,
    "start_time": "2022-04-20T20:20:56.180Z"
   },
   {
    "duration": 10,
    "start_time": "2022-04-20T20:20:56.190Z"
   },
   {
    "duration": 8,
    "start_time": "2022-04-20T20:20:56.224Z"
   },
   {
    "duration": 9,
    "start_time": "2022-04-20T20:20:56.233Z"
   },
   {
    "duration": 5,
    "start_time": "2022-04-20T20:20:56.244Z"
   },
   {
    "duration": 9,
    "start_time": "2022-04-20T20:20:56.250Z"
   },
   {
    "duration": 8,
    "start_time": "2022-04-20T20:20:56.261Z"
   },
   {
    "duration": 291,
    "start_time": "2022-04-20T20:20:56.270Z"
   },
   {
    "duration": 222,
    "start_time": "2022-04-20T20:20:56.563Z"
   },
   {
    "duration": 155,
    "start_time": "2022-04-20T20:20:56.787Z"
   },
   {
    "duration": 251,
    "start_time": "2022-04-20T20:20:56.943Z"
   },
   {
    "duration": 160,
    "start_time": "2022-04-20T20:20:57.196Z"
   },
   {
    "duration": 238,
    "start_time": "2022-04-20T20:20:57.357Z"
   },
   {
    "duration": 8,
    "start_time": "2022-04-20T20:20:57.596Z"
   },
   {
    "duration": 110,
    "start_time": "2022-04-20T20:20:57.606Z"
   },
   {
    "duration": 112,
    "start_time": "2022-04-20T20:20:57.723Z"
   },
   {
    "duration": 5,
    "start_time": "2022-04-20T20:20:57.836Z"
   },
   {
    "duration": 7,
    "start_time": "2022-04-20T20:20:57.843Z"
   },
   {
    "duration": 6,
    "start_time": "2022-04-20T20:20:57.851Z"
   },
   {
    "duration": 201,
    "start_time": "2022-04-20T20:20:57.859Z"
   },
   {
    "duration": 6,
    "start_time": "2022-04-20T20:20:58.064Z"
   },
   {
    "duration": 114,
    "start_time": "2022-04-20T20:20:58.071Z"
   },
   {
    "duration": 3,
    "start_time": "2022-04-20T20:20:58.187Z"
   },
   {
    "duration": 5,
    "start_time": "2022-04-20T20:20:58.192Z"
   },
   {
    "duration": 214,
    "start_time": "2022-04-20T20:20:58.198Z"
   },
   {
    "duration": 131,
    "start_time": "2022-04-20T20:20:58.414Z"
   },
   {
    "duration": 22,
    "start_time": "2022-04-20T20:20:58.546Z"
   },
   {
    "duration": 8,
    "start_time": "2022-04-20T20:20:58.570Z"
   },
   {
    "duration": 8,
    "start_time": "2022-04-20T20:20:58.579Z"
   },
   {
    "duration": 10,
    "start_time": "2022-04-20T20:20:58.589Z"
   },
   {
    "duration": 35,
    "start_time": "2022-04-20T20:20:58.600Z"
   },
   {
    "duration": 12,
    "start_time": "2022-04-20T20:20:58.636Z"
   },
   {
    "duration": 3,
    "start_time": "2022-04-20T20:20:58.649Z"
   },
   {
    "duration": 6,
    "start_time": "2022-04-20T20:20:58.653Z"
   },
   {
    "duration": 271,
    "start_time": "2022-04-20T20:20:58.660Z"
   },
   {
    "duration": 160,
    "start_time": "2022-04-20T20:20:58.933Z"
   },
   {
    "duration": 157,
    "start_time": "2022-04-20T20:20:59.095Z"
   },
   {
    "duration": 241,
    "start_time": "2022-04-20T20:20:59.254Z"
   },
   {
    "duration": 159,
    "start_time": "2022-04-20T20:20:59.497Z"
   },
   {
    "duration": 256,
    "start_time": "2022-04-20T20:20:59.658Z"
   },
   {
    "duration": 1069,
    "start_time": "2022-04-20T20:23:57.537Z"
   },
   {
    "duration": 10,
    "start_time": "2022-04-20T20:23:58.608Z"
   },
   {
    "duration": 19,
    "start_time": "2022-04-20T20:23:58.619Z"
   },
   {
    "duration": 9,
    "start_time": "2022-04-20T20:23:58.640Z"
   },
   {
    "duration": 2,
    "start_time": "2022-04-20T20:23:58.650Z"
   },
   {
    "duration": 13,
    "start_time": "2022-04-20T20:23:58.653Z"
   },
   {
    "duration": 10,
    "start_time": "2022-04-20T20:23:58.667Z"
   },
   {
    "duration": 8,
    "start_time": "2022-04-20T20:23:58.679Z"
   },
   {
    "duration": 9,
    "start_time": "2022-04-20T20:23:58.688Z"
   },
   {
    "duration": 9,
    "start_time": "2022-04-20T20:23:58.699Z"
   },
   {
    "duration": 15,
    "start_time": "2022-04-20T20:23:58.709Z"
   },
   {
    "duration": 7,
    "start_time": "2022-04-20T20:23:58.725Z"
   },
   {
    "duration": 9,
    "start_time": "2022-04-20T20:23:58.734Z"
   },
   {
    "duration": 6,
    "start_time": "2022-04-20T20:23:58.745Z"
   },
   {
    "duration": 3,
    "start_time": "2022-04-20T20:23:58.753Z"
   },
   {
    "duration": 9,
    "start_time": "2022-04-20T20:23:58.758Z"
   },
   {
    "duration": 18,
    "start_time": "2022-04-20T20:23:58.768Z"
   },
   {
    "duration": 12,
    "start_time": "2022-04-20T20:23:58.787Z"
   },
   {
    "duration": 30,
    "start_time": "2022-04-20T20:23:58.801Z"
   },
   {
    "duration": 9,
    "start_time": "2022-04-20T20:23:58.833Z"
   },
   {
    "duration": 9,
    "start_time": "2022-04-20T20:23:58.844Z"
   },
   {
    "duration": 7,
    "start_time": "2022-04-20T20:23:58.855Z"
   },
   {
    "duration": 10,
    "start_time": "2022-04-20T20:23:58.864Z"
   },
   {
    "duration": 5,
    "start_time": "2022-04-20T20:23:58.876Z"
   },
   {
    "duration": 46,
    "start_time": "2022-04-20T20:23:58.883Z"
   },
   {
    "duration": 8,
    "start_time": "2022-04-20T20:23:58.931Z"
   },
   {
    "duration": 272,
    "start_time": "2022-04-20T20:23:58.941Z"
   },
   {
    "duration": 219,
    "start_time": "2022-04-20T20:23:59.223Z"
   },
   {
    "duration": 157,
    "start_time": "2022-04-20T20:23:59.444Z"
   },
   {
    "duration": 255,
    "start_time": "2022-04-20T20:23:59.603Z"
   },
   {
    "duration": 162,
    "start_time": "2022-04-20T20:23:59.860Z"
   },
   {
    "duration": 273,
    "start_time": "2022-04-20T20:24:00.024Z"
   },
   {
    "duration": 11,
    "start_time": "2022-04-20T20:24:00.299Z"
   },
   {
    "duration": 116,
    "start_time": "2022-04-20T20:24:00.325Z"
   },
   {
    "duration": 128,
    "start_time": "2022-04-20T20:24:00.443Z"
   },
   {
    "duration": 4,
    "start_time": "2022-04-20T20:24:00.573Z"
   },
   {
    "duration": 26,
    "start_time": "2022-04-20T20:24:00.578Z"
   },
   {
    "duration": 7,
    "start_time": "2022-04-20T20:24:00.605Z"
   },
   {
    "duration": 177,
    "start_time": "2022-04-20T20:24:00.615Z"
   },
   {
    "duration": 7,
    "start_time": "2022-04-20T20:24:00.794Z"
   },
   {
    "duration": 124,
    "start_time": "2022-04-20T20:24:00.802Z"
   },
   {
    "duration": 4,
    "start_time": "2022-04-20T20:24:00.928Z"
   },
   {
    "duration": 11,
    "start_time": "2022-04-20T20:24:00.934Z"
   },
   {
    "duration": 227,
    "start_time": "2022-04-20T20:24:00.947Z"
   },
   {
    "duration": 128,
    "start_time": "2022-04-20T20:24:01.175Z"
   },
   {
    "duration": 37,
    "start_time": "2022-04-20T20:24:01.304Z"
   },
   {
    "duration": 10,
    "start_time": "2022-04-20T20:24:01.342Z"
   },
   {
    "duration": 45,
    "start_time": "2022-04-20T20:24:01.353Z"
   },
   {
    "duration": 12,
    "start_time": "2022-04-20T20:24:01.399Z"
   },
   {
    "duration": 23,
    "start_time": "2022-04-20T20:24:01.413Z"
   },
   {
    "duration": 14,
    "start_time": "2022-04-20T20:24:01.437Z"
   },
   {
    "duration": 12,
    "start_time": "2022-04-20T20:24:01.452Z"
   },
   {
    "duration": 20,
    "start_time": "2022-04-20T20:24:01.466Z"
   },
   {
    "duration": 259,
    "start_time": "2022-04-20T20:24:01.487Z"
   },
   {
    "duration": 152,
    "start_time": "2022-04-20T20:24:01.747Z"
   },
   {
    "duration": 156,
    "start_time": "2022-04-20T20:24:01.901Z"
   },
   {
    "duration": 226,
    "start_time": "2022-04-20T20:24:02.059Z"
   },
   {
    "duration": 159,
    "start_time": "2022-04-20T20:24:02.287Z"
   },
   {
    "duration": 249,
    "start_time": "2022-04-20T20:24:02.448Z"
   },
   {
    "duration": 193,
    "start_time": "2022-04-21T17:06:53.935Z"
   },
   {
    "duration": 145,
    "start_time": "2022-04-21T17:15:04.769Z"
   },
   {
    "duration": 1404,
    "start_time": "2022-04-21T17:15:36.105Z"
   },
   {
    "duration": 11,
    "start_time": "2022-04-21T17:15:37.511Z"
   },
   {
    "duration": 23,
    "start_time": "2022-04-21T17:15:37.527Z"
   },
   {
    "duration": 9,
    "start_time": "2022-04-21T17:15:37.552Z"
   },
   {
    "duration": 3,
    "start_time": "2022-04-21T17:15:37.563Z"
   },
   {
    "duration": 15,
    "start_time": "2022-04-21T17:15:37.569Z"
   },
   {
    "duration": 12,
    "start_time": "2022-04-21T17:15:37.592Z"
   },
   {
    "duration": 9,
    "start_time": "2022-04-21T17:15:37.607Z"
   },
   {
    "duration": 17,
    "start_time": "2022-04-21T17:15:37.619Z"
   },
   {
    "duration": 18,
    "start_time": "2022-04-21T17:15:37.638Z"
   },
   {
    "duration": 8,
    "start_time": "2022-04-21T17:15:37.658Z"
   },
   {
    "duration": 30,
    "start_time": "2022-04-21T17:15:37.668Z"
   },
   {
    "duration": 14,
    "start_time": "2022-04-21T17:15:37.700Z"
   },
   {
    "duration": 9,
    "start_time": "2022-04-21T17:15:37.716Z"
   },
   {
    "duration": 10,
    "start_time": "2022-04-21T17:15:37.727Z"
   },
   {
    "duration": 7,
    "start_time": "2022-04-21T17:15:37.739Z"
   },
   {
    "duration": 15,
    "start_time": "2022-04-21T17:15:37.748Z"
   },
   {
    "duration": 28,
    "start_time": "2022-04-21T17:15:37.765Z"
   },
   {
    "duration": 13,
    "start_time": "2022-04-21T17:15:37.796Z"
   },
   {
    "duration": 12,
    "start_time": "2022-04-21T17:15:37.811Z"
   },
   {
    "duration": 12,
    "start_time": "2022-04-21T17:15:37.824Z"
   },
   {
    "duration": 17,
    "start_time": "2022-04-21T17:15:37.837Z"
   },
   {
    "duration": 35,
    "start_time": "2022-04-21T17:15:37.855Z"
   },
   {
    "duration": 9,
    "start_time": "2022-04-21T17:15:37.892Z"
   },
   {
    "duration": 18,
    "start_time": "2022-04-21T17:15:37.903Z"
   },
   {
    "duration": 25,
    "start_time": "2022-04-21T17:15:37.923Z"
   },
   {
    "duration": 289,
    "start_time": "2022-04-21T17:15:37.953Z"
   },
   {
    "duration": 258,
    "start_time": "2022-04-21T17:15:38.244Z"
   },
   {
    "duration": 181,
    "start_time": "2022-04-21T17:15:38.504Z"
   },
   {
    "duration": 314,
    "start_time": "2022-04-21T17:15:38.687Z"
   },
   {
    "duration": 177,
    "start_time": "2022-04-21T17:15:39.003Z"
   },
   {
    "duration": 319,
    "start_time": "2022-04-21T17:15:39.182Z"
   },
   {
    "duration": 10,
    "start_time": "2022-04-21T17:15:39.502Z"
   },
   {
    "duration": 129,
    "start_time": "2022-04-21T17:15:39.513Z"
   },
   {
    "duration": 137,
    "start_time": "2022-04-21T17:15:39.644Z"
   },
   {
    "duration": 10,
    "start_time": "2022-04-21T17:15:39.783Z"
   },
   {
    "duration": 8,
    "start_time": "2022-04-21T17:15:39.795Z"
   },
   {
    "duration": 5,
    "start_time": "2022-04-21T17:15:39.805Z"
   },
   {
    "duration": 193,
    "start_time": "2022-04-21T17:15:39.812Z"
   },
   {
    "duration": 7,
    "start_time": "2022-04-21T17:15:40.006Z"
   },
   {
    "duration": 127,
    "start_time": "2022-04-21T17:15:40.015Z"
   },
   {
    "duration": 4,
    "start_time": "2022-04-21T17:15:40.144Z"
   },
   {
    "duration": 11,
    "start_time": "2022-04-21T17:15:40.149Z"
   },
   {
    "duration": 258,
    "start_time": "2022-04-21T17:15:40.162Z"
   },
   {
    "duration": 132,
    "start_time": "2022-04-21T17:15:40.422Z"
   },
   {
    "duration": 29,
    "start_time": "2022-04-21T17:15:40.555Z"
   },
   {
    "duration": 14,
    "start_time": "2022-04-21T17:15:40.586Z"
   },
   {
    "duration": 9,
    "start_time": "2022-04-21T17:15:40.602Z"
   },
   {
    "duration": 11,
    "start_time": "2022-04-21T17:15:40.613Z"
   },
   {
    "duration": 31,
    "start_time": "2022-04-21T17:15:40.625Z"
   },
   {
    "duration": 35,
    "start_time": "2022-04-21T17:15:40.658Z"
   },
   {
    "duration": 3,
    "start_time": "2022-04-21T17:15:40.695Z"
   },
   {
    "duration": 7,
    "start_time": "2022-04-21T17:15:40.700Z"
   },
   {
    "duration": 295,
    "start_time": "2022-04-21T17:15:40.709Z"
   },
   {
    "duration": 175,
    "start_time": "2022-04-21T17:15:41.006Z"
   },
   {
    "duration": 171,
    "start_time": "2022-04-21T17:15:41.183Z"
   },
   {
    "duration": 267,
    "start_time": "2022-04-21T17:15:41.356Z"
   },
   {
    "duration": 172,
    "start_time": "2022-04-21T17:15:41.625Z"
   },
   {
    "duration": 279,
    "start_time": "2022-04-21T17:15:41.799Z"
   },
   {
    "duration": 133,
    "start_time": "2022-04-21T17:17:44.039Z"
   },
   {
    "duration": 167,
    "start_time": "2022-04-21T17:22:52.687Z"
   },
   {
    "duration": 1462,
    "start_time": "2022-04-21T19:24:54.293Z"
   },
   {
    "duration": 16,
    "start_time": "2022-04-21T19:24:55.757Z"
   },
   {
    "duration": 287,
    "start_time": "2022-04-21T19:24:55.775Z"
   },
   {
    "duration": 227,
    "start_time": "2022-04-21T19:24:56.064Z"
   },
   {
    "duration": 3,
    "start_time": "2022-04-21T19:24:56.292Z"
   },
   {
    "duration": 21,
    "start_time": "2022-04-21T19:24:56.298Z"
   },
   {
    "duration": 21,
    "start_time": "2022-04-21T19:24:56.321Z"
   },
   {
    "duration": 14,
    "start_time": "2022-04-21T19:24:56.343Z"
   },
   {
    "duration": 17,
    "start_time": "2022-04-21T19:24:56.359Z"
   },
   {
    "duration": 16,
    "start_time": "2022-04-21T19:24:56.378Z"
   },
   {
    "duration": 14,
    "start_time": "2022-04-21T19:24:56.396Z"
   },
   {
    "duration": 9,
    "start_time": "2022-04-21T19:24:56.412Z"
   },
   {
    "duration": 21,
    "start_time": "2022-04-21T19:24:56.422Z"
   },
   {
    "duration": 10,
    "start_time": "2022-04-21T19:24:56.446Z"
   },
   {
    "duration": 8,
    "start_time": "2022-04-21T19:24:56.459Z"
   },
   {
    "duration": 3,
    "start_time": "2022-04-21T19:24:56.525Z"
   },
   {
    "duration": 15,
    "start_time": "2022-04-21T19:24:56.667Z"
   },
   {
    "duration": 12,
    "start_time": "2022-04-21T19:24:56.821Z"
   },
   {
    "duration": 12,
    "start_time": "2022-04-21T19:24:56.964Z"
   },
   {
    "duration": 8,
    "start_time": "2022-04-21T19:24:57.562Z"
   },
   {
    "duration": 11,
    "start_time": "2022-04-21T19:24:57.723Z"
   },
   {
    "duration": 13,
    "start_time": "2022-04-21T19:24:57.922Z"
   },
   {
    "duration": 15,
    "start_time": "2022-04-21T19:24:59.138Z"
   },
   {
    "duration": 8,
    "start_time": "2022-04-21T19:24:59.393Z"
   },
   {
    "duration": 13,
    "start_time": "2022-04-21T19:25:00.145Z"
   },
   {
    "duration": 8,
    "start_time": "2022-04-21T19:25:00.390Z"
   },
   {
    "duration": 299,
    "start_time": "2022-04-21T19:25:01.557Z"
   },
   {
    "duration": 281,
    "start_time": "2022-04-21T19:25:01.902Z"
   },
   {
    "duration": 209,
    "start_time": "2022-04-21T19:28:28.598Z"
   },
   {
    "duration": 267,
    "start_time": "2022-04-21T19:29:33.699Z"
   },
   {
    "duration": 166,
    "start_time": "2022-04-21T19:29:47.667Z"
   },
   {
    "duration": 197,
    "start_time": "2022-04-21T19:29:55.252Z"
   },
   {
    "duration": 194,
    "start_time": "2022-04-21T19:30:40.449Z"
   },
   {
    "duration": 209,
    "start_time": "2022-04-21T19:30:50.715Z"
   },
   {
    "duration": 386,
    "start_time": "2022-04-21T19:31:22.428Z"
   },
   {
    "duration": 346,
    "start_time": "2022-04-21T19:31:34.481Z"
   },
   {
    "duration": 210,
    "start_time": "2022-04-21T19:31:38.351Z"
   },
   {
    "duration": 345,
    "start_time": "2022-04-21T19:31:52.899Z"
   },
   {
    "duration": 6,
    "start_time": "2022-04-21T19:32:10.154Z"
   },
   {
    "duration": 191,
    "start_time": "2022-04-21T19:32:10.785Z"
   },
   {
    "duration": 7,
    "start_time": "2022-04-21T19:32:19.397Z"
   },
   {
    "duration": 199,
    "start_time": "2022-04-21T19:32:19.919Z"
   },
   {
    "duration": 290,
    "start_time": "2022-04-21T19:32:53.027Z"
   },
   {
    "duration": 471,
    "start_time": "2022-04-21T19:33:05.875Z"
   },
   {
    "duration": 203,
    "start_time": "2022-04-21T19:34:23.617Z"
   },
   {
    "duration": 286,
    "start_time": "2022-04-21T19:35:47.400Z"
   },
   {
    "duration": 178,
    "start_time": "2022-04-21T19:36:13.185Z"
   },
   {
    "duration": 191,
    "start_time": "2022-04-21T19:36:17.687Z"
   },
   {
    "duration": 185,
    "start_time": "2022-04-21T19:36:28.704Z"
   },
   {
    "duration": 188,
    "start_time": "2022-04-21T19:36:46.434Z"
   },
   {
    "duration": 169,
    "start_time": "2022-04-21T19:36:50.771Z"
   },
   {
    "duration": 182,
    "start_time": "2022-04-21T19:36:55.431Z"
   },
   {
    "duration": 362,
    "start_time": "2022-04-21T19:37:10.239Z"
   },
   {
    "duration": 501,
    "start_time": "2022-04-21T19:37:40.632Z"
   },
   {
    "duration": 343,
    "start_time": "2022-04-21T19:37:55.216Z"
   },
   {
    "duration": 181,
    "start_time": "2022-04-21T19:38:02.416Z"
   },
   {
    "duration": 179,
    "start_time": "2022-04-21T19:38:07.815Z"
   },
   {
    "duration": 351,
    "start_time": "2022-04-21T19:38:12.468Z"
   },
   {
    "duration": 191,
    "start_time": "2022-04-21T19:38:24.624Z"
   },
   {
    "duration": 188,
    "start_time": "2022-04-21T19:38:52.239Z"
   },
   {
    "duration": 199,
    "start_time": "2022-04-21T19:38:55.564Z"
   },
   {
    "duration": 168,
    "start_time": "2022-04-21T19:39:11.882Z"
   },
   {
    "duration": 177,
    "start_time": "2022-04-21T19:39:21.435Z"
   },
   {
    "duration": 7,
    "start_time": "2022-04-21T20:02:19.158Z"
   },
   {
    "duration": 167,
    "start_time": "2022-04-21T20:02:20.100Z"
   },
   {
    "duration": 186,
    "start_time": "2022-04-21T20:02:26.302Z"
   },
   {
    "duration": 6,
    "start_time": "2022-04-21T20:02:53.438Z"
   },
   {
    "duration": 163,
    "start_time": "2022-04-21T20:02:54.064Z"
   },
   {
    "duration": 6,
    "start_time": "2022-04-21T20:03:00.976Z"
   },
   {
    "duration": 262,
    "start_time": "2022-04-21T20:03:01.424Z"
   },
   {
    "duration": 164,
    "start_time": "2022-04-21T20:03:20.643Z"
   },
   {
    "duration": 188,
    "start_time": "2022-04-21T20:03:28.048Z"
   },
   {
    "duration": 7,
    "start_time": "2022-04-21T20:03:31.450Z"
   },
   {
    "duration": 186,
    "start_time": "2022-04-21T20:03:31.945Z"
   },
   {
    "duration": 9,
    "start_time": "2022-04-21T20:04:54.492Z"
   },
   {
    "duration": 4,
    "start_time": "2022-04-21T20:05:09.269Z"
   },
   {
    "duration": 195,
    "start_time": "2022-04-21T20:05:10.021Z"
   },
   {
    "duration": 2,
    "start_time": "2022-04-21T20:05:16.151Z"
   },
   {
    "duration": 204,
    "start_time": "2022-04-21T20:05:16.584Z"
   },
   {
    "duration": 214,
    "start_time": "2022-04-21T20:06:00.821Z"
   },
   {
    "duration": 207,
    "start_time": "2022-04-21T20:07:00.887Z"
   },
   {
    "duration": 211,
    "start_time": "2022-04-21T20:07:05.981Z"
   },
   {
    "duration": 211,
    "start_time": "2022-04-21T20:07:35.793Z"
   },
   {
    "duration": 386,
    "start_time": "2022-04-21T20:08:52.200Z"
   },
   {
    "duration": 212,
    "start_time": "2022-04-21T20:10:25.377Z"
   },
   {
    "duration": 423,
    "start_time": "2022-04-21T20:10:55.740Z"
   },
   {
    "duration": 312,
    "start_time": "2022-04-21T20:11:18.312Z"
   },
   {
    "duration": 269,
    "start_time": "2022-04-21T20:11:30.191Z"
   },
   {
    "duration": 297,
    "start_time": "2022-04-21T20:11:43.896Z"
   },
   {
    "duration": 217,
    "start_time": "2022-04-21T20:11:46.031Z"
   },
   {
    "duration": 305,
    "start_time": "2022-04-21T20:11:48.358Z"
   },
   {
    "duration": 9,
    "start_time": "2022-04-21T20:12:31.817Z"
   },
   {
    "duration": 9,
    "start_time": "2022-04-21T20:12:39.585Z"
   },
   {
    "duration": 293,
    "start_time": "2022-04-21T20:12:43.074Z"
   },
   {
    "duration": 11,
    "start_time": "2022-04-21T20:12:44.437Z"
   },
   {
    "duration": 138,
    "start_time": "2022-04-21T20:12:45.244Z"
   },
   {
    "duration": 160,
    "start_time": "2022-04-21T20:12:50.381Z"
   },
   {
    "duration": 153,
    "start_time": "2022-04-21T20:12:59.079Z"
   },
   {
    "duration": 159,
    "start_time": "2022-04-21T20:13:07.878Z"
   },
   {
    "duration": 265,
    "start_time": "2022-04-21T20:13:44.638Z"
   },
   {
    "duration": 163,
    "start_time": "2022-04-21T20:14:00.397Z"
   },
   {
    "duration": 155,
    "start_time": "2022-04-21T20:14:17.025Z"
   },
   {
    "duration": 5,
    "start_time": "2022-04-21T20:14:17.680Z"
   },
   {
    "duration": 6,
    "start_time": "2022-04-21T20:14:18.098Z"
   },
   {
    "duration": 4,
    "start_time": "2022-04-21T20:14:19.138Z"
   },
   {
    "duration": 135,
    "start_time": "2022-04-21T20:14:19.683Z"
   },
   {
    "duration": 150,
    "start_time": "2022-04-21T20:14:36.820Z"
   },
   {
    "duration": 139,
    "start_time": "2022-04-21T20:15:23.979Z"
   },
   {
    "duration": 147,
    "start_time": "2022-04-21T20:15:40.003Z"
   },
   {
    "duration": 11,
    "start_time": "2022-04-21T20:15:51.121Z"
   },
   {
    "duration": 145,
    "start_time": "2022-04-21T20:15:53.889Z"
   },
   {
    "duration": 8,
    "start_time": "2022-04-21T20:15:54.185Z"
   },
   {
    "duration": 147,
    "start_time": "2022-04-21T20:15:54.555Z"
   },
   {
    "duration": 5,
    "start_time": "2022-04-21T20:16:06.022Z"
   },
   {
    "duration": 5,
    "start_time": "2022-04-21T20:16:06.315Z"
   },
   {
    "duration": 4,
    "start_time": "2022-04-21T20:16:15.972Z"
   },
   {
    "duration": 4,
    "start_time": "2022-04-21T20:16:16.161Z"
   },
   {
    "duration": 231,
    "start_time": "2022-04-21T20:16:18.169Z"
   },
   {
    "duration": 124,
    "start_time": "2022-04-21T20:16:19.154Z"
   },
   {
    "duration": 29,
    "start_time": "2022-04-21T20:16:19.913Z"
   },
   {
    "duration": 11,
    "start_time": "2022-04-21T20:16:21.066Z"
   },
   {
    "duration": 11,
    "start_time": "2022-04-21T20:16:21.944Z"
   },
   {
    "duration": 9,
    "start_time": "2022-04-21T20:16:23.125Z"
   },
   {
    "duration": 24,
    "start_time": "2022-04-21T20:16:23.519Z"
   },
   {
    "duration": 15,
    "start_time": "2022-04-21T20:16:24.290Z"
   },
   {
    "duration": 3,
    "start_time": "2022-04-21T20:16:25.273Z"
   },
   {
    "duration": 5,
    "start_time": "2022-04-21T20:16:25.440Z"
   },
   {
    "duration": 286,
    "start_time": "2022-04-21T20:16:25.535Z"
   },
   {
    "duration": 193,
    "start_time": "2022-04-21T20:16:25.904Z"
   },
   {
    "duration": 192,
    "start_time": "2022-04-21T20:16:26.221Z"
   },
   {
    "duration": 262,
    "start_time": "2022-04-21T20:16:26.991Z"
   },
   {
    "duration": 185,
    "start_time": "2022-04-21T20:16:27.685Z"
   },
   {
    "duration": 394,
    "start_time": "2022-04-21T20:16:28.100Z"
   },
   {
    "duration": 234,
    "start_time": "2022-04-21T20:16:49.534Z"
   },
   {
    "duration": 209,
    "start_time": "2022-04-21T20:17:38.380Z"
   },
   {
    "duration": 317,
    "start_time": "2022-04-21T20:18:05.201Z"
   },
   {
    "duration": 1243,
    "start_time": "2022-04-21T20:18:37.435Z"
   },
   {
    "duration": 25,
    "start_time": "2022-04-21T20:18:38.680Z"
   },
   {
    "duration": 54,
    "start_time": "2022-04-21T20:18:38.707Z"
   },
   {
    "duration": 15,
    "start_time": "2022-04-21T20:18:38.763Z"
   },
   {
    "duration": 3,
    "start_time": "2022-04-21T20:18:38.779Z"
   },
   {
    "duration": 15,
    "start_time": "2022-04-21T20:18:38.783Z"
   },
   {
    "duration": 11,
    "start_time": "2022-04-21T20:18:38.800Z"
   },
   {
    "duration": 8,
    "start_time": "2022-04-21T20:18:38.812Z"
   },
   {
    "duration": 10,
    "start_time": "2022-04-21T20:18:38.822Z"
   },
   {
    "duration": 15,
    "start_time": "2022-04-21T20:18:38.835Z"
   },
   {
    "duration": 11,
    "start_time": "2022-04-21T20:18:38.852Z"
   },
   {
    "duration": 8,
    "start_time": "2022-04-21T20:18:38.865Z"
   },
   {
    "duration": 16,
    "start_time": "2022-04-21T20:18:38.874Z"
   },
   {
    "duration": 7,
    "start_time": "2022-04-21T20:18:38.892Z"
   },
   {
    "duration": 33,
    "start_time": "2022-04-21T20:18:38.901Z"
   },
   {
    "duration": 5,
    "start_time": "2022-04-21T20:18:38.936Z"
   },
   {
    "duration": 18,
    "start_time": "2022-04-21T20:18:38.942Z"
   },
   {
    "duration": 15,
    "start_time": "2022-04-21T20:18:38.961Z"
   },
   {
    "duration": 12,
    "start_time": "2022-04-21T20:18:38.977Z"
   },
   {
    "duration": 13,
    "start_time": "2022-04-21T20:18:38.991Z"
   },
   {
    "duration": 37,
    "start_time": "2022-04-21T20:18:39.005Z"
   },
   {
    "duration": 9,
    "start_time": "2022-04-21T20:18:39.044Z"
   },
   {
    "duration": 12,
    "start_time": "2022-04-21T20:18:39.055Z"
   },
   {
    "duration": 7,
    "start_time": "2022-04-21T20:18:39.069Z"
   },
   {
    "duration": 13,
    "start_time": "2022-04-21T20:18:39.077Z"
   },
   {
    "duration": 43,
    "start_time": "2022-04-21T20:18:39.092Z"
   },
   {
    "duration": 296,
    "start_time": "2022-04-21T20:18:39.137Z"
   },
   {
    "duration": 3,
    "start_time": "2022-04-21T20:18:39.437Z"
   },
   {
    "duration": 291,
    "start_time": "2022-04-21T20:18:39.442Z"
   },
   {
    "duration": 226,
    "start_time": "2022-04-21T20:18:39.735Z"
   },
   {
    "duration": 287,
    "start_time": "2022-04-21T20:18:39.963Z"
   },
   {
    "duration": 224,
    "start_time": "2022-04-21T20:18:40.251Z"
   },
   {
    "duration": 295,
    "start_time": "2022-04-21T20:18:40.477Z"
   },
   {
    "duration": 10,
    "start_time": "2022-04-21T20:18:40.774Z"
   },
   {
    "duration": 187,
    "start_time": "2022-04-21T20:18:40.785Z"
   },
   {
    "duration": 176,
    "start_time": "2022-04-21T20:18:40.974Z"
   },
   {
    "duration": 5,
    "start_time": "2022-04-21T20:18:41.151Z"
   },
   {
    "duration": 10,
    "start_time": "2022-04-21T20:18:41.157Z"
   },
   {
    "duration": 6,
    "start_time": "2022-04-21T20:18:41.168Z"
   },
   {
    "duration": 243,
    "start_time": "2022-04-21T20:18:41.176Z"
   },
   {
    "duration": 13,
    "start_time": "2022-04-21T20:18:41.420Z"
   },
   {
    "duration": 152,
    "start_time": "2022-04-21T20:18:41.435Z"
   },
   {
    "duration": 4,
    "start_time": "2022-04-21T20:18:41.589Z"
   },
   {
    "duration": 7,
    "start_time": "2022-04-21T20:18:41.595Z"
   },
   {
    "duration": 252,
    "start_time": "2022-04-21T20:18:41.604Z"
   },
   {
    "duration": 143,
    "start_time": "2022-04-21T20:18:41.858Z"
   },
   {
    "duration": 42,
    "start_time": "2022-04-21T20:18:42.002Z"
   },
   {
    "duration": 10,
    "start_time": "2022-04-21T20:18:42.045Z"
   },
   {
    "duration": 9,
    "start_time": "2022-04-21T20:18:42.057Z"
   },
   {
    "duration": 11,
    "start_time": "2022-04-21T20:18:42.067Z"
   },
   {
    "duration": 57,
    "start_time": "2022-04-21T20:18:42.080Z"
   },
   {
    "duration": 13,
    "start_time": "2022-04-21T20:18:42.139Z"
   },
   {
    "duration": 3,
    "start_time": "2022-04-21T20:18:42.154Z"
   },
   {
    "duration": 11,
    "start_time": "2022-04-21T20:18:42.158Z"
   },
   {
    "duration": 298,
    "start_time": "2022-04-21T20:18:42.171Z"
   },
   {
    "duration": 211,
    "start_time": "2022-04-21T20:18:42.471Z"
   },
   {
    "duration": 211,
    "start_time": "2022-04-21T20:18:42.684Z"
   },
   {
    "duration": 331,
    "start_time": "2022-04-21T20:18:42.897Z"
   },
   {
    "duration": 193,
    "start_time": "2022-04-21T20:18:43.234Z"
   },
   {
    "duration": 311,
    "start_time": "2022-04-21T20:18:43.432Z"
   },
   {
    "duration": 206,
    "start_time": "2022-04-21T20:19:18.234Z"
   },
   {
    "duration": 307,
    "start_time": "2022-04-21T20:19:35.052Z"
   },
   {
    "duration": 307,
    "start_time": "2022-04-21T20:19:45.760Z"
   },
   {
    "duration": 1372,
    "start_time": "2022-04-21T20:20:06.516Z"
   },
   {
    "duration": 15,
    "start_time": "2022-04-21T20:20:07.890Z"
   },
   {
    "duration": 42,
    "start_time": "2022-04-21T20:20:07.907Z"
   },
   {
    "duration": 15,
    "start_time": "2022-04-21T20:20:07.951Z"
   },
   {
    "duration": 3,
    "start_time": "2022-04-21T20:20:07.968Z"
   },
   {
    "duration": 17,
    "start_time": "2022-04-21T20:20:07.972Z"
   },
   {
    "duration": 12,
    "start_time": "2022-04-21T20:20:07.990Z"
   },
   {
    "duration": 9,
    "start_time": "2022-04-21T20:20:08.004Z"
   },
   {
    "duration": 20,
    "start_time": "2022-04-21T20:20:08.015Z"
   },
   {
    "duration": 13,
    "start_time": "2022-04-21T20:20:08.039Z"
   },
   {
    "duration": 9,
    "start_time": "2022-04-21T20:20:08.054Z"
   },
   {
    "duration": 13,
    "start_time": "2022-04-21T20:20:08.065Z"
   },
   {
    "duration": 13,
    "start_time": "2022-04-21T20:20:08.080Z"
   },
   {
    "duration": 43,
    "start_time": "2022-04-21T20:20:08.095Z"
   },
   {
    "duration": 6,
    "start_time": "2022-04-21T20:20:08.140Z"
   },
   {
    "duration": 6,
    "start_time": "2022-04-21T20:20:08.148Z"
   },
   {
    "duration": 17,
    "start_time": "2022-04-21T20:20:08.156Z"
   },
   {
    "duration": 15,
    "start_time": "2022-04-21T20:20:08.175Z"
   },
   {
    "duration": 44,
    "start_time": "2022-04-21T20:20:08.191Z"
   },
   {
    "duration": 14,
    "start_time": "2022-04-21T20:20:08.236Z"
   },
   {
    "duration": 18,
    "start_time": "2022-04-21T20:20:08.251Z"
   },
   {
    "duration": 9,
    "start_time": "2022-04-21T20:20:08.271Z"
   },
   {
    "duration": 13,
    "start_time": "2022-04-21T20:20:08.282Z"
   },
   {
    "duration": 10,
    "start_time": "2022-04-21T20:20:08.296Z"
   },
   {
    "duration": 10,
    "start_time": "2022-04-21T20:20:08.333Z"
   },
   {
    "duration": 11,
    "start_time": "2022-04-21T20:20:08.344Z"
   },
   {
    "duration": 320,
    "start_time": "2022-04-21T20:20:08.357Z"
   },
   {
    "duration": 3,
    "start_time": "2022-04-21T20:20:08.682Z"
   },
   {
    "duration": 323,
    "start_time": "2022-04-21T20:20:08.687Z"
   },
   {
    "duration": 242,
    "start_time": "2022-04-21T20:20:09.012Z"
   },
   {
    "duration": 308,
    "start_time": "2022-04-21T20:20:09.256Z"
   },
   {
    "duration": 242,
    "start_time": "2022-04-21T20:20:09.566Z"
   },
   {
    "duration": 356,
    "start_time": "2022-04-21T20:20:09.810Z"
   },
   {
    "duration": 10,
    "start_time": "2022-04-21T20:20:10.167Z"
   },
   {
    "duration": 182,
    "start_time": "2022-04-21T20:20:10.179Z"
   },
   {
    "duration": 175,
    "start_time": "2022-04-21T20:20:10.363Z"
   },
   {
    "duration": 5,
    "start_time": "2022-04-21T20:20:10.540Z"
   },
   {
    "duration": 8,
    "start_time": "2022-04-21T20:20:10.546Z"
   },
   {
    "duration": 6,
    "start_time": "2022-04-21T20:20:10.556Z"
   },
   {
    "duration": 253,
    "start_time": "2022-04-21T20:20:10.563Z"
   },
   {
    "duration": 15,
    "start_time": "2022-04-21T20:20:10.818Z"
   },
   {
    "duration": 162,
    "start_time": "2022-04-21T20:20:10.835Z"
   },
   {
    "duration": 4,
    "start_time": "2022-04-21T20:20:10.999Z"
   },
   {
    "duration": 8,
    "start_time": "2022-04-21T20:20:11.005Z"
   },
   {
    "duration": 240,
    "start_time": "2022-04-21T20:20:11.033Z"
   },
   {
    "duration": 142,
    "start_time": "2022-04-21T20:20:11.274Z"
   },
   {
    "duration": 29,
    "start_time": "2022-04-21T20:20:11.433Z"
   },
   {
    "duration": 10,
    "start_time": "2022-04-21T20:20:11.464Z"
   },
   {
    "duration": 9,
    "start_time": "2022-04-21T20:20:11.476Z"
   },
   {
    "duration": 16,
    "start_time": "2022-04-21T20:20:11.487Z"
   },
   {
    "duration": 24,
    "start_time": "2022-04-21T20:20:11.533Z"
   },
   {
    "duration": 14,
    "start_time": "2022-04-21T20:20:11.559Z"
   },
   {
    "duration": 5,
    "start_time": "2022-04-21T20:20:11.574Z"
   },
   {
    "duration": 11,
    "start_time": "2022-04-21T20:20:11.580Z"
   },
   {
    "duration": 311,
    "start_time": "2022-04-21T20:20:11.593Z"
   },
   {
    "duration": 206,
    "start_time": "2022-04-21T20:20:11.906Z"
   },
   {
    "duration": 209,
    "start_time": "2022-04-21T20:20:12.114Z"
   },
   {
    "duration": 323,
    "start_time": "2022-04-21T20:20:12.324Z"
   },
   {
    "duration": 222,
    "start_time": "2022-04-21T20:20:12.649Z"
   },
   {
    "duration": 314,
    "start_time": "2022-04-21T20:20:12.872Z"
   },
   {
    "duration": 3,
    "start_time": "2022-04-21T20:23:30.566Z"
   },
   {
    "duration": 208,
    "start_time": "2022-04-21T20:23:31.608Z"
   },
   {
    "duration": 2,
    "start_time": "2022-04-21T20:23:35.662Z"
   },
   {
    "duration": 201,
    "start_time": "2022-04-21T20:23:36.755Z"
   },
   {
    "duration": 1288,
    "start_time": "2022-04-21T20:23:43.404Z"
   },
   {
    "duration": 15,
    "start_time": "2022-04-21T20:23:44.694Z"
   },
   {
    "duration": 35,
    "start_time": "2022-04-21T20:23:44.711Z"
   },
   {
    "duration": 15,
    "start_time": "2022-04-21T20:23:44.748Z"
   },
   {
    "duration": 3,
    "start_time": "2022-04-21T20:23:44.764Z"
   },
   {
    "duration": 16,
    "start_time": "2022-04-21T20:23:44.769Z"
   },
   {
    "duration": 12,
    "start_time": "2022-04-21T20:23:44.787Z"
   },
   {
    "duration": 9,
    "start_time": "2022-04-21T20:23:44.801Z"
   },
   {
    "duration": 25,
    "start_time": "2022-04-21T20:23:44.811Z"
   },
   {
    "duration": 13,
    "start_time": "2022-04-21T20:23:44.839Z"
   },
   {
    "duration": 12,
    "start_time": "2022-04-21T20:23:44.854Z"
   },
   {
    "duration": 8,
    "start_time": "2022-04-21T20:23:44.868Z"
   },
   {
    "duration": 12,
    "start_time": "2022-04-21T20:23:44.878Z"
   },
   {
    "duration": 42,
    "start_time": "2022-04-21T20:23:44.892Z"
   },
   {
    "duration": 2,
    "start_time": "2022-04-21T20:23:44.936Z"
   },
   {
    "duration": 6,
    "start_time": "2022-04-21T20:23:44.940Z"
   },
   {
    "duration": 17,
    "start_time": "2022-04-21T20:23:44.947Z"
   },
   {
    "duration": 13,
    "start_time": "2022-04-21T20:23:44.966Z"
   },
   {
    "duration": 53,
    "start_time": "2022-04-21T20:23:44.981Z"
   },
   {
    "duration": 9,
    "start_time": "2022-04-21T20:23:45.036Z"
   },
   {
    "duration": 12,
    "start_time": "2022-04-21T20:23:45.047Z"
   },
   {
    "duration": 9,
    "start_time": "2022-04-21T20:23:45.061Z"
   },
   {
    "duration": 13,
    "start_time": "2022-04-21T20:23:45.072Z"
   },
   {
    "duration": 48,
    "start_time": "2022-04-21T20:23:45.087Z"
   },
   {
    "duration": 8,
    "start_time": "2022-04-21T20:23:45.138Z"
   },
   {
    "duration": 12,
    "start_time": "2022-04-21T20:23:45.148Z"
   },
   {
    "duration": 303,
    "start_time": "2022-04-21T20:23:45.161Z"
   },
   {
    "duration": 3,
    "start_time": "2022-04-21T20:23:45.468Z"
   },
   {
    "duration": 303,
    "start_time": "2022-04-21T20:23:45.472Z"
   },
   {
    "duration": 240,
    "start_time": "2022-04-21T20:23:45.776Z"
   },
   {
    "duration": 329,
    "start_time": "2022-04-21T20:23:46.018Z"
   },
   {
    "duration": 237,
    "start_time": "2022-04-21T20:23:46.349Z"
   },
   {
    "duration": 367,
    "start_time": "2022-04-21T20:23:46.588Z"
   },
   {
    "duration": 10,
    "start_time": "2022-04-21T20:23:46.957Z"
   },
   {
    "duration": 187,
    "start_time": "2022-04-21T20:23:46.969Z"
   },
   {
    "duration": 181,
    "start_time": "2022-04-21T20:23:47.159Z"
   },
   {
    "duration": 5,
    "start_time": "2022-04-21T20:23:47.342Z"
   },
   {
    "duration": 9,
    "start_time": "2022-04-21T20:23:47.350Z"
   },
   {
    "duration": 10,
    "start_time": "2022-04-21T20:23:47.360Z"
   },
   {
    "duration": 261,
    "start_time": "2022-04-21T20:23:47.372Z"
   },
   {
    "duration": 9,
    "start_time": "2022-04-21T20:23:47.635Z"
   },
   {
    "duration": 172,
    "start_time": "2022-04-21T20:23:47.646Z"
   },
   {
    "duration": 13,
    "start_time": "2022-04-21T20:23:47.821Z"
   },
   {
    "duration": 7,
    "start_time": "2022-04-21T20:23:47.836Z"
   },
   {
    "duration": 264,
    "start_time": "2022-04-21T20:23:47.845Z"
   },
   {
    "duration": 167,
    "start_time": "2022-04-21T20:23:48.111Z"
   },
   {
    "duration": 28,
    "start_time": "2022-04-21T20:23:48.280Z"
   },
   {
    "duration": 30,
    "start_time": "2022-04-21T20:23:48.310Z"
   },
   {
    "duration": 10,
    "start_time": "2022-04-21T20:23:48.342Z"
   },
   {
    "duration": 13,
    "start_time": "2022-04-21T20:23:48.354Z"
   },
   {
    "duration": 24,
    "start_time": "2022-04-21T20:23:48.368Z"
   },
   {
    "duration": 47,
    "start_time": "2022-04-21T20:23:48.394Z"
   },
   {
    "duration": 2,
    "start_time": "2022-04-21T20:23:48.443Z"
   },
   {
    "duration": 9,
    "start_time": "2022-04-21T20:23:48.447Z"
   },
   {
    "duration": 299,
    "start_time": "2022-04-21T20:23:48.458Z"
   },
   {
    "duration": 225,
    "start_time": "2022-04-21T20:23:48.759Z"
   },
   {
    "duration": 227,
    "start_time": "2022-04-21T20:23:48.986Z"
   },
   {
    "duration": 339,
    "start_time": "2022-04-21T20:23:49.215Z"
   },
   {
    "duration": 231,
    "start_time": "2022-04-21T20:23:49.555Z"
   },
   {
    "duration": 370,
    "start_time": "2022-04-21T20:23:49.788Z"
   },
   {
    "duration": 5,
    "start_time": "2022-04-21T20:25:15.163Z"
   },
   {
    "duration": 11,
    "start_time": "2022-04-21T20:25:21.871Z"
   },
   {
    "duration": 10,
    "start_time": "2022-04-21T20:25:26.093Z"
   },
   {
    "duration": 9,
    "start_time": "2022-04-21T20:25:27.333Z"
   },
   {
    "duration": 11,
    "start_time": "2022-04-21T20:25:27.343Z"
   },
   {
    "duration": 12,
    "start_time": "2022-04-21T20:26:01.695Z"
   },
   {
    "duration": 11,
    "start_time": "2022-04-21T20:26:06.488Z"
   },
   {
    "duration": 8,
    "start_time": "2022-04-21T20:26:07.565Z"
   },
   {
    "duration": 9,
    "start_time": "2022-04-21T20:26:07.762Z"
   },
   {
    "duration": 139,
    "start_time": "2022-04-21T20:26:34.254Z"
   },
   {
    "duration": 10,
    "start_time": "2022-04-21T20:26:38.201Z"
   },
   {
    "duration": 8,
    "start_time": "2022-04-21T20:26:38.568Z"
   },
   {
    "duration": 8,
    "start_time": "2022-04-21T20:26:39.447Z"
   },
   {
    "duration": 9,
    "start_time": "2022-04-21T20:26:48.443Z"
   },
   {
    "duration": 1212,
    "start_time": "2022-04-21T20:26:56.469Z"
   },
   {
    "duration": 16,
    "start_time": "2022-04-21T20:26:57.683Z"
   },
   {
    "duration": 34,
    "start_time": "2022-04-21T20:26:57.701Z"
   },
   {
    "duration": 15,
    "start_time": "2022-04-21T20:26:57.738Z"
   },
   {
    "duration": 3,
    "start_time": "2022-04-21T20:26:57.755Z"
   },
   {
    "duration": 15,
    "start_time": "2022-04-21T20:26:57.760Z"
   },
   {
    "duration": 12,
    "start_time": "2022-04-21T20:26:57.777Z"
   },
   {
    "duration": 8,
    "start_time": "2022-04-21T20:26:57.791Z"
   },
   {
    "duration": 44,
    "start_time": "2022-04-21T20:26:57.800Z"
   },
   {
    "duration": 17,
    "start_time": "2022-04-21T20:26:57.847Z"
   },
   {
    "duration": 16,
    "start_time": "2022-04-21T20:26:57.866Z"
   },
   {
    "duration": 11,
    "start_time": "2022-04-21T20:26:57.884Z"
   },
   {
    "duration": 13,
    "start_time": "2022-04-21T20:26:57.896Z"
   },
   {
    "duration": 26,
    "start_time": "2022-04-21T20:26:57.911Z"
   },
   {
    "duration": 6,
    "start_time": "2022-04-21T20:26:57.938Z"
   },
   {
    "duration": 7,
    "start_time": "2022-04-21T20:26:57.946Z"
   },
   {
    "duration": 20,
    "start_time": "2022-04-21T20:26:57.954Z"
   },
   {
    "duration": 15,
    "start_time": "2022-04-21T20:26:57.976Z"
   },
   {
    "duration": 12,
    "start_time": "2022-04-21T20:26:57.993Z"
   },
   {
    "duration": 31,
    "start_time": "2022-04-21T20:26:58.007Z"
   },
   {
    "duration": 12,
    "start_time": "2022-04-21T20:26:58.039Z"
   },
   {
    "duration": 9,
    "start_time": "2022-04-21T20:26:58.053Z"
   },
   {
    "duration": 12,
    "start_time": "2022-04-21T20:26:58.064Z"
   },
   {
    "duration": 7,
    "start_time": "2022-04-21T20:26:58.078Z"
   },
   {
    "duration": 48,
    "start_time": "2022-04-21T20:26:58.086Z"
   },
   {
    "duration": 9,
    "start_time": "2022-04-21T20:26:58.136Z"
   },
   {
    "duration": 294,
    "start_time": "2022-04-21T20:26:58.147Z"
   },
   {
    "duration": 3,
    "start_time": "2022-04-21T20:26:58.445Z"
   },
   {
    "duration": 298,
    "start_time": "2022-04-21T20:26:58.449Z"
   },
   {
    "duration": 232,
    "start_time": "2022-04-21T20:26:58.749Z"
   },
   {
    "duration": 287,
    "start_time": "2022-04-21T20:26:58.983Z"
   },
   {
    "duration": 227,
    "start_time": "2022-04-21T20:26:59.272Z"
   },
   {
    "duration": 360,
    "start_time": "2022-04-21T20:26:59.501Z"
   },
   {
    "duration": 11,
    "start_time": "2022-04-21T20:26:59.863Z"
   },
   {
    "duration": 200,
    "start_time": "2022-04-21T20:26:59.876Z"
   },
   {
    "duration": 186,
    "start_time": "2022-04-21T20:27:00.078Z"
   },
   {
    "duration": 6,
    "start_time": "2022-04-21T20:27:00.266Z"
   },
   {
    "duration": 16,
    "start_time": "2022-04-21T20:27:00.274Z"
   },
   {
    "duration": 11,
    "start_time": "2022-04-21T20:27:00.292Z"
   },
   {
    "duration": 253,
    "start_time": "2022-04-21T20:27:00.305Z"
   },
   {
    "duration": 7,
    "start_time": "2022-04-21T20:27:00.560Z"
   },
   {
    "duration": 173,
    "start_time": "2022-04-21T20:27:00.569Z"
   },
   {
    "duration": 5,
    "start_time": "2022-04-21T20:27:00.744Z"
   },
   {
    "duration": 11,
    "start_time": "2022-04-21T20:27:00.752Z"
   },
   {
    "duration": 271,
    "start_time": "2022-04-21T20:27:00.765Z"
   },
   {
    "duration": 157,
    "start_time": "2022-04-21T20:27:01.039Z"
   },
   {
    "duration": 37,
    "start_time": "2022-04-21T20:27:01.198Z"
   },
   {
    "duration": 11,
    "start_time": "2022-04-21T20:27:01.237Z"
   },
   {
    "duration": 41,
    "start_time": "2022-04-21T20:27:01.250Z"
   },
   {
    "duration": 22,
    "start_time": "2022-04-21T20:27:01.293Z"
   },
   {
    "duration": 42,
    "start_time": "2022-04-21T20:27:01.317Z"
   },
   {
    "duration": 17,
    "start_time": "2022-04-21T20:27:01.361Z"
   },
   {
    "duration": 9,
    "start_time": "2022-04-21T20:27:01.380Z"
   },
   {
    "duration": 23,
    "start_time": "2022-04-21T20:27:01.391Z"
   },
   {
    "duration": 299,
    "start_time": "2022-04-21T20:27:01.417Z"
   },
   {
    "duration": 238,
    "start_time": "2022-04-21T20:27:01.719Z"
   },
   {
    "duration": 242,
    "start_time": "2022-04-21T20:27:01.959Z"
   },
   {
    "duration": 372,
    "start_time": "2022-04-21T20:27:02.203Z"
   },
   {
    "duration": 235,
    "start_time": "2022-04-21T20:27:02.578Z"
   },
   {
    "duration": 358,
    "start_time": "2022-04-21T20:27:02.815Z"
   },
   {
    "duration": 1564,
    "start_time": "2022-04-22T12:03:34.876Z"
   },
   {
    "duration": 12,
    "start_time": "2022-04-22T12:03:36.442Z"
   },
   {
    "duration": 30,
    "start_time": "2022-04-22T12:03:36.456Z"
   },
   {
    "duration": 16,
    "start_time": "2022-04-22T12:03:36.489Z"
   },
   {
    "duration": 14,
    "start_time": "2022-04-22T12:03:36.507Z"
   },
   {
    "duration": 36,
    "start_time": "2022-04-22T12:03:36.522Z"
   },
   {
    "duration": 25,
    "start_time": "2022-04-22T12:03:36.560Z"
   },
   {
    "duration": 26,
    "start_time": "2022-04-22T12:03:36.587Z"
   },
   {
    "duration": 27,
    "start_time": "2022-04-22T12:03:36.615Z"
   },
   {
    "duration": 20,
    "start_time": "2022-04-22T12:03:36.645Z"
   },
   {
    "duration": 23,
    "start_time": "2022-04-22T12:03:36.666Z"
   },
   {
    "duration": 41,
    "start_time": "2022-04-22T12:03:36.691Z"
   },
   {
    "duration": 24,
    "start_time": "2022-04-22T12:03:36.734Z"
   },
   {
    "duration": 109,
    "start_time": "2022-04-22T12:03:36.760Z"
   },
   {
    "duration": 10,
    "start_time": "2022-04-22T12:03:36.872Z"
   },
   {
    "duration": 18,
    "start_time": "2022-04-22T12:03:36.884Z"
   },
   {
    "duration": 23,
    "start_time": "2022-04-22T12:03:36.904Z"
   },
   {
    "duration": 15,
    "start_time": "2022-04-22T12:03:36.929Z"
   },
   {
    "duration": 15,
    "start_time": "2022-04-22T12:03:36.946Z"
   },
   {
    "duration": 13,
    "start_time": "2022-04-22T12:03:36.963Z"
   },
   {
    "duration": 15,
    "start_time": "2022-04-22T12:03:36.978Z"
   },
   {
    "duration": 9,
    "start_time": "2022-04-22T12:03:36.995Z"
   },
   {
    "duration": 13,
    "start_time": "2022-04-22T12:03:37.006Z"
   },
   {
    "duration": 17,
    "start_time": "2022-04-22T12:03:37.021Z"
   },
   {
    "duration": 22,
    "start_time": "2022-04-22T12:03:37.040Z"
   },
   {
    "duration": 20,
    "start_time": "2022-04-22T12:03:37.064Z"
   },
   {
    "duration": 396,
    "start_time": "2022-04-22T12:03:37.086Z"
   },
   {
    "duration": 3,
    "start_time": "2022-04-22T12:03:37.487Z"
   },
   {
    "duration": 255,
    "start_time": "2022-04-22T12:03:37.492Z"
   },
   {
    "duration": 194,
    "start_time": "2022-04-22T12:03:37.749Z"
   },
   {
    "duration": 297,
    "start_time": "2022-04-22T12:03:37.945Z"
   },
   {
    "duration": 205,
    "start_time": "2022-04-22T12:03:38.245Z"
   },
   {
    "duration": 313,
    "start_time": "2022-04-22T12:03:38.453Z"
   },
   {
    "duration": 10,
    "start_time": "2022-04-22T12:03:38.768Z"
   },
   {
    "duration": 160,
    "start_time": "2022-04-22T12:03:38.780Z"
   },
   {
    "duration": 156,
    "start_time": "2022-04-22T12:03:38.942Z"
   },
   {
    "duration": 4,
    "start_time": "2022-04-22T12:03:39.100Z"
   },
   {
    "duration": 12,
    "start_time": "2022-04-22T12:03:39.106Z"
   },
   {
    "duration": 8,
    "start_time": "2022-04-22T12:03:39.120Z"
   },
   {
    "duration": 236,
    "start_time": "2022-04-22T12:03:39.130Z"
   },
   {
    "duration": 8,
    "start_time": "2022-04-22T12:03:39.367Z"
   },
   {
    "duration": 148,
    "start_time": "2022-04-22T12:03:39.376Z"
   },
   {
    "duration": 4,
    "start_time": "2022-04-22T12:03:39.527Z"
   },
   {
    "duration": 28,
    "start_time": "2022-04-22T12:03:39.533Z"
   },
   {
    "duration": 345,
    "start_time": "2022-04-22T12:03:39.563Z"
   },
   {
    "duration": 250,
    "start_time": "2022-04-22T12:03:39.910Z"
   },
   {
    "duration": 41,
    "start_time": "2022-04-22T12:03:40.163Z"
   },
   {
    "duration": 13,
    "start_time": "2022-04-22T12:03:40.206Z"
   },
   {
    "duration": 34,
    "start_time": "2022-04-22T12:03:40.221Z"
   },
   {
    "duration": 15,
    "start_time": "2022-04-22T12:03:40.256Z"
   },
   {
    "duration": 29,
    "start_time": "2022-04-22T12:03:40.273Z"
   },
   {
    "duration": 14,
    "start_time": "2022-04-22T12:03:40.303Z"
   },
   {
    "duration": 5,
    "start_time": "2022-04-22T12:03:40.318Z"
   },
   {
    "duration": 8,
    "start_time": "2022-04-22T12:03:40.325Z"
   },
   {
    "duration": 286,
    "start_time": "2022-04-22T12:03:40.335Z"
   },
   {
    "duration": 298,
    "start_time": "2022-04-22T12:03:40.623Z"
   },
   {
    "duration": 299,
    "start_time": "2022-04-22T12:03:40.923Z"
   },
   {
    "duration": 340,
    "start_time": "2022-04-22T12:03:41.225Z"
   },
   {
    "duration": 191,
    "start_time": "2022-04-22T12:03:41.567Z"
   },
   {
    "duration": 327,
    "start_time": "2022-04-22T12:03:41.759Z"
   }
  ],
  "kernelspec": {
   "display_name": "Python 3 (ipykernel)",
   "language": "python",
   "name": "python3"
  },
  "language_info": {
   "codemirror_mode": {
    "name": "ipython",
    "version": 3
   },
   "file_extension": ".py",
   "mimetype": "text/x-python",
   "name": "python",
   "nbconvert_exporter": "python",
   "pygments_lexer": "ipython3",
   "version": "3.9.7"
  },
  "toc": {
   "base_numbering": 1,
   "nav_menu": {},
   "number_sections": true,
   "sideBar": true,
   "skip_h1_title": true,
   "title_cell": "Table of Contents",
   "title_sidebar": "Contents",
   "toc_cell": false,
   "toc_position": {
    "height": "calc(100% - 180px)",
    "left": "10px",
    "top": "150px",
    "width": "165px"
   },
   "toc_section_display": true,
   "toc_window_display": true
  }
 },
 "nbformat": 4,
 "nbformat_minor": 2
}
